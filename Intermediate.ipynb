{
 "cells": [
  {
   "cell_type": "code",
   "execution_count": 34,
   "metadata": {},
   "outputs": [],
   "source": [
    "import pandas as pd\n",
    "import numpy as np\n",
    "import seaborn as sns\n",
    "import matplotlib.pyplot as plt\n",
    "from plotly.graph_objects import Figure\n",
    "import plotly.graph_objects as go\n",
    "import plotly.express as px\n"
   ]
  },
  {
   "cell_type": "code",
   "execution_count": 2,
   "metadata": {},
   "outputs": [],
   "source": [
    "df = pd.read_csv('data.csv')"
   ]
  },
  {
   "cell_type": "code",
   "execution_count": 3,
   "metadata": {},
   "outputs": [
    {
     "data": {
      "text/plain": [
       "(1630, 6)"
      ]
     },
     "execution_count": 3,
     "metadata": {},
     "output_type": "execute_result"
    }
   ],
   "source": [
    "df.shape"
   ]
  },
  {
   "cell_type": "code",
   "execution_count": 4,
   "metadata": {},
   "outputs": [
    {
     "data": {
      "text/html": [
       "<div>\n",
       "<style scoped>\n",
       "    .dataframe tbody tr th:only-of-type {\n",
       "        vertical-align: middle;\n",
       "    }\n",
       "\n",
       "    .dataframe tbody tr th {\n",
       "        vertical-align: top;\n",
       "    }\n",
       "\n",
       "    .dataframe thead th {\n",
       "        text-align: right;\n",
       "    }\n",
       "</style>\n",
       "<table border=\"1\" class=\"dataframe\">\n",
       "  <thead>\n",
       "    <tr style=\"text-align: right;\">\n",
       "      <th></th>\n",
       "      <th>Name</th>\n",
       "      <th>Location</th>\n",
       "      <th>Study Program</th>\n",
       "      <th>Sector</th>\n",
       "      <th>Affiliation</th>\n",
       "      <th>Rating</th>\n",
       "    </tr>\n",
       "  </thead>\n",
       "  <tbody>\n",
       "    <tr>\n",
       "      <th>0</th>\n",
       "      <td>Campus.pk Lahore</td>\n",
       "      <td>Office 206, 2nd Floor Siddique Trade Center Ma...</td>\n",
       "      <td>FSc Pre Engineering Fsc Pre Medical</td>\n",
       "      <td>Private</td>\n",
       "      <td>ads</td>\n",
       "      <td>0*</td>\n",
       "    </tr>\n",
       "    <tr>\n",
       "      <th>1</th>\n",
       "      <td>Allama Iqbal Open University Aiou Islamabad</td>\n",
       "      <td>Sector H-8, Islamabad-44000</td>\n",
       "      <td>FSc Pre Engineering ICs Computer Science FSc P...</td>\n",
       "      <td>Public</td>\n",
       "      <td>NaN</td>\n",
       "      <td>5*</td>\n",
       "    </tr>\n",
       "    <tr>\n",
       "      <th>2</th>\n",
       "      <td>Government College University Gcu Lahore</td>\n",
       "      <td>GC University, Katchery Road Lahore 54000</td>\n",
       "      <td>FSc Pre Engineering ICS Computer Science FSc P...</td>\n",
       "      <td>Public</td>\n",
       "      <td>HEC</td>\n",
       "      <td>4*</td>\n",
       "    </tr>\n",
       "    <tr>\n",
       "      <th>3</th>\n",
       "      <td>Govt College University GCU Faisalabad</td>\n",
       "      <td>Kotwali Rd, Faisalabad 38000</td>\n",
       "      <td>FSc Pre-Engineering ICS FSc Pre-Medical Icom F...</td>\n",
       "      <td>Public</td>\n",
       "      <td>HEC</td>\n",
       "      <td>3*</td>\n",
       "    </tr>\n",
       "    <tr>\n",
       "      <th>4</th>\n",
       "      <td>Lahore College For Women University (Lcwu) Lahore</td>\n",
       "      <td>Near Wapda Flats, Jail Road, Lahore</td>\n",
       "      <td>FA Arts FSc Pre Engineering ICS Physics ICS St...</td>\n",
       "      <td>Public</td>\n",
       "      <td>NaN</td>\n",
       "      <td>5*</td>\n",
       "    </tr>\n",
       "  </tbody>\n",
       "</table>\n",
       "</div>"
      ],
      "text/plain": [
       "                                                Name  \\\n",
       "0                                   Campus.pk Lahore   \n",
       "1        Allama Iqbal Open University Aiou Islamabad   \n",
       "2           Government College University Gcu Lahore   \n",
       "3             Govt College University GCU Faisalabad   \n",
       "4  Lahore College For Women University (Lcwu) Lahore   \n",
       "\n",
       "                                            Location  \\\n",
       "0  Office 206, 2nd Floor Siddique Trade Center Ma...   \n",
       "1                        Sector H-8, Islamabad-44000   \n",
       "2          GC University, Katchery Road Lahore 54000   \n",
       "3                       Kotwali Rd, Faisalabad 38000   \n",
       "4                Near Wapda Flats, Jail Road, Lahore   \n",
       "\n",
       "                                       Study Program   Sector Affiliation  \\\n",
       "0                FSc Pre Engineering Fsc Pre Medical  Private         ads   \n",
       "1  FSc Pre Engineering ICs Computer Science FSc P...   Public         NaN   \n",
       "2  FSc Pre Engineering ICS Computer Science FSc P...   Public         HEC   \n",
       "3  FSc Pre-Engineering ICS FSc Pre-Medical Icom F...   Public         HEC   \n",
       "4  FA Arts FSc Pre Engineering ICS Physics ICS St...   Public         NaN   \n",
       "\n",
       "  Rating  \n",
       "0     0*  \n",
       "1     5*  \n",
       "2     4*  \n",
       "3     3*  \n",
       "4     5*  "
      ]
     },
     "execution_count": 4,
     "metadata": {},
     "output_type": "execute_result"
    }
   ],
   "source": [
    "df.head()"
   ]
  },
  {
   "cell_type": "code",
   "execution_count": 6,
   "metadata": {},
   "outputs": [
    {
     "name": "stdout",
     "output_type": "stream",
     "text": [
      "<class 'pandas.core.frame.DataFrame'>\n",
      "RangeIndex: 1630 entries, 0 to 1629\n",
      "Data columns (total 6 columns):\n",
      " #   Column         Non-Null Count  Dtype \n",
      "---  ------         --------------  ----- \n",
      " 0   Name           1630 non-null   object\n",
      " 1   Location       1626 non-null   object\n",
      " 2   Study Program  1630 non-null   object\n",
      " 3   Sector         1101 non-null   object\n",
      " 4   Affiliation    155 non-null    object\n",
      " 5   Rating         1630 non-null   object\n",
      "dtypes: object(6)\n",
      "memory usage: 76.5+ KB\n"
     ]
    }
   ],
   "source": [
    "df.info()"
   ]
  },
  {
   "cell_type": "markdown",
   "metadata": {},
   "source": [
    "## Data cleaning"
   ]
  },
  {
   "cell_type": "markdown",
   "metadata": {},
   "source": [
    "#### Checking Null values"
   ]
  },
  {
   "cell_type": "code",
   "execution_count": 7,
   "metadata": {},
   "outputs": [
    {
     "data": {
      "text/plain": [
       "Name                0\n",
       "Location            4\n",
       "Study Program       0\n",
       "Sector            529\n",
       "Affiliation      1475\n",
       "Rating              0\n",
       "dtype: int64"
      ]
     },
     "execution_count": 7,
     "metadata": {},
     "output_type": "execute_result"
    }
   ],
   "source": [
    "df.isnull().sum()"
   ]
  },
  {
   "cell_type": "code",
   "execution_count": 8,
   "metadata": {},
   "outputs": [
    {
     "data": {
      "text/plain": [
       "Name              0.000000\n",
       "Location          0.245399\n",
       "Study Program     0.000000\n",
       "Sector           32.453988\n",
       "Affiliation      90.490798\n",
       "Rating            0.000000\n",
       "dtype: float64"
      ]
     },
     "execution_count": 8,
     "metadata": {},
     "output_type": "execute_result"
    }
   ],
   "source": [
    "(df.isnull().sum() /len(df) ) *100"
   ]
  },
  {
   "cell_type": "code",
   "execution_count": 9,
   "metadata": {},
   "outputs": [
    {
     "data": {
      "text/plain": [
       "<Axes: >"
      ]
     },
     "execution_count": 9,
     "metadata": {},
     "output_type": "execute_result"
    },
    {
     "data": {
      "image/png": "[encoded data removed]",
      "text/plain": [
       "<Figure size 640x480 with 2 Axes>"
      ]
     },
     "metadata": {},
     "output_type": "display_data"
    }
   ],
   "source": [
    "sns.heatmap(df.isnull())"
   ]
  },
  {
   "cell_type": "markdown",
   "metadata": {},
   "source": [
    "* Affiliation column has 90 % of missing values.\n",
    "* Sector column has 32 % of missing values.\n",
    "* Location have only 4 missing values."
   ]
  },
  {
   "cell_type": "markdown",
   "metadata": {},
   "source": [
    "### Dealing with missing values"
   ]
  },
  {
   "cell_type": "markdown",
   "metadata": {},
   "source": [
    "* We can drop the column Affiliation due to it's 90 % of mising values.\n",
    "* Location have only 4 missing values so we can drop 4 rows.\n",
    "* In Sector column we can add Semi in place of mising value "
   ]
  },
  {
   "cell_type": "code",
   "execution_count": 10,
   "metadata": {},
   "outputs": [],
   "source": [
    "df.dropna(subset=['Location'], inplace=True)\n"
   ]
  },
  {
   "cell_type": "code",
   "execution_count": 11,
   "metadata": {},
   "outputs": [
    {
     "name": "stderr",
     "output_type": "stream",
     "text": [
      "C:\\Users\\dell\\AppData\\Local\\Temp\\ipykernel_3180\\390573714.py:1: FutureWarning: A value is trying to be set on a copy of a DataFrame or Series through chained assignment using an inplace method.\n",
      "The behavior will change in pandas 3.0. This inplace method will never work because the intermediate object on which we are setting values always behaves as a copy.\n",
      "\n",
      "For example, when doing 'df[col].method(value, inplace=True)', try using 'df.method({col: value}, inplace=True)' or df[col] = df[col].method(value) instead, to perform the operation inplace on the original object.\n",
      "\n",
      "\n",
      "  df['Sector'].fillna(value=\"Semi\", inplace=True)\n"
     ]
    }
   ],
   "source": [
    "df['Sector'].fillna(value=\"Semi\", inplace=True)"
   ]
  },
  {
   "cell_type": "code",
   "execution_count": 12,
   "metadata": {},
   "outputs": [
    {
     "data": {
      "text/plain": [
       "(1626, 6)"
      ]
     },
     "execution_count": 12,
     "metadata": {},
     "output_type": "execute_result"
    }
   ],
   "source": [
    "df.shape"
   ]
  },
  {
   "cell_type": "code",
   "execution_count": 13,
   "metadata": {},
   "outputs": [],
   "source": [
    "df.drop(columns='Affiliation', inplace=True)"
   ]
  },
  {
   "cell_type": "markdown",
   "metadata": {},
   "source": [
    "### Checking for duplicate data"
   ]
  },
  {
   "cell_type": "code",
   "execution_count": 14,
   "metadata": {},
   "outputs": [
    {
     "data": {
      "text/plain": [
       "Name             0\n",
       "Location         0\n",
       "Study Program    0\n",
       "Sector           0\n",
       "Rating           0\n",
       "dtype: object"
      ]
     },
     "execution_count": 14,
     "metadata": {},
     "output_type": "execute_result"
    }
   ],
   "source": [
    "df[df.duplicated()].sum()"
   ]
  },
  {
   "cell_type": "code",
   "execution_count": 15,
   "metadata": {},
   "outputs": [
    {
     "data": {
      "text/html": [
       "<div>\n",
       "<style scoped>\n",
       "    .dataframe tbody tr th:only-of-type {\n",
       "        vertical-align: middle;\n",
       "    }\n",
       "\n",
       "    .dataframe tbody tr th {\n",
       "        vertical-align: top;\n",
       "    }\n",
       "\n",
       "    .dataframe thead th {\n",
       "        text-align: right;\n",
       "    }\n",
       "</style>\n",
       "<table border=\"1\" class=\"dataframe\">\n",
       "  <thead>\n",
       "    <tr style=\"text-align: right;\">\n",
       "      <th></th>\n",
       "      <th>Name</th>\n",
       "      <th>Location</th>\n",
       "      <th>Study Program</th>\n",
       "      <th>Sector</th>\n",
       "      <th>Rating</th>\n",
       "    </tr>\n",
       "  </thead>\n",
       "  <tbody>\n",
       "    <tr>\n",
       "      <th>count</th>\n",
       "      <td>1626</td>\n",
       "      <td>1626</td>\n",
       "      <td>1626</td>\n",
       "      <td>1626</td>\n",
       "      <td>1626</td>\n",
       "    </tr>\n",
       "    <tr>\n",
       "      <th>unique</th>\n",
       "      <td>1626</td>\n",
       "      <td>1573</td>\n",
       "      <td>772</td>\n",
       "      <td>3</td>\n",
       "      <td>21</td>\n",
       "    </tr>\n",
       "    <tr>\n",
       "      <th>top</th>\n",
       "      <td>Campus.pk Lahore</td>\n",
       "      <td>Chakwal</td>\n",
       "      <td>FA ICS Computer Science FSc Pre Medical FSc Pr...</td>\n",
       "      <td>Private</td>\n",
       "      <td>0*</td>\n",
       "    </tr>\n",
       "    <tr>\n",
       "      <th>freq</th>\n",
       "      <td>1</td>\n",
       "      <td>11</td>\n",
       "      <td>49</td>\n",
       "      <td>561</td>\n",
       "      <td>1116</td>\n",
       "    </tr>\n",
       "  </tbody>\n",
       "</table>\n",
       "</div>"
      ],
      "text/plain": [
       "                    Name Location  \\\n",
       "count               1626     1626   \n",
       "unique              1626     1573   \n",
       "top     Campus.pk Lahore  Chakwal   \n",
       "freq                   1       11   \n",
       "\n",
       "                                            Study Program   Sector Rating  \n",
       "count                                                1626     1626   1626  \n",
       "unique                                                772        3     21  \n",
       "top     FA ICS Computer Science FSc Pre Medical FSc Pr...  Private     0*  \n",
       "freq                                                   49      561   1116  "
      ]
     },
     "execution_count": 15,
     "metadata": {},
     "output_type": "execute_result"
    }
   ],
   "source": [
    "df.describe()"
   ]
  },
  {
   "cell_type": "markdown",
   "metadata": {},
   "source": [
    "### We can make a new column by name of city derived from Name column for better understanding, because given column of Location in data has mixed up values that includes postal codes, postal address along city names."
   ]
  },
  {
   "cell_type": "code",
   "execution_count": 16,
   "metadata": {},
   "outputs": [],
   "source": [
    "df['City'] = df['Name'].apply(lambda x:x.split()[-1])"
   ]
  },
  {
   "cell_type": "code",
   "execution_count": 17,
   "metadata": {},
   "outputs": [
    {
     "data": {
      "text/html": [
       "<div>\n",
       "<style scoped>\n",
       "    .dataframe tbody tr th:only-of-type {\n",
       "        vertical-align: middle;\n",
       "    }\n",
       "\n",
       "    .dataframe tbody tr th {\n",
       "        vertical-align: top;\n",
       "    }\n",
       "\n",
       "    .dataframe thead th {\n",
       "        text-align: right;\n",
       "    }\n",
       "</style>\n",
       "<table border=\"1\" class=\"dataframe\">\n",
       "  <thead>\n",
       "    <tr style=\"text-align: right;\">\n",
       "      <th></th>\n",
       "      <th>Name</th>\n",
       "      <th>Location</th>\n",
       "      <th>Study Program</th>\n",
       "      <th>Sector</th>\n",
       "      <th>Rating</th>\n",
       "      <th>City</th>\n",
       "    </tr>\n",
       "  </thead>\n",
       "  <tbody>\n",
       "    <tr>\n",
       "      <th>408</th>\n",
       "      <td>Cadet College Razmak, Bannu</td>\n",
       "      <td>Razmak, North Waziristan Agency, Federally Adm...</td>\n",
       "      <td>FA Icom FSc Pre Engineering FSc Pre Medical IC...</td>\n",
       "      <td>Semi</td>\n",
       "      <td>0*</td>\n",
       "      <td>Bannu</td>\n",
       "    </tr>\n",
       "    <tr>\n",
       "      <th>762</th>\n",
       "      <td>Govt Degree College for Women Bilal Gunj Lahore</td>\n",
       "      <td>Govt Degree College for Women Bilal Gunj Lahore</td>\n",
       "      <td>FA FSc Pre Engineering FSc Pre Medical ICom ICS</td>\n",
       "      <td>Public</td>\n",
       "      <td>0.5*</td>\n",
       "      <td>Lahore</td>\n",
       "    </tr>\n",
       "    <tr>\n",
       "      <th>26</th>\n",
       "      <td>Govt MAO College Lahore</td>\n",
       "      <td>Lower Mall Road Lahore opp Edcuation University</td>\n",
       "      <td>FSc Pre Engineering ICS Statistics ICS Physics...</td>\n",
       "      <td>Public</td>\n",
       "      <td>4*</td>\n",
       "      <td>Lahore</td>\n",
       "    </tr>\n",
       "    <tr>\n",
       "      <th>1254</th>\n",
       "      <td>Cast Metals &amp; Foundry Technology Centre Sialkot</td>\n",
       "      <td>Small Industries Estate, Daska, Sialkot.</td>\n",
       "      <td>Diploma in Associate Engineers in Mechanical T...</td>\n",
       "      <td>Private</td>\n",
       "      <td>0*</td>\n",
       "      <td>Sialkot</td>\n",
       "    </tr>\n",
       "  </tbody>\n",
       "</table>\n",
       "</div>"
      ],
      "text/plain": [
       "                                                 Name  \\\n",
       "408                       Cadet College Razmak, Bannu   \n",
       "762   Govt Degree College for Women Bilal Gunj Lahore   \n",
       "26                            Govt MAO College Lahore   \n",
       "1254  Cast Metals & Foundry Technology Centre Sialkot   \n",
       "\n",
       "                                               Location  \\\n",
       "408   Razmak, North Waziristan Agency, Federally Adm...   \n",
       "762     Govt Degree College for Women Bilal Gunj Lahore   \n",
       "26      Lower Mall Road Lahore opp Edcuation University   \n",
       "1254           Small Industries Estate, Daska, Sialkot.   \n",
       "\n",
       "                                          Study Program   Sector Rating  \\\n",
       "408   FA Icom FSc Pre Engineering FSc Pre Medical IC...     Semi     0*   \n",
       "762    FA FSc Pre Engineering FSc Pre Medical ICom ICS    Public   0.5*   \n",
       "26    FSc Pre Engineering ICS Statistics ICS Physics...   Public     4*   \n",
       "1254  Diploma in Associate Engineers in Mechanical T...  Private     0*   \n",
       "\n",
       "         City  \n",
       "408     Bannu  \n",
       "762    Lahore  \n",
       "26     Lahore  \n",
       "1254  Sialkot  "
      ]
     },
     "execution_count": 17,
     "metadata": {},
     "output_type": "execute_result"
    }
   ],
   "source": [
    "df.sample(4)"
   ]
  },
  {
   "cell_type": "markdown",
   "metadata": {},
   "source": [
    "### We can also remove the * sign in the rating column for making it int-data type for better use during plotting."
   ]
  },
  {
   "cell_type": "code",
   "execution_count": 18,
   "metadata": {},
   "outputs": [],
   "source": [
    "df['Rating'] = df['Rating'].str.replace('*', '')"
   ]
  },
  {
   "cell_type": "code",
   "execution_count": 19,
   "metadata": {},
   "outputs": [],
   "source": [
    "df['Rating'] = df['Rating'].astype('float').round()\n"
   ]
  },
  {
   "cell_type": "code",
   "execution_count": 20,
   "metadata": {},
   "outputs": [],
   "source": [
    "df['Rating'] = df['Rating'].astype('int')"
   ]
  },
  {
   "cell_type": "code",
   "execution_count": 21,
   "metadata": {},
   "outputs": [
    {
     "name": "stdout",
     "output_type": "stream",
     "text": [
      "<class 'pandas.core.frame.DataFrame'>\n",
      "Index: 1626 entries, 0 to 1629\n",
      "Data columns (total 6 columns):\n",
      " #   Column         Non-Null Count  Dtype \n",
      "---  ------         --------------  ----- \n",
      " 0   Name           1626 non-null   object\n",
      " 1   Location       1626 non-null   object\n",
      " 2   Study Program  1626 non-null   object\n",
      " 3   Sector         1626 non-null   object\n",
      " 4   Rating         1626 non-null   int32 \n",
      " 5   City           1626 non-null   object\n",
      "dtypes: int32(1), object(5)\n",
      "memory usage: 82.6+ KB\n"
     ]
    }
   ],
   "source": [
    "df.info()"
   ]
  },
  {
   "cell_type": "code",
   "execution_count": 22,
   "metadata": {},
   "outputs": [
    {
     "data": {
      "text/plain": [
       "<Axes: >"
      ]
     },
     "execution_count": 22,
     "metadata": {},
     "output_type": "execute_result"
    },
    {
     "data": {
      "image/png": "[encoded data removed]",
      "text/plain": [
       "<Figure size 640x480 with 2 Axes>"
      ]
     },
     "metadata": {},
     "output_type": "display_data"
    }
   ],
   "source": [
    "sns.heatmap(df.isnull())"
   ]
  },
  {
   "cell_type": "markdown",
   "metadata": {},
   "source": [
    "## Now we are all set for exploring our Data"
   ]
  },
  {
   "cell_type": "code",
   "execution_count": 23,
   "metadata": {},
   "outputs": [
    {
     "data": {
      "text/plain": [
       "Name             1626\n",
       "Location         1573\n",
       "Study Program     772\n",
       "Sector              3\n",
       "Rating              6\n",
       "City              176\n",
       "dtype: int64"
      ]
     },
     "execution_count": 23,
     "metadata": {},
     "output_type": "execute_result"
    }
   ],
   "source": [
    "df.nunique()"
   ]
  },
  {
   "cell_type": "markdown",
   "metadata": {},
   "source": [
    "### Number of Sectors"
   ]
  },
  {
   "cell_type": "code",
   "execution_count": 32,
   "metadata": {},
   "outputs": [
    {
     "data": {
      "text/plain": [
       "Sector\n",
       "Private    561\n",
       "Public     539\n",
       "Semi       526\n",
       "Name: count, dtype: int64"
      ]
     },
     "execution_count": 32,
     "metadata": {},
     "output_type": "execute_result"
    }
   ],
   "source": [
    "df['Sector'].value_counts()"
   ]
  },
  {
   "cell_type": "code",
   "execution_count": 24,
   "metadata": {},
   "outputs": [
    {
     "data": {
      "text/plain": [
       "<Axes: xlabel='Sector'>"
      ]
     },
     "execution_count": 24,
     "metadata": {},
     "output_type": "execute_result"
    },
    {
     "data": {
      "image/png": "[encoded data removed]",
      "text/plain": [
       "<Figure size 640x480 with 1 Axes>"
      ]
     },
     "metadata": {},
     "output_type": "display_data"
    }
   ],
   "source": [
    "df['Sector'].value_counts().plot(kind='bar')"
   ]
  },
  {
   "cell_type": "markdown",
   "metadata": {},
   "source": [
    "### Sectors performance according to the raings."
   ]
  },
  {
   "cell_type": "code",
   "execution_count": 25,
   "metadata": {},
   "outputs": [
    {
     "data": {
      "text/plain": [
       "<Axes: xlabel='Rating', ylabel='count'>"
      ]
     },
     "execution_count": 25,
     "metadata": {},
     "output_type": "execute_result"
    },
    {
     "data": {
      "image/png": "[encoded data removed]",
      "text/plain": [
       "<Figure size 640x480 with 1 Axes>"
      ]
     },
     "metadata": {},
     "output_type": "display_data"
    }
   ],
   "source": [
    "sns.countplot(df, x=\"Rating\", hue=\"Sector\")"
   ]
  },
  {
   "cell_type": "markdown",
   "metadata": {},
   "source": [
    "### Number of Colleges in each city."
   ]
  },
  {
   "cell_type": "code",
   "execution_count": 37,
   "metadata": {},
   "outputs": [
    {
     "data": {
      "application/vnd.plotly.v1+json": {
       "config": {
        "plotlyServerURL": "https://plot.ly"
       },
       "data": [
        {
         "hovertemplate": "color=Lahore<br>City=%{x}<br>value=%{y}<extra></extra>",
         "legendgroup": "Lahore",
         "marker": {
          "color": "#636efa",
          "symbol": "circle"
         },
         "mode": "markers",
         "name": "Lahore",
         "orientation": "v",
         "showlegend": true,
         "type": "scatter",
         "x": [
          "Lahore"
         ],
         "xaxis": "x",
         "y": [
          203
         ],
         "yaxis": "y"
        },
        {
         "hovertemplate": "color=Islamabad<br>City=%{x}<br>value=%{y}<extra></extra>",
         "legendgroup": "Islamabad",
         "marker": {
          "color": "#EF553B",
          "symbol": "circle"
         },
         "mode": "markers",
         "name": "Islamabad",
         "orientation": "v",
         "showlegend": true,
         "type": "scatter",
         "x": [
          "Islamabad"
         ],
         "xaxis": "x",
         "y": [
          115
         ],
         "yaxis": "y"
        },
        {
         "hovertemplate": "color=Karachi<br>City=%{x}<br>value=%{y}<extra></extra>",
         "legendgroup": "Karachi",
         "marker": {
          "color": "#00cc96",
          "symbol": "circle"
         },
         "mode": "markers",
         "name": "Karachi",
         "orientation": "v",
         "showlegend": true,
         "type": "scatter",
         "x": [
          "Karachi"
         ],
         "xaxis": "x",
         "y": [
          105
         ],
         "yaxis": "y"
        },
        {
         "hovertemplate": "color=Rawalpindi<br>City=%{x}<br>value=%{y}<extra></extra>",
         "legendgroup": "Rawalpindi",
         "marker": {
          "color": "#ab63fa",
          "symbol": "circle"
         },
         "mode": "markers",
         "name": "Rawalpindi",
         "orientation": "v",
         "showlegend": true,
         "type": "scatter",
         "x": [
          "Rawalpindi"
         ],
         "xaxis": "x",
         "y": [
          94
         ],
         "yaxis": "y"
        },
        {
         "hovertemplate": "color=Faisalabad<br>City=%{x}<br>value=%{y}<extra></extra>",
         "legendgroup": "Faisalabad",
         "marker": {
          "color": "#FFA15A",
          "symbol": "circle"
         },
         "mode": "markers",
         "name": "Faisalabad",
         "orientation": "v",
         "showlegend": true,
         "type": "scatter",
         "x": [
          "Faisalabad"
         ],
         "xaxis": "x",
         "y": [
          86
         ],
         "yaxis": "y"
        },
        {
         "hovertemplate": "color=Peshawar<br>City=%{x}<br>value=%{y}<extra></extra>",
         "legendgroup": "Peshawar",
         "marker": {
          "color": "#19d3f3",
          "symbol": "circle"
         },
         "mode": "markers",
         "name": "Peshawar",
         "orientation": "v",
         "showlegend": true,
         "type": "scatter",
         "x": [
          "Peshawar"
         ],
         "xaxis": "x",
         "y": [
          61
         ],
         "yaxis": "y"
        },
        {
         "hovertemplate": "color=Sargodha<br>City=%{x}<br>value=%{y}<extra></extra>",
         "legendgroup": "Sargodha",
         "marker": {
          "color": "#FF6692",
          "symbol": "circle"
         },
         "mode": "markers",
         "name": "Sargodha",
         "orientation": "v",
         "showlegend": true,
         "type": "scatter",
         "x": [
          "Sargodha"
         ],
         "xaxis": "x",
         "y": [
          60
         ],
         "yaxis": "y"
        },
        {
         "hovertemplate": "color=Gujranwala<br>City=%{x}<br>value=%{y}<extra></extra>",
         "legendgroup": "Gujranwala",
         "marker": {
          "color": "#B6E880",
          "symbol": "circle"
         },
         "mode": "markers",
         "name": "Gujranwala",
         "orientation": "v",
         "showlegend": true,
         "type": "scatter",
         "x": [
          "Gujranwala"
         ],
         "xaxis": "x",
         "y": [
          58
         ],
         "yaxis": "y"
        },
        {
         "hovertemplate": "color=Multan<br>City=%{x}<br>value=%{y}<extra></extra>",
         "legendgroup": "Multan",
         "marker": {
          "color": "#FF97FF",
          "symbol": "circle"
         },
         "mode": "markers",
         "name": "Multan",
         "orientation": "v",
         "showlegend": true,
         "type": "scatter",
         "x": [
          "Multan"
         ],
         "xaxis": "x",
         "y": [
          40
         ],
         "yaxis": "y"
        },
        {
         "hovertemplate": "color=Cantt<br>City=%{x}<br>value=%{y}<extra></extra>",
         "legendgroup": "Cantt",
         "marker": {
          "color": "#FECB52",
          "symbol": "circle"
         },
         "mode": "markers",
         "name": "Cantt",
         "orientation": "v",
         "showlegend": true,
         "type": "scatter",
         "x": [
          "Cantt"
         ],
         "xaxis": "x",
         "y": [
          39
         ],
         "yaxis": "y"
        },
        {
         "hovertemplate": "color=Bahawalpur<br>City=%{x}<br>value=%{y}<extra></extra>",
         "legendgroup": "Bahawalpur",
         "marker": {
          "color": "#636efa",
          "symbol": "circle"
         },
         "mode": "markers",
         "name": "Bahawalpur",
         "orientation": "v",
         "showlegend": true,
         "type": "scatter",
         "x": [
          "Bahawalpur"
         ],
         "xaxis": "x",
         "y": [
          37
         ],
         "yaxis": "y"
        },
        {
         "hovertemplate": "color=Gujrat<br>City=%{x}<br>value=%{y}<extra></extra>",
         "legendgroup": "Gujrat",
         "marker": {
          "color": "#EF553B",
          "symbol": "circle"
         },
         "mode": "markers",
         "name": "Gujrat",
         "orientation": "v",
         "showlegend": true,
         "type": "scatter",
         "x": [
          "Gujrat"
         ],
         "xaxis": "x",
         "y": [
          36
         ],
         "yaxis": "y"
        },
        {
         "hovertemplate": "color=Khan<br>City=%{x}<br>value=%{y}<extra></extra>",
         "legendgroup": "Khan",
         "marker": {
          "color": "#00cc96",
          "symbol": "circle"
         },
         "mode": "markers",
         "name": "Khan",
         "orientation": "v",
         "showlegend": true,
         "type": "scatter",
         "x": [
          "Khan"
         ],
         "xaxis": "x",
         "y": [
          34
         ],
         "yaxis": "y"
        },
        {
         "hovertemplate": "color=College<br>City=%{x}<br>value=%{y}<extra></extra>",
         "legendgroup": "College",
         "marker": {
          "color": "#ab63fa",
          "symbol": "circle"
         },
         "mode": "markers",
         "name": "College",
         "orientation": "v",
         "showlegend": true,
         "type": "scatter",
         "x": [
          "College"
         ],
         "xaxis": "x",
         "y": [
          30
         ],
         "yaxis": "y"
        },
        {
         "hovertemplate": "color=Attock<br>City=%{x}<br>value=%{y}<extra></extra>",
         "legendgroup": "Attock",
         "marker": {
          "color": "#FFA15A",
          "symbol": "circle"
         },
         "mode": "markers",
         "name": "Attock",
         "orientation": "v",
         "showlegend": true,
         "type": "scatter",
         "x": [
          "Attock"
         ],
         "xaxis": "x",
         "y": [
          27
         ],
         "yaxis": "y"
        },
        {
         "hovertemplate": "color=Bhakkar<br>City=%{x}<br>value=%{y}<extra></extra>",
         "legendgroup": "Bhakkar",
         "marker": {
          "color": "#19d3f3",
          "symbol": "circle"
         },
         "mode": "markers",
         "name": "Bhakkar",
         "orientation": "v",
         "showlegend": true,
         "type": "scatter",
         "x": [
          "Bhakkar"
         ],
         "xaxis": "x",
         "y": [
          26
         ],
         "yaxis": "y"
        },
        {
         "hovertemplate": "color=Bahawalnagar<br>City=%{x}<br>value=%{y}<extra></extra>",
         "legendgroup": "Bahawalnagar",
         "marker": {
          "color": "#FF6692",
          "symbol": "circle"
         },
         "mode": "markers",
         "name": "Bahawalnagar",
         "orientation": "v",
         "showlegend": true,
         "type": "scatter",
         "x": [
          "Bahawalnagar"
         ],
         "xaxis": "x",
         "y": [
          23
         ],
         "yaxis": "y"
        },
        {
         "hovertemplate": "color=Abbottabad<br>City=%{x}<br>value=%{y}<extra></extra>",
         "legendgroup": "Abbottabad",
         "marker": {
          "color": "#B6E880",
          "symbol": "circle"
         },
         "mode": "markers",
         "name": "Abbottabad",
         "orientation": "v",
         "showlegend": true,
         "type": "scatter",
         "x": [
          "Abbottabad"
         ],
         "xaxis": "x",
         "y": [
          23
         ],
         "yaxis": "y"
        },
        {
         "hovertemplate": "color=Jhang<br>City=%{x}<br>value=%{y}<extra></extra>",
         "legendgroup": "Jhang",
         "marker": {
          "color": "#FF97FF",
          "symbol": "circle"
         },
         "mode": "markers",
         "name": "Jhang",
         "orientation": "v",
         "showlegend": true,
         "type": "scatter",
         "x": [
          "Jhang"
         ],
         "xaxis": "x",
         "y": [
          22
         ],
         "yaxis": "y"
        },
        {
         "hovertemplate": "color=Sialkot<br>City=%{x}<br>value=%{y}<extra></extra>",
         "legendgroup": "Sialkot",
         "marker": {
          "color": "#FECB52",
          "symbol": "circle"
         },
         "mode": "markers",
         "name": "Sialkot",
         "orientation": "v",
         "showlegend": true,
         "type": "scatter",
         "x": [
          "Sialkot"
         ],
         "xaxis": "x",
         "y": [
          21
         ],
         "yaxis": "y"
        },
        {
         "hovertemplate": "color=Kohat<br>City=%{x}<br>value=%{y}<extra></extra>",
         "legendgroup": "Kohat",
         "marker": {
          "color": "#636efa",
          "symbol": "circle"
         },
         "mode": "markers",
         "name": "Kohat",
         "orientation": "v",
         "showlegend": true,
         "type": "scatter",
         "x": [
          "Kohat"
         ],
         "xaxis": "x",
         "y": [
          20
         ],
         "yaxis": "y"
        },
        {
         "hovertemplate": "color=Kasur<br>City=%{x}<br>value=%{y}<extra></extra>",
         "legendgroup": "Kasur",
         "marker": {
          "color": "#EF553B",
          "symbol": "circle"
         },
         "mode": "markers",
         "name": "Kasur",
         "orientation": "v",
         "showlegend": true,
         "type": "scatter",
         "x": [
          "Kasur"
         ],
         "xaxis": "x",
         "y": [
          18
         ],
         "yaxis": "y"
        },
        {
         "hovertemplate": "color=Chakwal<br>City=%{x}<br>value=%{y}<extra></extra>",
         "legendgroup": "Chakwal",
         "marker": {
          "color": "#00cc96",
          "symbol": "circle"
         },
         "mode": "markers",
         "name": "Chakwal",
         "orientation": "v",
         "showlegend": true,
         "type": "scatter",
         "x": [
          "Chakwal"
         ],
         "xaxis": "x",
         "y": [
          18
         ],
         "yaxis": "y"
        },
        {
         "hovertemplate": "color=Khanewal<br>City=%{x}<br>value=%{y}<extra></extra>",
         "legendgroup": "Khanewal",
         "marker": {
          "color": "#ab63fa",
          "symbol": "circle"
         },
         "mode": "markers",
         "name": "Khanewal",
         "orientation": "v",
         "showlegend": true,
         "type": "scatter",
         "x": [
          "Khanewal"
         ],
         "xaxis": "x",
         "y": [
          16
         ],
         "yaxis": "y"
        },
        {
         "hovertemplate": "color=Jhelum<br>City=%{x}<br>value=%{y}<extra></extra>",
         "legendgroup": "Jhelum",
         "marker": {
          "color": "#FFA15A",
          "symbol": "circle"
         },
         "mode": "markers",
         "name": "Jhelum",
         "orientation": "v",
         "showlegend": true,
         "type": "scatter",
         "x": [
          "Jhelum"
         ],
         "xaxis": "x",
         "y": [
          15
         ],
         "yaxis": "y"
        },
        {
         "hovertemplate": "color=Khushab<br>City=%{x}<br>value=%{y}<extra></extra>",
         "legendgroup": "Khushab",
         "marker": {
          "color": "#19d3f3",
          "symbol": "circle"
         },
         "mode": "markers",
         "name": "Khushab",
         "orientation": "v",
         "showlegend": true,
         "type": "scatter",
         "x": [
          "Khushab"
         ],
         "xaxis": "x",
         "y": [
          14
         ],
         "yaxis": "y"
        },
        {
         "hovertemplate": "color=Sahiwal<br>City=%{x}<br>value=%{y}<extra></extra>",
         "legendgroup": "Sahiwal",
         "marker": {
          "color": "#FF6692",
          "symbol": "circle"
         },
         "mode": "markers",
         "name": "Sahiwal",
         "orientation": "v",
         "showlegend": true,
         "type": "scatter",
         "x": [
          "Sahiwal"
         ],
         "xaxis": "x",
         "y": [
          13
         ],
         "yaxis": "y"
        },
        {
         "hovertemplate": "color=Sheikhupura<br>City=%{x}<br>value=%{y}<extra></extra>",
         "legendgroup": "Sheikhupura",
         "marker": {
          "color": "#B6E880",
          "symbol": "circle"
         },
         "mode": "markers",
         "name": "Sheikhupura",
         "orientation": "v",
         "showlegend": true,
         "type": "scatter",
         "x": [
          "Sheikhupura"
         ],
         "xaxis": "x",
         "y": [
          12
         ],
         "yaxis": "y"
        },
        {
         "hovertemplate": "color=Bhimber<br>City=%{x}<br>value=%{y}<extra></extra>",
         "legendgroup": "Bhimber",
         "marker": {
          "color": "#FF97FF",
          "symbol": "circle"
         },
         "mode": "markers",
         "name": "Bhimber",
         "orientation": "v",
         "showlegend": true,
         "type": "scatter",
         "x": [
          "Bhimber"
         ],
         "xaxis": "x",
         "y": [
          11
         ],
         "yaxis": "y"
        },
        {
         "hovertemplate": "color=Chiniot<br>City=%{x}<br>value=%{y}<extra></extra>",
         "legendgroup": "Chiniot",
         "marker": {
          "color": "#FECB52",
          "symbol": "circle"
         },
         "mode": "markers",
         "name": "Chiniot",
         "orientation": "v",
         "showlegend": true,
         "type": "scatter",
         "x": [
          "Chiniot"
         ],
         "xaxis": "x",
         "y": [
          11
         ],
         "yaxis": "y"
        },
        {
         "hovertemplate": "color=Bannu<br>City=%{x}<br>value=%{y}<extra></extra>",
         "legendgroup": "Bannu",
         "marker": {
          "color": "#636efa",
          "symbol": "circle"
         },
         "mode": "markers",
         "name": "Bannu",
         "orientation": "v",
         "showlegend": true,
         "type": "scatter",
         "x": [
          "Bannu"
         ],
         "xaxis": "x",
         "y": [
          11
         ],
         "yaxis": "y"
        },
        {
         "hovertemplate": "color=Hafizabad<br>City=%{x}<br>value=%{y}<extra></extra>",
         "legendgroup": "Hafizabad",
         "marker": {
          "color": "#EF553B",
          "symbol": "circle"
         },
         "mode": "markers",
         "name": "Hafizabad",
         "orientation": "v",
         "showlegend": true,
         "type": "scatter",
         "x": [
          "Hafizabad"
         ],
         "xaxis": "x",
         "y": [
          11
         ],
         "yaxis": "y"
        },
        {
         "hovertemplate": "color=Quetta<br>City=%{x}<br>value=%{y}<extra></extra>",
         "legendgroup": "Quetta",
         "marker": {
          "color": "#00cc96",
          "symbol": "circle"
         },
         "mode": "markers",
         "name": "Quetta",
         "orientation": "v",
         "showlegend": true,
         "type": "scatter",
         "x": [
          "Quetta"
         ],
         "xaxis": "x",
         "y": [
          11
         ],
         "yaxis": "y"
        },
        {
         "hovertemplate": "color=Okara<br>City=%{x}<br>value=%{y}<extra></extra>",
         "legendgroup": "Okara",
         "marker": {
          "color": "#ab63fa",
          "symbol": "circle"
         },
         "mode": "markers",
         "name": "Okara",
         "orientation": "v",
         "showlegend": true,
         "type": "scatter",
         "x": [
          "Okara"
         ],
         "xaxis": "x",
         "y": [
          10
         ],
         "yaxis": "y"
        },
        {
         "hovertemplate": "color=Hyderabad<br>City=%{x}<br>value=%{y}<extra></extra>",
         "legendgroup": "Hyderabad",
         "marker": {
          "color": "#FFA15A",
          "symbol": "circle"
         },
         "mode": "markers",
         "name": "Hyderabad",
         "orientation": "v",
         "showlegend": true,
         "type": "scatter",
         "x": [
          "Hyderabad"
         ],
         "xaxis": "x",
         "y": [
          10
         ],
         "yaxis": "y"
        },
        {
         "hovertemplate": "color=Colleges<br>City=%{x}<br>value=%{y}<extra></extra>",
         "legendgroup": "Colleges",
         "marker": {
          "color": "#19d3f3",
          "symbol": "circle"
         },
         "mode": "markers",
         "name": "Colleges",
         "orientation": "v",
         "showlegend": true,
         "type": "scatter",
         "x": [
          "Colleges"
         ],
         "xaxis": "x",
         "y": [
          9
         ],
         "yaxis": "y"
        },
        {
         "hovertemplate": "color=Sciences<br>City=%{x}<br>value=%{y}<extra></extra>",
         "legendgroup": "Sciences",
         "marker": {
          "color": "#FF6692",
          "symbol": "circle"
         },
         "mode": "markers",
         "name": "Sciences",
         "orientation": "v",
         "showlegend": true,
         "type": "scatter",
         "x": [
          "Sciences"
         ],
         "xaxis": "x",
         "y": [
          9
         ],
         "yaxis": "y"
        },
        {
         "hovertemplate": "color=Mardan<br>City=%{x}<br>value=%{y}<extra></extra>",
         "legendgroup": "Mardan",
         "marker": {
          "color": "#B6E880",
          "symbol": "circle"
         },
         "mode": "markers",
         "name": "Mardan",
         "orientation": "v",
         "showlegend": true,
         "type": "scatter",
         "x": [
          "Mardan"
         ],
         "xaxis": "x",
         "y": [
          7
         ],
         "yaxis": "y"
        },
        {
         "hovertemplate": "color=Commerce<br>City=%{x}<br>value=%{y}<extra></extra>",
         "legendgroup": "Commerce",
         "marker": {
          "color": "#FF97FF",
          "symbol": "circle"
         },
         "mode": "markers",
         "name": "Commerce",
         "orientation": "v",
         "showlegend": true,
         "type": "scatter",
         "x": [
          "Commerce"
         ],
         "xaxis": "x",
         "y": [
          7
         ],
         "yaxis": "y"
        },
        {
         "hovertemplate": "color=Mirpur<br>City=%{x}<br>value=%{y}<extra></extra>",
         "legendgroup": "Mirpur",
         "marker": {
          "color": "#FECB52",
          "symbol": "circle"
         },
         "mode": "markers",
         "name": "Mirpur",
         "orientation": "v",
         "showlegend": true,
         "type": "scatter",
         "x": [
          "Mirpur"
         ],
         "xaxis": "x",
         "y": [
          6
         ],
         "yaxis": "y"
        },
        {
         "hovertemplate": "color=Mianwali<br>City=%{x}<br>value=%{y}<extra></extra>",
         "legendgroup": "Mianwali",
         "marker": {
          "color": "#636efa",
          "symbol": "circle"
         },
         "mode": "markers",
         "name": "Mianwali",
         "orientation": "v",
         "showlegend": true,
         "type": "scatter",
         "x": [
          "Mianwali"
         ],
         "xaxis": "x",
         "y": [
          6
         ],
         "yaxis": "y"
        },
        {
         "hovertemplate": "color=Singh<br>City=%{x}<br>value=%{y}<extra></extra>",
         "legendgroup": "Singh",
         "marker": {
          "color": "#EF553B",
          "symbol": "circle"
         },
         "mode": "markers",
         "name": "Singh",
         "orientation": "v",
         "showlegend": true,
         "type": "scatter",
         "x": [
          "Singh"
         ],
         "xaxis": "x",
         "y": [
          5
         ],
         "yaxis": "y"
        },
        {
         "hovertemplate": "color=System<br>City=%{x}<br>value=%{y}<extra></extra>",
         "legendgroup": "System",
         "marker": {
          "color": "#00cc96",
          "symbol": "circle"
         },
         "mode": "markers",
         "name": "System",
         "orientation": "v",
         "showlegend": true,
         "type": "scatter",
         "x": [
          "System"
         ],
         "xaxis": "x",
         "y": [
          5
         ],
         "yaxis": "y"
        },
        {
         "hovertemplate": "color=Swat<br>City=%{x}<br>value=%{y}<extra></extra>",
         "legendgroup": "Swat",
         "marker": {
          "color": "#ab63fa",
          "symbol": "circle"
         },
         "mode": "markers",
         "name": "Swat",
         "orientation": "v",
         "showlegend": true,
         "type": "scatter",
         "x": [
          "Swat"
         ],
         "xaxis": "x",
         "y": [
          5
         ],
         "yaxis": "y"
        },
        {
         "hovertemplate": "color=AJK<br>City=%{x}<br>value=%{y}<extra></extra>",
         "legendgroup": "AJK",
         "marker": {
          "color": "#FFA15A",
          "symbol": "circle"
         },
         "mode": "markers",
         "name": "AJK",
         "orientation": "v",
         "showlegend": true,
         "type": "scatter",
         "x": [
          "AJK"
         ],
         "xaxis": "x",
         "y": [
          5
         ],
         "yaxis": "y"
        },
        {
         "hovertemplate": "color=Arifwala<br>City=%{x}<br>value=%{y}<extra></extra>",
         "legendgroup": "Arifwala",
         "marker": {
          "color": "#19d3f3",
          "symbol": "circle"
         },
         "mode": "markers",
         "name": "Arifwala",
         "orientation": "v",
         "showlegend": true,
         "type": "scatter",
         "x": [
          "Arifwala"
         ],
         "xaxis": "x",
         "y": [
          5
         ],
         "yaxis": "y"
        },
        {
         "hovertemplate": "color=Bagh<br>City=%{x}<br>value=%{y}<extra></extra>",
         "legendgroup": "Bagh",
         "marker": {
          "color": "#FF6692",
          "symbol": "circle"
         },
         "mode": "markers",
         "name": "Bagh",
         "orientation": "v",
         "showlegend": true,
         "type": "scatter",
         "x": [
          "Bagh"
         ],
         "xaxis": "x",
         "y": [
          5
         ],
         "yaxis": "y"
        },
        {
         "hovertemplate": "color=Badin<br>City=%{x}<br>value=%{y}<extra></extra>",
         "legendgroup": "Badin",
         "marker": {
          "color": "#B6E880",
          "symbol": "circle"
         },
         "mode": "markers",
         "name": "Badin",
         "orientation": "v",
         "showlegend": true,
         "type": "scatter",
         "x": [
          "Badin"
         ],
         "xaxis": "x",
         "y": [
          4
         ],
         "yaxis": "y"
        },
        {
         "hovertemplate": "color=Kashmir<br>City=%{x}<br>value=%{y}<extra></extra>",
         "legendgroup": "Kashmir",
         "marker": {
          "color": "#FF97FF",
          "symbol": "circle"
         },
         "mode": "markers",
         "name": "Kashmir",
         "orientation": "v",
         "showlegend": true,
         "type": "scatter",
         "x": [
          "Kashmir"
         ],
         "xaxis": "x",
         "y": [
          4
         ],
         "yaxis": "y"
        },
        {
         "hovertemplate": "color=Bhalwal<br>City=%{x}<br>value=%{y}<extra></extra>",
         "legendgroup": "Bhalwal",
         "marker": {
          "color": "#FECB52",
          "symbol": "circle"
         },
         "mode": "markers",
         "name": "Bhalwal",
         "orientation": "v",
         "showlegend": true,
         "type": "scatter",
         "x": [
          "Bhalwal"
         ],
         "xaxis": "x",
         "y": [
          4
         ],
         "yaxis": "y"
        },
        {
         "hovertemplate": "color=Pattoki<br>City=%{x}<br>value=%{y}<extra></extra>",
         "legendgroup": "Pattoki",
         "marker": {
          "color": "#636efa",
          "symbol": "circle"
         },
         "mode": "markers",
         "name": "Pattoki",
         "orientation": "v",
         "showlegend": true,
         "type": "scatter",
         "x": [
          "Pattoki"
         ],
         "xaxis": "x",
         "y": [
          4
         ],
         "yaxis": "y"
        },
        {
         "hovertemplate": "color=Sahib<br>City=%{x}<br>value=%{y}<extra></extra>",
         "legendgroup": "Sahib",
         "marker": {
          "color": "#EF553B",
          "symbol": "circle"
         },
         "mode": "markers",
         "name": "Sahib",
         "orientation": "v",
         "showlegend": true,
         "type": "scatter",
         "x": [
          "Sahib"
         ],
         "xaxis": "x",
         "y": [
          4
         ],
         "yaxis": "y"
        },
        {
         "hovertemplate": "color=Vehari<br>City=%{x}<br>value=%{y}<extra></extra>",
         "legendgroup": "Vehari",
         "marker": {
          "color": "#00cc96",
          "symbol": "circle"
         },
         "mode": "markers",
         "name": "Vehari",
         "orientation": "v",
         "showlegend": true,
         "type": "scatter",
         "x": [
          "Vehari"
         ],
         "xaxis": "x",
         "y": [
          4
         ],
         "yaxis": "y"
        },
        {
         "hovertemplate": "color=Campus<br>City=%{x}<br>value=%{y}<extra></extra>",
         "legendgroup": "Campus",
         "marker": {
          "color": "#ab63fa",
          "symbol": "circle"
         },
         "mode": "markers",
         "name": "Campus",
         "orientation": "v",
         "showlegend": true,
         "type": "scatter",
         "x": [
          "Campus"
         ],
         "xaxis": "x",
         "y": [
          4
         ],
         "yaxis": "y"
        },
        {
         "hovertemplate": "color=Nowshera<br>City=%{x}<br>value=%{y}<extra></extra>",
         "legendgroup": "Nowshera",
         "marker": {
          "color": "#FFA15A",
          "symbol": "circle"
         },
         "mode": "markers",
         "name": "Nowshera",
         "orientation": "v",
         "showlegend": true,
         "type": "scatter",
         "x": [
          "Nowshera"
         ],
         "xaxis": "x",
         "y": [
          4
         ],
         "yaxis": "y"
        },
        {
         "hovertemplate": "color=Malakand<br>City=%{x}<br>value=%{y}<extra></extra>",
         "legendgroup": "Malakand",
         "marker": {
          "color": "#19d3f3",
          "symbol": "circle"
         },
         "mode": "markers",
         "name": "Malakand",
         "orientation": "v",
         "showlegend": true,
         "type": "scatter",
         "x": [
          "Malakand"
         ],
         "xaxis": "x",
         "y": [
          3
         ],
         "yaxis": "y"
        },
        {
         "hovertemplate": "color=Pakpattan<br>City=%{x}<br>value=%{y}<extra></extra>",
         "legendgroup": "Pakpattan",
         "marker": {
          "color": "#FF6692",
          "symbol": "circle"
         },
         "mode": "markers",
         "name": "Pakpattan",
         "orientation": "v",
         "showlegend": true,
         "type": "scatter",
         "x": [
          "Pakpattan"
         ],
         "xaxis": "x",
         "y": [
          3
         ],
         "yaxis": "y"
        },
        {
         "hovertemplate": "color=Chichawatni<br>City=%{x}<br>value=%{y}<extra></extra>",
         "legendgroup": "Chichawatni",
         "marker": {
          "color": "#B6E880",
          "symbol": "circle"
         },
         "mode": "markers",
         "name": "Chichawatni",
         "orientation": "v",
         "showlegend": true,
         "type": "scatter",
         "x": [
          "Chichawatni"
         ],
         "xaxis": "x",
         "y": [
          3
         ],
         "yaxis": "y"
        },
        {
         "hovertemplate": "color=Mansehra<br>City=%{x}<br>value=%{y}<extra></extra>",
         "legendgroup": "Mansehra",
         "marker": {
          "color": "#FF97FF",
          "symbol": "circle"
         },
         "mode": "markers",
         "name": "Mansehra",
         "orientation": "v",
         "showlegend": true,
         "type": "scatter",
         "x": [
          "Mansehra"
         ],
         "xaxis": "x",
         "y": [
          3
         ],
         "yaxis": "y"
        },
        {
         "hovertemplate": "color=Girls<br>City=%{x}<br>value=%{y}<extra></extra>",
         "legendgroup": "Girls",
         "marker": {
          "color": "#FECB52",
          "symbol": "circle"
         },
         "mode": "markers",
         "name": "Girls",
         "orientation": "v",
         "showlegend": true,
         "type": "scatter",
         "x": [
          "Girls"
         ],
         "xaxis": "x",
         "y": [
          3
         ],
         "yaxis": "y"
        },
        {
         "hovertemplate": "color=Lodhran<br>City=%{x}<br>value=%{y}<extra></extra>",
         "legendgroup": "Lodhran",
         "marker": {
          "color": "#636efa",
          "symbol": "circle"
         },
         "mode": "markers",
         "name": "Lodhran",
         "orientation": "v",
         "showlegend": true,
         "type": "scatter",
         "x": [
          "Lodhran"
         ],
         "xaxis": "x",
         "y": [
          3
         ],
         "yaxis": "y"
        },
        {
         "hovertemplate": "color=Chattha<br>City=%{x}<br>value=%{y}<extra></extra>",
         "legendgroup": "Chattha",
         "marker": {
          "color": "#EF553B",
          "symbol": "circle"
         },
         "mode": "markers",
         "name": "Chattha",
         "orientation": "v",
         "showlegend": true,
         "type": "scatter",
         "x": [
          "Chattha"
         ],
         "xaxis": "x",
         "y": [
          3
         ],
         "yaxis": "y"
        },
        {
         "hovertemplate": "color=Daska<br>City=%{x}<br>value=%{y}<extra></extra>",
         "legendgroup": "Daska",
         "marker": {
          "color": "#00cc96",
          "symbol": "circle"
         },
         "mode": "markers",
         "name": "Daska",
         "orientation": "v",
         "showlegend": true,
         "type": "scatter",
         "x": [
          "Daska"
         ],
         "xaxis": "x",
         "y": [
          3
         ],
         "yaxis": "y"
        },
        {
         "hovertemplate": "color=Pasrur<br>City=%{x}<br>value=%{y}<extra></extra>",
         "legendgroup": "Pasrur",
         "marker": {
          "color": "#ab63fa",
          "symbol": "circle"
         },
         "mode": "markers",
         "name": "Pasrur",
         "orientation": "v",
         "showlegend": true,
         "type": "scatter",
         "x": [
          "Pasrur"
         ],
         "xaxis": "x",
         "y": [
          3
         ],
         "yaxis": "y"
        },
        {
         "hovertemplate": "color=Narowal<br>City=%{x}<br>value=%{y}<extra></extra>",
         "legendgroup": "Narowal",
         "marker": {
          "color": "#FFA15A",
          "symbol": "circle"
         },
         "mode": "markers",
         "name": "Narowal",
         "orientation": "v",
         "showlegend": true,
         "type": "scatter",
         "x": [
          "Narowal"
         ],
         "xaxis": "x",
         "y": [
          3
         ],
         "yaxis": "y"
        },
        {
         "hovertemplate": "color=Science<br>City=%{x}<br>value=%{y}<extra></extra>",
         "legendgroup": "Science",
         "marker": {
          "color": "#19d3f3",
          "symbol": "circle"
         },
         "mode": "markers",
         "name": "Science",
         "orientation": "v",
         "showlegend": true,
         "type": "scatter",
         "x": [
          "Science"
         ],
         "xaxis": "x",
         "y": [
          3
         ],
         "yaxis": "y"
        },
        {
         "hovertemplate": "color=Swabi<br>City=%{x}<br>value=%{y}<extra></extra>",
         "legendgroup": "Swabi",
         "marker": {
          "color": "#FF6692",
          "symbol": "circle"
         },
         "mode": "markers",
         "name": "Swabi",
         "orientation": "v",
         "showlegend": true,
         "type": "scatter",
         "x": [
          "Swabi"
         ],
         "xaxis": "x",
         "y": [
          3
         ],
         "yaxis": "y"
        },
        {
         "hovertemplate": "color=Murree<br>City=%{x}<br>value=%{y}<extra></extra>",
         "legendgroup": "Murree",
         "marker": {
          "color": "#B6E880",
          "symbol": "circle"
         },
         "mode": "markers",
         "name": "Murree",
         "orientation": "v",
         "showlegend": true,
         "type": "scatter",
         "x": [
          "Murree"
         ],
         "xaxis": "x",
         "y": [
          3
         ],
         "yaxis": "y"
        },
        {
         "hovertemplate": "color=Technology<br>City=%{x}<br>value=%{y}<extra></extra>",
         "legendgroup": "Technology",
         "marker": {
          "color": "#FF97FF",
          "symbol": "circle"
         },
         "mode": "markers",
         "name": "Technology",
         "orientation": "v",
         "showlegend": true,
         "type": "scatter",
         "x": [
          "Technology"
         ],
         "xaxis": "x",
         "y": [
          3
         ],
         "yaxis": "y"
        },
        {
         "hovertemplate": "color=Kharian<br>City=%{x}<br>value=%{y}<extra></extra>",
         "legendgroup": "Kharian",
         "marker": {
          "color": "#FECB52",
          "symbol": "circle"
         },
         "mode": "markers",
         "name": "Kharian",
         "orientation": "v",
         "showlegend": true,
         "type": "scatter",
         "x": [
          "Kharian"
         ],
         "xaxis": "x",
         "y": [
          3
         ],
         "yaxis": "y"
        },
        {
         "hovertemplate": "color=Sukkur<br>City=%{x}<br>value=%{y}<extra></extra>",
         "legendgroup": "Sukkur",
         "marker": {
          "color": "#636efa",
          "symbol": "circle"
         },
         "mode": "markers",
         "name": "Sukkur",
         "orientation": "v",
         "showlegend": true,
         "type": "scatter",
         "x": [
          "Sukkur"
         ],
         "xaxis": "x",
         "y": [
          3
         ],
         "yaxis": "y"
        },
        {
         "hovertemplate": "color=Haripur<br>City=%{x}<br>value=%{y}<extra></extra>",
         "legendgroup": "Haripur",
         "marker": {
          "color": "#EF553B",
          "symbol": "circle"
         },
         "mode": "markers",
         "name": "Haripur",
         "orientation": "v",
         "showlegend": true,
         "type": "scatter",
         "x": [
          "Haripur"
         ],
         "xaxis": "x",
         "y": [
          2
         ],
         "yaxis": "y"
        },
        {
         "hovertemplate": "color=Chishtian<br>City=%{x}<br>value=%{y}<extra></extra>",
         "legendgroup": "Chishtian",
         "marker": {
          "color": "#00cc96",
          "symbol": "circle"
         },
         "mode": "markers",
         "name": "Chishtian",
         "orientation": "v",
         "showlegend": true,
         "type": "scatter",
         "x": [
          "Chishtian"
         ],
         "xaxis": "x",
         "y": [
          2
         ],
         "yaxis": "y"
        },
        {
         "hovertemplate": "color=Depalpur<br>City=%{x}<br>value=%{y}<extra></extra>",
         "legendgroup": "Depalpur",
         "marker": {
          "color": "#ab63fa",
          "symbol": "circle"
         },
         "mode": "markers",
         "name": "Depalpur",
         "orientation": "v",
         "showlegend": true,
         "type": "scatter",
         "x": [
          "Depalpur"
         ],
         "xaxis": "x",
         "y": [
          2
         ],
         "yaxis": "y"
        },
        {
         "hovertemplate": "color=Nagar<br>City=%{x}<br>value=%{y}<extra></extra>",
         "legendgroup": "Nagar",
         "marker": {
          "color": "#FFA15A",
          "symbol": "circle"
         },
         "mode": "markers",
         "name": "Nagar",
         "orientation": "v",
         "showlegend": true,
         "type": "scatter",
         "x": [
          "Nagar"
         ],
         "xaxis": "x",
         "y": [
          2
         ],
         "yaxis": "y"
        },
        {
         "hovertemplate": "color=Layyah<br>City=%{x}<br>value=%{y}<extra></extra>",
         "legendgroup": "Layyah",
         "marker": {
          "color": "#19d3f3",
          "symbol": "circle"
         },
         "mode": "markers",
         "name": "Layyah",
         "orientation": "v",
         "showlegend": true,
         "type": "scatter",
         "x": [
          "Layyah"
         ],
         "xaxis": "x",
         "y": [
          2
         ],
         "yaxis": "y"
        },
        {
         "hovertemplate": "color=Khanpur<br>City=%{x}<br>value=%{y}<extra></extra>",
         "legendgroup": "Khanpur",
         "marker": {
          "color": "#FF6692",
          "symbol": "circle"
         },
         "mode": "markers",
         "name": "Khanpur",
         "orientation": "v",
         "showlegend": true,
         "type": "scatter",
         "x": [
          "Khanpur"
         ],
         "xaxis": "x",
         "y": [
          2
         ],
         "yaxis": "y"
        },
        {
         "hovertemplate": "color=Sambrial<br>City=%{x}<br>value=%{y}<extra></extra>",
         "legendgroup": "Sambrial",
         "marker": {
          "color": "#B6E880",
          "symbol": "circle"
         },
         "mode": "markers",
         "name": "Sambrial",
         "orientation": "v",
         "showlegend": true,
         "type": "scatter",
         "x": [
          "Sambrial"
         ],
         "xaxis": "x",
         "y": [
          2
         ],
         "yaxis": "y"
        },
        {
         "hovertemplate": "color=Chitral<br>City=%{x}<br>value=%{y}<extra></extra>",
         "legendgroup": "Chitral",
         "marker": {
          "color": "#FF97FF",
          "symbol": "circle"
         },
         "mode": "markers",
         "name": "Chitral",
         "orientation": "v",
         "showlegend": true,
         "type": "scatter",
         "x": [
          "Chitral"
         ],
         "xaxis": "x",
         "y": [
          2
         ],
         "yaxis": "y"
        },
        {
         "hovertemplate": "color=Jang<br>City=%{x}<br>value=%{y}<extra></extra>",
         "legendgroup": "Jang",
         "marker": {
          "color": "#FECB52",
          "symbol": "circle"
         },
         "mode": "markers",
         "name": "Jang",
         "orientation": "v",
         "showlegend": true,
         "type": "scatter",
         "x": [
          "Jang"
         ],
         "xaxis": "x",
         "y": [
          2
         ],
         "yaxis": "y"
        },
        {
         "hovertemplate": "color=Shiekhupura<br>City=%{x}<br>value=%{y}<extra></extra>",
         "legendgroup": "Shiekhupura",
         "marker": {
          "color": "#636efa",
          "symbol": "circle"
         },
         "mode": "markers",
         "name": "Shiekhupura",
         "orientation": "v",
         "showlegend": true,
         "type": "scatter",
         "x": [
          "Shiekhupura"
         ],
         "xaxis": "x",
         "y": [
          2
         ],
         "yaxis": "y"
        },
        {
         "hovertemplate": "color=City<br>City=%{x}<br>value=%{y}<extra></extra>",
         "legendgroup": "City",
         "marker": {
          "color": "#EF553B",
          "symbol": "circle"
         },
         "mode": "markers",
         "name": "City",
         "orientation": "v",
         "showlegend": true,
         "type": "scatter",
         "x": [
          "City"
         ],
         "xaxis": "x",
         "y": [
          2
         ],
         "yaxis": "y"
        },
        {
         "hovertemplate": "color=School<br>City=%{x}<br>value=%{y}<extra></extra>",
         "legendgroup": "School",
         "marker": {
          "color": "#00cc96",
          "symbol": "circle"
         },
         "mode": "markers",
         "name": "School",
         "orientation": "v",
         "showlegend": true,
         "type": "scatter",
         "x": [
          "School"
         ],
         "xaxis": "x",
         "y": [
          2
         ],
         "yaxis": "y"
        },
        {
         "hovertemplate": "color=Management<br>City=%{x}<br>value=%{y}<extra></extra>",
         "legendgroup": "Management",
         "marker": {
          "color": "#ab63fa",
          "symbol": "circle"
         },
         "mode": "markers",
         "name": "Management",
         "orientation": "v",
         "showlegend": true,
         "type": "scatter",
         "x": [
          "Management"
         ],
         "xaxis": "x",
         "y": [
          2
         ],
         "yaxis": "y"
        },
        {
         "hovertemplate": "color=Dargai<br>City=%{x}<br>value=%{y}<extra></extra>",
         "legendgroup": "Dargai",
         "marker": {
          "color": "#FFA15A",
          "symbol": "circle"
         },
         "mode": "markers",
         "name": "Dargai",
         "orientation": "v",
         "showlegend": true,
         "type": "scatter",
         "x": [
          "Dargai"
         ],
         "xaxis": "x",
         "y": [
          2
         ],
         "yaxis": "y"
        },
        {
         "hovertemplate": "color=Sharaqpur<br>City=%{x}<br>value=%{y}<extra></extra>",
         "legendgroup": "Sharaqpur",
         "marker": {
          "color": "#19d3f3",
          "symbol": "circle"
         },
         "mode": "markers",
         "name": "Sharaqpur",
         "orientation": "v",
         "showlegend": true,
         "type": "scatter",
         "x": [
          "Sharaqpur"
         ],
         "xaxis": "x",
         "y": [
          2
         ],
         "yaxis": "y"
        },
        {
         "hovertemplate": "color=Chawinda<br>City=%{x}<br>value=%{y}<extra></extra>",
         "legendgroup": "Chawinda",
         "marker": {
          "color": "#FF6692",
          "symbol": "circle"
         },
         "mode": "markers",
         "name": "Chawinda",
         "orientation": "v",
         "showlegend": true,
         "type": "scatter",
         "x": [
          "Chawinda"
         ],
         "xaxis": "x",
         "y": [
          2
         ],
         "yaxis": "y"
        },
        {
         "hovertemplate": "color=Muridke<br>City=%{x}<br>value=%{y}<extra></extra>",
         "legendgroup": "Muridke",
         "marker": {
          "color": "#B6E880",
          "symbol": "circle"
         },
         "mode": "markers",
         "name": "Muridke",
         "orientation": "v",
         "showlegend": true,
         "type": "scatter",
         "x": [
          "Muridke"
         ],
         "xaxis": "x",
         "y": [
          2
         ],
         "yaxis": "y"
        },
        {
         "hovertemplate": "color=Bhera<br>City=%{x}<br>value=%{y}<extra></extra>",
         "legendgroup": "Bhera",
         "marker": {
          "color": "#FF97FF",
          "symbol": "circle"
         },
         "mode": "markers",
         "name": "Bhera",
         "orientation": "v",
         "showlegend": true,
         "type": "scatter",
         "x": [
          "Bhera"
         ],
         "xaxis": "x",
         "y": [
          2
         ],
         "yaxis": "y"
        },
        {
         "hovertemplate": "color=Bahauddin<br>City=%{x}<br>value=%{y}<extra></extra>",
         "legendgroup": "Bahauddin",
         "marker": {
          "color": "#FECB52",
          "symbol": "circle"
         },
         "mode": "markers",
         "name": "Bahauddin",
         "orientation": "v",
         "showlegend": true,
         "type": "scatter",
         "x": [
          "Bahauddin"
         ],
         "xaxis": "x",
         "y": [
          2
         ],
         "yaxis": "y"
        },
        {
         "hovertemplate": "color=Larkana<br>City=%{x}<br>value=%{y}<extra></extra>",
         "legendgroup": "Larkana",
         "marker": {
          "color": "#636efa",
          "symbol": "circle"
         },
         "mode": "markers",
         "name": "Larkana",
         "orientation": "v",
         "showlegend": true,
         "type": "scatter",
         "x": [
          "Larkana"
         ],
         "xaxis": "x",
         "y": [
          2
         ],
         "yaxis": "y"
        },
        {
         "hovertemplate": "color=Burewala<br>City=%{x}<br>value=%{y}<extra></extra>",
         "legendgroup": "Burewala",
         "marker": {
          "color": "#EF553B",
          "symbol": "circle"
         },
         "mode": "markers",
         "name": "Burewala",
         "orientation": "v",
         "showlegend": true,
         "type": "scatter",
         "x": [
          "Burewala"
         ],
         "xaxis": "x",
         "y": [
          2
         ],
         "yaxis": "y"
        },
        {
         "hovertemplate": "color=Satta<br>City=%{x}<br>value=%{y}<extra></extra>",
         "legendgroup": "Satta",
         "marker": {
          "color": "#00cc96",
          "symbol": "circle"
         },
         "mode": "markers",
         "name": "Satta",
         "orientation": "v",
         "showlegend": true,
         "type": "scatter",
         "x": [
          "Satta"
         ],
         "xaxis": "x",
         "y": [
          2
         ],
         "yaxis": "y"
        },
        {
         "hovertemplate": "color=Women<br>City=%{x}<br>value=%{y}<extra></extra>",
         "legendgroup": "Women",
         "marker": {
          "color": "#ab63fa",
          "symbol": "circle"
         },
         "mode": "markers",
         "name": "Women",
         "orientation": "v",
         "showlegend": true,
         "type": "scatter",
         "x": [
          "Women"
         ],
         "xaxis": "x",
         "y": [
          2
         ],
         "yaxis": "y"
        },
        {
         "hovertemplate": "color=Academy<br>City=%{x}<br>value=%{y}<extra></extra>",
         "legendgroup": "Academy",
         "marker": {
          "color": "#FFA15A",
          "symbol": "circle"
         },
         "mode": "markers",
         "name": "Academy",
         "orientation": "v",
         "showlegend": true,
         "type": "scatter",
         "x": [
          "Academy"
         ],
         "xaxis": "x",
         "y": [
          2
         ],
         "yaxis": "y"
        },
        {
         "hovertemplate": "color=Baha-ud-Din<br>City=%{x}<br>value=%{y}<extra></extra>",
         "legendgroup": "Baha-ud-Din",
         "marker": {
          "color": "#19d3f3",
          "symbol": "circle"
         },
         "mode": "markers",
         "name": "Baha-ud-Din",
         "orientation": "v",
         "showlegend": true,
         "type": "scatter",
         "x": [
          "Baha-ud-Din"
         ],
         "xaxis": "x",
         "y": [
          2
         ],
         "yaxis": "y"
        },
        {
         "hovertemplate": "color=Jaranwala<br>City=%{x}<br>value=%{y}<extra></extra>",
         "legendgroup": "Jaranwala",
         "marker": {
          "color": "#FF6692",
          "symbol": "circle"
         },
         "mode": "markers",
         "name": "Jaranwala",
         "orientation": "v",
         "showlegend": true,
         "type": "scatter",
         "x": [
          "Jaranwala"
         ],
         "xaxis": "x",
         "y": [
          2
         ],
         "yaxis": "y"
        },
        {
         "hovertemplate": "color=khan<br>City=%{x}<br>value=%{y}<extra></extra>",
         "legendgroup": "khan",
         "marker": {
          "color": "#B6E880",
          "symbol": "circle"
         },
         "mode": "markers",
         "name": "khan",
         "orientation": "v",
         "showlegend": true,
         "type": "scatter",
         "x": [
          "khan"
         ],
         "xaxis": "x",
         "y": [
          1
         ],
         "yaxis": "y"
        },
        {
         "hovertemplate": "color=(BCKK)<br>City=%{x}<br>value=%{y}<extra></extra>",
         "legendgroup": "(BCKK)",
         "marker": {
          "color": "#FF97FF",
          "symbol": "circle"
         },
         "mode": "markers",
         "name": "(BCKK)",
         "orientation": "v",
         "showlegend": true,
         "type": "scatter",
         "x": [
          "(BCKK)"
         ],
         "xaxis": "x",
         "y": [
          1
         ],
         "yaxis": "y"
        },
        {
         "hovertemplate": "color=Pattan<br>City=%{x}<br>value=%{y}<extra></extra>",
         "legendgroup": "Pattan",
         "marker": {
          "color": "#FECB52",
          "symbol": "circle"
         },
         "mode": "markers",
         "name": "Pattan",
         "orientation": "v",
         "showlegend": true,
         "type": "scatter",
         "x": [
          "Pattan"
         ],
         "xaxis": "x",
         "y": [
          1
         ],
         "yaxis": "y"
        },
        {
         "hovertemplate": "color=Saydan<br>City=%{x}<br>value=%{y}<extra></extra>",
         "legendgroup": "Saydan",
         "marker": {
          "color": "#636efa",
          "symbol": "circle"
         },
         "mode": "markers",
         "name": "Saydan",
         "orientation": "v",
         "showlegend": true,
         "type": "scatter",
         "x": [
          "Saydan"
         ],
         "xaxis": "x",
         "y": [
          1
         ],
         "yaxis": "y"
        },
        {
         "hovertemplate": "color=Karak<br>City=%{x}<br>value=%{y}<extra></extra>",
         "legendgroup": "Karak",
         "marker": {
          "color": "#EF553B",
          "symbol": "circle"
         },
         "mode": "markers",
         "name": "Karak",
         "orientation": "v",
         "showlegend": true,
         "type": "scatter",
         "x": [
          "Karak"
         ],
         "xaxis": "x",
         "y": [
          1
         ],
         "yaxis": "y"
        },
        {
         "hovertemplate": "color=Road<br>City=%{x}<br>value=%{y}<extra></extra>",
         "legendgroup": "Road",
         "marker": {
          "color": "#00cc96",
          "symbol": "circle"
         },
         "mode": "markers",
         "name": "Road",
         "orientation": "v",
         "showlegend": true,
         "type": "scatter",
         "x": [
          "Road"
         ],
         "xaxis": "x",
         "y": [
          1
         ],
         "yaxis": "y"
        },
        {
         "hovertemplate": "color=Studies<br>City=%{x}<br>value=%{y}<extra></extra>",
         "legendgroup": "Studies",
         "marker": {
          "color": "#ab63fa",
          "symbol": "circle"
         },
         "mode": "markers",
         "name": "Studies",
         "orientation": "v",
         "showlegend": true,
         "type": "scatter",
         "x": [
          "Studies"
         ],
         "xaxis": "x",
         "y": [
          1
         ],
         "yaxis": "y"
        },
        {
         "hovertemplate": "color=Alamgir<br>City=%{x}<br>value=%{y}<extra></extra>",
         "legendgroup": "Alamgir",
         "marker": {
          "color": "#FFA15A",
          "symbol": "circle"
         },
         "mode": "markers",
         "name": "Alamgir",
         "orientation": "v",
         "showlegend": true,
         "type": "scatter",
         "x": [
          "Alamgir"
         ],
         "xaxis": "x",
         "y": [
          1
         ],
         "yaxis": "y"
        },
        {
         "hovertemplate": "color=Zafarwal<br>City=%{x}<br>value=%{y}<extra></extra>",
         "legendgroup": "Zafarwal",
         "marker": {
          "color": "#19d3f3",
          "symbol": "circle"
         },
         "mode": "markers",
         "name": "Zafarwal",
         "orientation": "v",
         "showlegend": true,
         "type": "scatter",
         "x": [
          "Zafarwal"
         ],
         "xaxis": "x",
         "y": [
          1
         ],
         "yaxis": "y"
        },
        {
         "hovertemplate": "color=Pakistan<br>City=%{x}<br>value=%{y}<extra></extra>",
         "legendgroup": "Pakistan",
         "marker": {
          "color": "#FF6692",
          "symbol": "circle"
         },
         "mode": "markers",
         "name": "Pakistan",
         "orientation": "v",
         "showlegend": true,
         "type": "scatter",
         "x": [
          "Pakistan"
         ],
         "xaxis": "x",
         "y": [
          1
         ],
         "yaxis": "y"
        },
        {
         "hovertemplate": "color=Tailwala<br>City=%{x}<br>value=%{y}<extra></extra>",
         "legendgroup": "Tailwala",
         "marker": {
          "color": "#B6E880",
          "symbol": "circle"
         },
         "mode": "markers",
         "name": "Tailwala",
         "orientation": "v",
         "showlegend": true,
         "type": "scatter",
         "x": [
          "Tailwala"
         ],
         "xaxis": "x",
         "y": [
          1
         ],
         "yaxis": "y"
        },
        {
         "hovertemplate": "color=Haroonabad<br>City=%{x}<br>value=%{y}<extra></extra>",
         "legendgroup": "Haroonabad",
         "marker": {
          "color": "#FF97FF",
          "symbol": "circle"
         },
         "mode": "markers",
         "name": "Haroonabad",
         "orientation": "v",
         "showlegend": true,
         "type": "scatter",
         "x": [
          "Haroonabad"
         ],
         "xaxis": "x",
         "y": [
          1
         ],
         "yaxis": "y"
        },
        {
         "hovertemplate": "color=Sharif<br>City=%{x}<br>value=%{y}<extra></extra>",
         "legendgroup": "Sharif",
         "marker": {
          "color": "#FECB52",
          "symbol": "circle"
         },
         "mode": "markers",
         "name": "Sharif",
         "orientation": "v",
         "showlegend": true,
         "type": "scatter",
         "x": [
          "Sharif"
         ],
         "xaxis": "x",
         "y": [
          1
         ],
         "yaxis": "y"
        },
        {
         "hovertemplate": "color=(LGU)<br>City=%{x}<br>value=%{y}<extra></extra>",
         "legendgroup": "(LGU)",
         "marker": {
          "color": "#636efa",
          "symbol": "circle"
         },
         "mode": "markers",
         "name": "(LGU)",
         "orientation": "v",
         "showlegend": true,
         "type": "scatter",
         "x": [
          "(LGU)"
         ],
         "xaxis": "x",
         "y": [
          1
         ],
         "yaxis": "y"
        },
        {
         "hovertemplate": "color=Kamoki<br>City=%{x}<br>value=%{y}<extra></extra>",
         "legendgroup": "Kamoki",
         "marker": {
          "color": "#EF553B",
          "symbol": "circle"
         },
         "mode": "markers",
         "name": "Kamoki",
         "orientation": "v",
         "showlegend": true,
         "type": "scatter",
         "x": [
          "Kamoki"
         ],
         "xaxis": "x",
         "y": [
          1
         ],
         "yaxis": "y"
        },
        {
         "hovertemplate": "color=Collage<br>City=%{x}<br>value=%{y}<extra></extra>",
         "legendgroup": "Collage",
         "marker": {
          "color": "#00cc96",
          "symbol": "circle"
         },
         "mode": "markers",
         "name": "Collage",
         "orientation": "v",
         "showlegend": true,
         "type": "scatter",
         "x": [
          "Collage"
         ],
         "xaxis": "x",
         "y": [
          1
         ],
         "yaxis": "y"
        },
        {
         "hovertemplate": "color=Bhurban<br>City=%{x}<br>value=%{y}<extra></extra>",
         "legendgroup": "Bhurban",
         "marker": {
          "color": "#ab63fa",
          "symbol": "circle"
         },
         "mode": "markers",
         "name": "Bhurban",
         "orientation": "v",
         "showlegend": true,
         "type": "scatter",
         "x": [
          "Bhurban"
         ],
         "xaxis": "x",
         "y": [
          1
         ],
         "yaxis": "y"
        },
        {
         "hovertemplate": "color=Kotli<br>City=%{x}<br>value=%{y}<extra></extra>",
         "legendgroup": "Kotli",
         "marker": {
          "color": "#FFA15A",
          "symbol": "circle"
         },
         "mode": "markers",
         "name": "Kotli",
         "orientation": "v",
         "showlegend": true,
         "type": "scatter",
         "x": [
          "Kotli"
         ],
         "xaxis": "x",
         "y": [
          1
         ],
         "yaxis": "y"
        },
        {
         "hovertemplate": "color=islamabad<br>City=%{x}<br>value=%{y}<extra></extra>",
         "legendgroup": "islamabad",
         "marker": {
          "color": "#19d3f3",
          "symbol": "circle"
         },
         "mode": "markers",
         "name": "islamabad",
         "orientation": "v",
         "showlegend": true,
         "type": "scatter",
         "x": [
          "islamabad"
         ],
         "xaxis": "x",
         "y": [
          1
         ],
         "yaxis": "y"
        },
        {
         "hovertemplate": "color=University<br>City=%{x}<br>value=%{y}<extra></extra>",
         "legendgroup": "University",
         "marker": {
          "color": "#FF6692",
          "symbol": "circle"
         },
         "mode": "markers",
         "name": "University",
         "orientation": "v",
         "showlegend": true,
         "type": "scatter",
         "x": [
          "University"
         ],
         "xaxis": "x",
         "y": [
          1
         ],
         "yaxis": "y"
        },
        {
         "hovertemplate": "color=kasur<br>City=%{x}<br>value=%{y}<extra></extra>",
         "legendgroup": "kasur",
         "marker": {
          "color": "#B6E880",
          "symbol": "circle"
         },
         "mode": "markers",
         "name": "kasur",
         "orientation": "v",
         "showlegend": true,
         "type": "scatter",
         "x": [
          "kasur"
         ],
         "xaxis": "x",
         "y": [
          1
         ],
         "yaxis": "y"
        },
        {
         "hovertemplate": "color=Charsadda<br>City=%{x}<br>value=%{y}<extra></extra>",
         "legendgroup": "Charsadda",
         "marker": {
          "color": "#FF97FF",
          "symbol": "circle"
         },
         "mode": "markers",
         "name": "Charsadda",
         "orientation": "v",
         "showlegend": true,
         "type": "scatter",
         "x": [
          "Charsadda"
         ],
         "xaxis": "x",
         "y": [
          1
         ],
         "yaxis": "y"
        },
        {
         "hovertemplate": "color=Balakot<br>City=%{x}<br>value=%{y}<extra></extra>",
         "legendgroup": "Balakot",
         "marker": {
          "color": "#FECB52",
          "symbol": "circle"
         },
         "mode": "markers",
         "name": "Balakot",
         "orientation": "v",
         "showlegend": true,
         "type": "scatter",
         "x": [
          "Balakot"
         ],
         "xaxis": "x",
         "y": [
          1
         ],
         "yaxis": "y"
        },
        {
         "hovertemplate": "color=Rawlakot<br>City=%{x}<br>value=%{y}<extra></extra>",
         "legendgroup": "Rawlakot",
         "marker": {
          "color": "#636efa",
          "symbol": "circle"
         },
         "mode": "markers",
         "name": "Rawlakot",
         "orientation": "v",
         "showlegend": true,
         "type": "scatter",
         "x": [
          "Rawlakot"
         ],
         "xaxis": "x",
         "y": [
          1
         ],
         "yaxis": "y"
        },
        {
         "hovertemplate": "color=Shorkot<br>City=%{x}<br>value=%{y}<extra></extra>",
         "legendgroup": "Shorkot",
         "marker": {
          "color": "#EF553B",
          "symbol": "circle"
         },
         "mode": "markers",
         "name": "Shorkot",
         "orientation": "v",
         "showlegend": true,
         "type": "scatter",
         "x": [
          "Shorkot"
         ],
         "xaxis": "x",
         "y": [
          1
         ],
         "yaxis": "y"
        },
        {
         "hovertemplate": "color=Mailsi<br>City=%{x}<br>value=%{y}<extra></extra>",
         "legendgroup": "Mailsi",
         "marker": {
          "color": "#00cc96",
          "symbol": "circle"
         },
         "mode": "markers",
         "name": "Mailsi",
         "orientation": "v",
         "showlegend": true,
         "type": "scatter",
         "x": [
          "Mailsi"
         ],
         "xaxis": "x",
         "y": [
          1
         ],
         "yaxis": "y"
        },
        {
         "hovertemplate": "color=Bahadurabad<br>City=%{x}<br>value=%{y}<extra></extra>",
         "legendgroup": "Bahadurabad",
         "marker": {
          "color": "#ab63fa",
          "symbol": "circle"
         },
         "mode": "markers",
         "name": "Bahadurabad",
         "orientation": "v",
         "showlegend": true,
         "type": "scatter",
         "x": [
          "Bahadurabad"
         ],
         "xaxis": "x",
         "y": [
          1
         ],
         "yaxis": "y"
        },
        {
         "hovertemplate": "color=Institute<br>City=%{x}<br>value=%{y}<extra></extra>",
         "legendgroup": "Institute",
         "marker": {
          "color": "#FFA15A",
          "symbol": "circle"
         },
         "mode": "markers",
         "name": "Institute",
         "orientation": "v",
         "showlegend": true,
         "type": "scatter",
         "x": [
          "Institute"
         ],
         "xaxis": "x",
         "y": [
          1
         ],
         "yaxis": "y"
        },
        {
         "hovertemplate": "color=Din<br>City=%{x}<br>value=%{y}<extra></extra>",
         "legendgroup": "Din",
         "marker": {
          "color": "#19d3f3",
          "symbol": "circle"
         },
         "mode": "markers",
         "name": "Din",
         "orientation": "v",
         "showlegend": true,
         "type": "scatter",
         "x": [
          "Din"
         ],
         "xaxis": "x",
         "y": [
          1
         ],
         "yaxis": "y"
        },
        {
         "hovertemplate": "color=AIOU<br>City=%{x}<br>value=%{y}<extra></extra>",
         "legendgroup": "AIOU",
         "marker": {
          "color": "#FF6692",
          "symbol": "circle"
         },
         "mode": "markers",
         "name": "AIOU",
         "orientation": "v",
         "showlegend": true,
         "type": "scatter",
         "x": [
          "AIOU"
         ],
         "xaxis": "x",
         "y": [
          1
         ],
         "yaxis": "y"
        },
        {
         "hovertemplate": "color=Lahoree<br>City=%{x}<br>value=%{y}<extra></extra>",
         "legendgroup": "Lahoree",
         "marker": {
          "color": "#B6E880",
          "symbol": "circle"
         },
         "mode": "markers",
         "name": "Lahoree",
         "orientation": "v",
         "showlegend": true,
         "type": "scatter",
         "x": [
          "Lahoree"
         ],
         "xaxis": "x",
         "y": [
          1
         ],
         "yaxis": "y"
        },
        {
         "hovertemplate": "color=Education<br>City=%{x}<br>value=%{y}<extra></extra>",
         "legendgroup": "Education",
         "marker": {
          "color": "#FF97FF",
          "symbol": "circle"
         },
         "mode": "markers",
         "name": "Education",
         "orientation": "v",
         "showlegend": true,
         "type": "scatter",
         "x": [
          "Education"
         ],
         "xaxis": "x",
         "y": [
          1
         ],
         "yaxis": "y"
        },
        {
         "hovertemplate": "color=Chatta<br>City=%{x}<br>value=%{y}<extra></extra>",
         "legendgroup": "Chatta",
         "marker": {
          "color": "#FECB52",
          "symbol": "circle"
         },
         "mode": "markers",
         "name": "Chatta",
         "orientation": "v",
         "showlegend": true,
         "type": "scatter",
         "x": [
          "Chatta"
         ],
         "xaxis": "x",
         "y": [
          1
         ],
         "yaxis": "y"
        },
        {
         "hovertemplate": "color=Shahdara<br>City=%{x}<br>value=%{y}<extra></extra>",
         "legendgroup": "Shahdara",
         "marker": {
          "color": "#636efa",
          "symbol": "circle"
         },
         "mode": "markers",
         "name": "Shahdara",
         "orientation": "v",
         "showlegend": true,
         "type": "scatter",
         "x": [
          "Shahdara"
         ],
         "xaxis": "x",
         "y": [
          1
         ],
         "yaxis": "y"
        },
        {
         "hovertemplate": "color=shiekhupura<br>City=%{x}<br>value=%{y}<extra></extra>",
         "legendgroup": "shiekhupura",
         "marker": {
          "color": "#EF553B",
          "symbol": "circle"
         },
         "mode": "markers",
         "name": "shiekhupura",
         "orientation": "v",
         "showlegend": true,
         "type": "scatter",
         "x": [
          "shiekhupura"
         ],
         "xaxis": "x",
         "y": [
          1
         ],
         "yaxis": "y"
        },
        {
         "hovertemplate": "color=Jehlum<br>City=%{x}<br>value=%{y}<extra></extra>",
         "legendgroup": "Jehlum",
         "marker": {
          "color": "#00cc96",
          "symbol": "circle"
         },
         "mode": "markers",
         "name": "Jehlum",
         "orientation": "v",
         "showlegend": true,
         "type": "scatter",
         "x": [
          "Jehlum"
         ],
         "xaxis": "x",
         "y": [
          1
         ],
         "yaxis": "y"
        },
        {
         "hovertemplate": "color=Marwat<br>City=%{x}<br>value=%{y}<extra></extra>",
         "legendgroup": "Marwat",
         "marker": {
          "color": "#ab63fa",
          "symbol": "circle"
         },
         "mode": "markers",
         "name": "Marwat",
         "orientation": "v",
         "showlegend": true,
         "type": "scatter",
         "x": [
          "Marwat"
         ],
         "xaxis": "x",
         "y": [
          1
         ],
         "yaxis": "y"
        },
        {
         "hovertemplate": "color=PAC<br>City=%{x}<br>value=%{y}<extra></extra>",
         "legendgroup": "PAC",
         "marker": {
          "color": "#FFA15A",
          "symbol": "circle"
         },
         "mode": "markers",
         "name": "PAC",
         "orientation": "v",
         "showlegend": true,
         "type": "scatter",
         "x": [
          "PAC"
         ],
         "xaxis": "x",
         "y": [
          1
         ],
         "yaxis": "y"
        },
        {
         "hovertemplate": "color=Feroze<br>City=%{x}<br>value=%{y}<extra></extra>",
         "legendgroup": "Feroze",
         "marker": {
          "color": "#19d3f3",
          "symbol": "circle"
         },
         "mode": "markers",
         "name": "Feroze",
         "orientation": "v",
         "showlegend": true,
         "type": "scatter",
         "x": [
          "Feroze"
         ],
         "xaxis": "x",
         "y": [
          1
         ],
         "yaxis": "y"
        },
        {
         "hovertemplate": "color=INN<br>City=%{x}<br>value=%{y}<extra></extra>",
         "legendgroup": "INN",
         "marker": {
          "color": "#FF6692",
          "symbol": "circle"
         },
         "mode": "markers",
         "name": "INN",
         "orientation": "v",
         "showlegend": true,
         "type": "scatter",
         "x": [
          "INN"
         ],
         "xaxis": "x",
         "y": [
          1
         ],
         "yaxis": "y"
        },
        {
         "hovertemplate": "color=Phalia<br>City=%{x}<br>value=%{y}<extra></extra>",
         "legendgroup": "Phalia",
         "marker": {
          "color": "#B6E880",
          "symbol": "circle"
         },
         "mode": "markers",
         "name": "Phalia",
         "orientation": "v",
         "showlegend": true,
         "type": "scatter",
         "x": [
          "Phalia"
         ],
         "xaxis": "x",
         "y": [
          1
         ],
         "yaxis": "y"
        },
        {
         "hovertemplate": "color=Chaklala<br>City=%{x}<br>value=%{y}<extra></extra>",
         "legendgroup": "Chaklala",
         "marker": {
          "color": "#FF97FF",
          "symbol": "circle"
         },
         "mode": "markers",
         "name": "Chaklala",
         "orientation": "v",
         "showlegend": true,
         "type": "scatter",
         "x": [
          "Chaklala"
         ],
         "xaxis": "x",
         "y": [
          1
         ],
         "yaxis": "y"
        },
        {
         "hovertemplate": "color=Channu<br>City=%{x}<br>value=%{y}<extra></extra>",
         "legendgroup": "Channu",
         "marker": {
          "color": "#FECB52",
          "symbol": "circle"
         },
         "mode": "markers",
         "name": "Channu",
         "orientation": "v",
         "showlegend": true,
         "type": "scatter",
         "x": [
          "Channu"
         ],
         "xaxis": "x",
         "y": [
          1
         ],
         "yaxis": "y"
        },
        {
         "hovertemplate": "color=Abbotabad<br>City=%{x}<br>value=%{y}<extra></extra>",
         "legendgroup": "Abbotabad",
         "marker": {
          "color": "#636efa",
          "symbol": "circle"
         },
         "mode": "markers",
         "name": "Abbotabad",
         "orientation": "v",
         "showlegend": true,
         "type": "scatter",
         "x": [
          "Abbotabad"
         ],
         "xaxis": "x",
         "y": [
          1
         ],
         "yaxis": "y"
        },
        {
         "hovertemplate": "color=Raiwind<br>City=%{x}<br>value=%{y}<extra></extra>",
         "legendgroup": "Raiwind",
         "marker": {
          "color": "#EF553B",
          "symbol": "circle"
         },
         "mode": "markers",
         "name": "Raiwind",
         "orientation": "v",
         "showlegend": true,
         "type": "scatter",
         "x": [
          "Raiwind"
         ],
         "xaxis": "x",
         "y": [
          1
         ],
         "yaxis": "y"
        },
        {
         "hovertemplate": "color=Strategically<br>City=%{x}<br>value=%{y}<extra></extra>",
         "legendgroup": "Strategically",
         "marker": {
          "color": "#00cc96",
          "symbol": "circle"
         },
         "mode": "markers",
         "name": "Strategically",
         "orientation": "v",
         "showlegend": true,
         "type": "scatter",
         "x": [
          "Strategically"
         ],
         "xaxis": "x",
         "y": [
          1
         ],
         "yaxis": "y"
        },
        {
         "hovertemplate": "color=Bahaudddin<br>City=%{x}<br>value=%{y}<extra></extra>",
         "legendgroup": "Bahaudddin",
         "marker": {
          "color": "#ab63fa",
          "symbol": "circle"
         },
         "mode": "markers",
         "name": "Bahaudddin",
         "orientation": "v",
         "showlegend": true,
         "type": "scatter",
         "x": [
          "Bahaudddin"
         ],
         "xaxis": "x",
         "y": [
          1
         ],
         "yaxis": "y"
        },
        {
         "hovertemplate": "color=Hayatabad<br>City=%{x}<br>value=%{y}<extra></extra>",
         "legendgroup": "Hayatabad",
         "marker": {
          "color": "#FFA15A",
          "symbol": "circle"
         },
         "mode": "markers",
         "name": "Hayatabad",
         "orientation": "v",
         "showlegend": true,
         "type": "scatter",
         "x": [
          "Hayatabad"
         ],
         "xaxis": "x",
         "y": [
          1
         ],
         "yaxis": "y"
        },
        {
         "hovertemplate": "color=(RAC)<br>City=%{x}<br>value=%{y}<extra></extra>",
         "legendgroup": "(RAC)",
         "marker": {
          "color": "#19d3f3",
          "symbol": "circle"
         },
         "mode": "markers",
         "name": "(RAC)",
         "orientation": "v",
         "showlegend": true,
         "type": "scatter",
         "x": [
          "(RAC)"
         ],
         "xaxis": "x",
         "y": [
          1
         ],
         "yaxis": "y"
        },
        {
         "hovertemplate": "color=CIMS<br>City=%{x}<br>value=%{y}<extra></extra>",
         "legendgroup": "CIMS",
         "marker": {
          "color": "#FF6692",
          "symbol": "circle"
         },
         "mode": "markers",
         "name": "CIMS",
         "orientation": "v",
         "showlegend": true,
         "type": "scatter",
         "x": [
          "CIMS"
         ],
         "xaxis": "x",
         "y": [
          1
         ],
         "yaxis": "y"
        },
        {
         "hovertemplate": "color=Sadiqabad<br>City=%{x}<br>value=%{y}<extra></extra>",
         "legendgroup": "Sadiqabad",
         "marker": {
          "color": "#B6E880",
          "symbol": "circle"
         },
         "mode": "markers",
         "name": "Sadiqabad",
         "orientation": "v",
         "showlegend": true,
         "type": "scatter",
         "x": [
          "Sadiqabad"
         ],
         "xaxis": "x",
         "y": [
          1
         ],
         "yaxis": "y"
        },
        {
         "hovertemplate": "color=Jauharabad<br>City=%{x}<br>value=%{y}<extra></extra>",
         "legendgroup": "Jauharabad",
         "marker": {
          "color": "#FF97FF",
          "symbol": "circle"
         },
         "mode": "markers",
         "name": "Jauharabad",
         "orientation": "v",
         "showlegend": true,
         "type": "scatter",
         "x": [
          "Jauharabad"
         ],
         "xaxis": "x",
         "y": [
          1
         ],
         "yaxis": "y"
        },
        {
         "hovertemplate": "color=Samundri<br>City=%{x}<br>value=%{y}<extra></extra>",
         "legendgroup": "Samundri",
         "marker": {
          "color": "#FECB52",
          "symbol": "circle"
         },
         "mode": "markers",
         "name": "Samundri",
         "orientation": "v",
         "showlegend": true,
         "type": "scatter",
         "x": [
          "Samundri"
         ],
         "xaxis": "x",
         "y": [
          1
         ],
         "yaxis": "y"
        },
        {
         "hovertemplate": "color=Solutions<br>City=%{x}<br>value=%{y}<extra></extra>",
         "legendgroup": "Solutions",
         "marker": {
          "color": "#636efa",
          "symbol": "circle"
         },
         "mode": "markers",
         "name": "Solutions",
         "orientation": "v",
         "showlegend": true,
         "type": "scatter",
         "x": [
          "Solutions"
         ],
         "xaxis": "x",
         "y": [
          1
         ],
         "yaxis": "y"
        },
        {
         "hovertemplate": "color=Mandra<br>City=%{x}<br>value=%{y}<extra></extra>",
         "legendgroup": "Mandra",
         "marker": {
          "color": "#EF553B",
          "symbol": "circle"
         },
         "mode": "markers",
         "name": "Mandra",
         "orientation": "v",
         "showlegend": true,
         "type": "scatter",
         "x": [
          "Mandra"
         ],
         "xaxis": "x",
         "y": [
          1
         ],
         "yaxis": "y"
        },
        {
         "hovertemplate": "color=Bahaudin<br>City=%{x}<br>value=%{y}<extra></extra>",
         "legendgroup": "Bahaudin",
         "marker": {
          "color": "#00cc96",
          "symbol": "circle"
         },
         "mode": "markers",
         "name": "Bahaudin",
         "orientation": "v",
         "showlegend": true,
         "type": "scatter",
         "x": [
          "Bahaudin"
         ],
         "xaxis": "x",
         "y": [
          1
         ],
         "yaxis": "y"
        },
        {
         "hovertemplate": "color=Faisal<br>City=%{x}<br>value=%{y}<extra></extra>",
         "legendgroup": "Faisal",
         "marker": {
          "color": "#ab63fa",
          "symbol": "circle"
         },
         "mode": "markers",
         "name": "Faisal",
         "orientation": "v",
         "showlegend": true,
         "type": "scatter",
         "x": [
          "Faisal"
         ],
         "xaxis": "x",
         "y": [
          1
         ],
         "yaxis": "y"
        },
        {
         "hovertemplate": "color=Shahkot<br>City=%{x}<br>value=%{y}<extra></extra>",
         "legendgroup": "Shahkot",
         "marker": {
          "color": "#FFA15A",
          "symbol": "circle"
         },
         "mode": "markers",
         "name": "Shahkot",
         "orientation": "v",
         "showlegend": true,
         "type": "scatter",
         "x": [
          "Shahkot"
         ],
         "xaxis": "x",
         "y": [
          1
         ],
         "yaxis": "y"
        },
        {
         "hovertemplate": "color=sargodha<br>City=%{x}<br>value=%{y}<extra></extra>",
         "legendgroup": "sargodha",
         "marker": {
          "color": "#19d3f3",
          "symbol": "circle"
         },
         "mode": "markers",
         "name": "sargodha",
         "orientation": "v",
         "showlegend": true,
         "type": "scatter",
         "x": [
          "sargodha"
         ],
         "xaxis": "x",
         "y": [
          1
         ],
         "yaxis": "y"
        },
        {
         "hovertemplate": "color=Liaqatpur<br>City=%{x}<br>value=%{y}<extra></extra>",
         "legendgroup": "Liaqatpur",
         "marker": {
          "color": "#FF6692",
          "symbol": "circle"
         },
         "mode": "markers",
         "name": "Liaqatpur",
         "orientation": "v",
         "showlegend": true,
         "type": "scatter",
         "x": [
          "Liaqatpur"
         ],
         "xaxis": "x",
         "y": [
          1
         ],
         "yaxis": "y"
        },
        {
         "hovertemplate": "color=Jattan<br>City=%{x}<br>value=%{y}<extra></extra>",
         "legendgroup": "Jattan",
         "marker": {
          "color": "#B6E880",
          "symbol": "circle"
         },
         "mode": "markers",
         "name": "Jattan",
         "orientation": "v",
         "showlegend": true,
         "type": "scatter",
         "x": [
          "Jattan"
         ],
         "xaxis": "x",
         "y": [
          1
         ],
         "yaxis": "y"
        },
        {
         "hovertemplate": "color=Muzaffargarh<br>City=%{x}<br>value=%{y}<extra></extra>",
         "legendgroup": "Muzaffargarh",
         "marker": {
          "color": "#FF97FF",
          "symbol": "circle"
         },
         "mode": "markers",
         "name": "Muzaffargarh",
         "orientation": "v",
         "showlegend": true,
         "type": "scatter",
         "x": [
          "Muzaffargarh"
         ],
         "xaxis": "x",
         "y": [
          1
         ],
         "yaxis": "y"
        },
        {
         "hovertemplate": "color=Abbottabad.<br>City=%{x}<br>value=%{y}<extra></extra>",
         "legendgroup": "Abbottabad.",
         "marker": {
          "color": "#FECB52",
          "symbol": "circle"
         },
         "mode": "markers",
         "name": "Abbottabad.",
         "orientation": "v",
         "showlegend": true,
         "type": "scatter",
         "x": [
          "Abbottabad."
         ],
         "xaxis": "x",
         "y": [
          1
         ],
         "yaxis": "y"
        },
        {
         "hovertemplate": "color=Campus)<br>City=%{x}<br>value=%{y}<extra></extra>",
         "legendgroup": "Campus)",
         "marker": {
          "color": "#636efa",
          "symbol": "circle"
         },
         "mode": "markers",
         "name": "Campus)",
         "orientation": "v",
         "showlegend": true,
         "type": "scatter",
         "x": [
          "Campus)"
         ],
         "xaxis": "x",
         "y": [
          1
         ],
         "yaxis": "y"
        },
        {
         "hovertemplate": "color=Battagram<br>City=%{x}<br>value=%{y}<extra></extra>",
         "legendgroup": "Battagram",
         "marker": {
          "color": "#EF553B",
          "symbol": "circle"
         },
         "mode": "markers",
         "name": "Battagram",
         "orientation": "v",
         "showlegend": true,
         "type": "scatter",
         "x": [
          "Battagram"
         ],
         "xaxis": "x",
         "y": [
          1
         ],
         "yaxis": "y"
        },
        {
         "hovertemplate": "color=Wazirabad<br>City=%{x}<br>value=%{y}<extra></extra>",
         "legendgroup": "Wazirabad",
         "marker": {
          "color": "#00cc96",
          "symbol": "circle"
         },
         "mode": "markers",
         "name": "Wazirabad",
         "orientation": "v",
         "showlegend": true,
         "type": "scatter",
         "x": [
          "Wazirabad"
         ],
         "xaxis": "x",
         "y": [
          1
         ],
         "yaxis": "y"
        },
        {
         "hovertemplate": "color=Chatha<br>City=%{x}<br>value=%{y}<extra></extra>",
         "legendgroup": "Chatha",
         "marker": {
          "color": "#ab63fa",
          "symbol": "circle"
         },
         "mode": "markers",
         "name": "Chatha",
         "orientation": "v",
         "showlegend": true,
         "type": "scatter",
         "x": [
          "Chatha"
         ],
         "xaxis": "x",
         "y": [
          1
         ],
         "yaxis": "y"
        },
        {
         "hovertemplate": "color=Pukhtunkhwa<br>City=%{x}<br>value=%{y}<extra></extra>",
         "legendgroup": "Pukhtunkhwa",
         "marker": {
          "color": "#FFA15A",
          "symbol": "circle"
         },
         "mode": "markers",
         "name": "Pukhtunkhwa",
         "orientation": "v",
         "showlegend": true,
         "type": "scatter",
         "x": [
          "Pukhtunkhwa"
         ],
         "xaxis": "x",
         "y": [
          1
         ],
         "yaxis": "y"
        },
        {
         "hovertemplate": "color=Jajja<br>City=%{x}<br>value=%{y}<extra></extra>",
         "legendgroup": "Jajja",
         "marker": {
          "color": "#19d3f3",
          "symbol": "circle"
         },
         "mode": "markers",
         "name": "Jajja",
         "orientation": "v",
         "showlegend": true,
         "type": "scatter",
         "x": [
          "Jajja"
         ],
         "xaxis": "x",
         "y": [
          1
         ],
         "yaxis": "y"
        },
        {
         "hovertemplate": "color=Shakargarh<br>City=%{x}<br>value=%{y}<extra></extra>",
         "legendgroup": "Shakargarh",
         "marker": {
          "color": "#FF6692",
          "symbol": "circle"
         },
         "mode": "markers",
         "name": "Shakargarh",
         "orientation": "v",
         "showlegend": true,
         "type": "scatter",
         "x": [
          "Shakargarh"
         ],
         "xaxis": "x",
         "y": [
          1
         ],
         "yaxis": "y"
        },
        {
         "hovertemplate": "color=Addu<br>City=%{x}<br>value=%{y}<extra></extra>",
         "legendgroup": "Addu",
         "marker": {
          "color": "#B6E880",
          "symbol": "circle"
         },
         "mode": "markers",
         "name": "Addu",
         "orientation": "v",
         "showlegend": true,
         "type": "scatter",
         "x": [
          "Addu"
         ],
         "xaxis": "x",
         "y": [
          1
         ],
         "yaxis": "y"
        },
        {
         "hovertemplate": "color=Gojra<br>City=%{x}<br>value=%{y}<extra></extra>",
         "legendgroup": "Gojra",
         "marker": {
          "color": "#FF97FF",
          "symbol": "circle"
         },
         "mode": "markers",
         "name": "Gojra",
         "orientation": "v",
         "showlegend": true,
         "type": "scatter",
         "x": [
          "Gojra"
         ],
         "xaxis": "x",
         "y": [
          1
         ],
         "yaxis": "y"
        },
        {
         "hovertemplate": "color=Bela<br>City=%{x}<br>value=%{y}<extra></extra>",
         "legendgroup": "Bela",
         "marker": {
          "color": "#FECB52",
          "symbol": "circle"
         },
         "mode": "markers",
         "name": "Bela",
         "orientation": "v",
         "showlegend": true,
         "type": "scatter",
         "x": [
          "Bela"
         ],
         "xaxis": "x",
         "y": [
          1
         ],
         "yaxis": "y"
        },
        {
         "hovertemplate": "color=F-10/2<br>City=%{x}<br>value=%{y}<extra></extra>",
         "legendgroup": "F-10/2",
         "marker": {
          "color": "#636efa",
          "symbol": "circle"
         },
         "mode": "markers",
         "name": "F-10/2",
         "orientation": "v",
         "showlegend": true,
         "type": "scatter",
         "x": [
          "F-10/2"
         ],
         "xaxis": "x",
         "y": [
          1
         ],
         "yaxis": "y"
        },
        {
         "hovertemplate": "color=Kamoke<br>City=%{x}<br>value=%{y}<extra></extra>",
         "legendgroup": "Kamoke",
         "marker": {
          "color": "#EF553B",
          "symbol": "circle"
         },
         "mode": "markers",
         "name": "Kamoke",
         "orientation": "v",
         "showlegend": true,
         "type": "scatter",
         "x": [
          "Kamoke"
         ],
         "xaxis": "x",
         "y": [
          1
         ],
         "yaxis": "y"
        },
        {
         "hovertemplate": "color=University-AIOU-Quetta<br>City=%{x}<br>value=%{y}<extra></extra>",
         "legendgroup": "University-AIOU-Quetta",
         "marker": {
          "color": "#00cc96",
          "symbol": "circle"
         },
         "mode": "markers",
         "name": "University-AIOU-Quetta",
         "orientation": "v",
         "showlegend": true,
         "type": "scatter",
         "x": [
          "University-AIOU-Quetta"
         ],
         "xaxis": "x",
         "y": [
          1
         ],
         "yaxis": "y"
        },
        {
         "hovertemplate": "color=Malaysia)<br>City=%{x}<br>value=%{y}<extra></extra>",
         "legendgroup": "Malaysia)",
         "marker": {
          "color": "#ab63fa",
          "symbol": "circle"
         },
         "mode": "markers",
         "name": "Malaysia)",
         "orientation": "v",
         "showlegend": true,
         "type": "scatter",
         "x": [
          "Malaysia)"
         ],
         "xaxis": "x",
         "y": [
          1
         ],
         "yaxis": "y"
        },
        {
         "hovertemplate": "color=Rawalkot<br>City=%{x}<br>value=%{y}<extra></extra>",
         "legendgroup": "Rawalkot",
         "marker": {
          "color": "#FFA15A",
          "symbol": "circle"
         },
         "mode": "markers",
         "name": "Rawalkot",
         "orientation": "v",
         "showlegend": true,
         "type": "scatter",
         "x": [
          "Rawalkot"
         ],
         "xaxis": "x",
         "y": [
          1
         ],
         "yaxis": "y"
        },
        {
         "hovertemplate": "color=Dina<br>City=%{x}<br>value=%{y}<extra></extra>",
         "legendgroup": "Dina",
         "marker": {
          "color": "#19d3f3",
          "symbol": "circle"
         },
         "mode": "markers",
         "name": "Dina",
         "orientation": "v",
         "showlegend": true,
         "type": "scatter",
         "x": [
          "Dina"
         ],
         "xaxis": "x",
         "y": [
          1
         ],
         "yaxis": "y"
        }
       ],
       "layout": {
        "legend": {
         "title": {
          "text": "color"
         },
         "tracegroupgap": 0
        },
        "margin": {
         "t": 60
        },
        "template": {
         "data": {
          "bar": [
           {
            "error_x": {
             "color": "#2a3f5f"
            },
            "error_y": {
             "color": "#2a3f5f"
            },
            "marker": {
             "line": {
              "color": "#E5ECF6",
              "width": 0.5
             },
             "pattern": {
              "fillmode": "overlay",
              "size": 10,
              "solidity": 0.2
             }
            },
            "type": "bar"
           }
          ],
          "barpolar": [
           {
            "marker": {
             "line": {
              "color": "#E5ECF6",
              "width": 0.5
             },
             "pattern": {
              "fillmode": "overlay",
              "size": 10,
              "solidity": 0.2
             }
            },
            "type": "barpolar"
           }
          ],
          "carpet": [
           {
            "aaxis": {
             "endlinecolor": "#2a3f5f",
             "gridcolor": "white",
             "linecolor": "white",
             "minorgridcolor": "white",
             "startlinecolor": "#2a3f5f"
            },
            "baxis": {
             "endlinecolor": "#2a3f5f",
             "gridcolor": "white",
             "linecolor": "white",
             "minorgridcolor": "white",
             "startlinecolor": "#2a3f5f"
            },
            "type": "carpet"
           }
          ],
          "choropleth": [
           {
            "colorbar": {
             "outlinewidth": 0,
             "ticks": ""
            },
            "type": "choropleth"
           }
          ],
          "contour": [
           {
            "colorbar": {
             "outlinewidth": 0,
             "ticks": ""
            },
            "colorscale": [
             [
              0,
              "#0d0887"
             ],
             [
              0.1111111111111111,
              "#46039f"
             ],
             [
              0.2222222222222222,
              "#7201a8"
             ],
             [
              0.3333333333333333,
              "#9c179e"
             ],
             [
              0.4444444444444444,
              "#bd3786"
             ],
             [
              0.5555555555555556,
              "#d8576b"
             ],
             [
              0.6666666666666666,
              "#ed7953"
             ],
             [
              0.7777777777777778,
              "#fb9f3a"
             ],
             [
              0.8888888888888888,
              "#fdca26"
             ],
             [
              1,
              "#f0f921"
             ]
            ],
            "type": "contour"
           }
          ],
          "contourcarpet": [
           {
            "colorbar": {
             "outlinewidth": 0,
             "ticks": ""
            },
            "type": "contourcarpet"
           }
          ],
          "heatmap": [
           {
            "colorbar": {
             "outlinewidth": 0,
             "ticks": ""
            },
            "colorscale": [
             [
              0,
              "#0d0887"
             ],
             [
              0.1111111111111111,
              "#46039f"
             ],
             [
              0.2222222222222222,
              "#7201a8"
             ],
             [
              0.3333333333333333,
              "#9c179e"
             ],
             [
              0.4444444444444444,
              "#bd3786"
             ],
             [
              0.5555555555555556,
              "#d8576b"
             ],
             [
              0.6666666666666666,
              "#ed7953"
             ],
             [
              0.7777777777777778,
              "#fb9f3a"
             ],
             [
              0.8888888888888888,
              "#fdca26"
             ],
             [
              1,
              "#f0f921"
             ]
            ],
            "type": "heatmap"
           }
          ],
          "heatmapgl": [
           {
            "colorbar": {
             "outlinewidth": 0,
             "ticks": ""
            },
            "colorscale": [
             [
              0,
              "#0d0887"
             ],
             [
              0.1111111111111111,
              "#46039f"
             ],
             [
              0.2222222222222222,
              "#7201a8"
             ],
             [
              0.3333333333333333,
              "#9c179e"
             ],
             [
              0.4444444444444444,
              "#bd3786"
             ],
             [
              0.5555555555555556,
              "#d8576b"
             ],
             [
              0.6666666666666666,
              "#ed7953"
             ],
             [
              0.7777777777777778,
              "#fb9f3a"
             ],
             [
              0.8888888888888888,
              "#fdca26"
             ],
             [
              1,
              "#f0f921"
             ]
            ],
            "type": "heatmapgl"
           }
          ],
          "histogram": [
           {
            "marker": {
             "pattern": {
              "fillmode": "overlay",
              "size": 10,
              "solidity": 0.2
             }
            },
            "type": "histogram"
           }
          ],
          "histogram2d": [
           {
            "colorbar": {
             "outlinewidth": 0,
             "ticks": ""
            },
            "colorscale": [
             [
              0,
              "#0d0887"
             ],
             [
              0.1111111111111111,
              "#46039f"
             ],
             [
              0.2222222222222222,
              "#7201a8"
             ],
             [
              0.3333333333333333,
              "#9c179e"
             ],
             [
              0.4444444444444444,
              "#bd3786"
             ],
             [
              0.5555555555555556,
              "#d8576b"
             ],
             [
              0.6666666666666666,
              "#ed7953"
             ],
             [
              0.7777777777777778,
              "#fb9f3a"
             ],
             [
              0.8888888888888888,
              "#fdca26"
             ],
             [
              1,
              "#f0f921"
             ]
            ],
            "type": "histogram2d"
           }
          ],
          "histogram2dcontour": [
           {
            "colorbar": {
             "outlinewidth": 0,
             "ticks": ""
            },
            "colorscale": [
             [
              0,
              "#0d0887"
             ],
             [
              0.1111111111111111,
              "#46039f"
             ],
             [
              0.2222222222222222,
              "#7201a8"
             ],
             [
              0.3333333333333333,
              "#9c179e"
             ],
             [
              0.4444444444444444,
              "#bd3786"
             ],
             [
              0.5555555555555556,
              "#d8576b"
             ],
             [
              0.6666666666666666,
              "#ed7953"
             ],
             [
              0.7777777777777778,
              "#fb9f3a"
             ],
             [
              0.8888888888888888,
              "#fdca26"
             ],
             [
              1,
              "#f0f921"
             ]
            ],
            "type": "histogram2dcontour"
           }
          ],
          "mesh3d": [
           {
            "colorbar": {
             "outlinewidth": 0,
             "ticks": ""
            },
            "type": "mesh3d"
           }
          ],
          "parcoords": [
           {
            "line": {
             "colorbar": {
              "outlinewidth": 0,
              "ticks": ""
             }
            },
            "type": "parcoords"
           }
          ],
          "pie": [
           {
            "automargin": true,
            "type": "pie"
           }
          ],
          "scatter": [
           {
            "fillpattern": {
             "fillmode": "overlay",
             "size": 10,
             "solidity": 0.2
            },
            "type": "scatter"
           }
          ],
          "scatter3d": [
           {
            "line": {
             "colorbar": {
              "outlinewidth": 0,
              "ticks": ""
             }
            },
            "marker": {
             "colorbar": {
              "outlinewidth": 0,
              "ticks": ""
             }
            },
            "type": "scatter3d"
           }
          ],
          "scattercarpet": [
           {
            "marker": {
             "colorbar": {
              "outlinewidth": 0,
              "ticks": ""
             }
            },
            "type": "scattercarpet"
           }
          ],
          "scattergeo": [
           {
            "marker": {
             "colorbar": {
              "outlinewidth": 0,
              "ticks": ""
             }
            },
            "type": "scattergeo"
           }
          ],
          "scattergl": [
           {
            "marker": {
             "colorbar": {
              "outlinewidth": 0,
              "ticks": ""
             }
            },
            "type": "scattergl"
           }
          ],
          "scattermapbox": [
           {
            "marker": {
             "colorbar": {
              "outlinewidth": 0,
              "ticks": ""
             }
            },
            "type": "scattermapbox"
           }
          ],
          "scatterpolar": [
           {
            "marker": {
             "colorbar": {
              "outlinewidth": 0,
              "ticks": ""
             }
            },
            "type": "scatterpolar"
           }
          ],
          "scatterpolargl": [
           {
            "marker": {
             "colorbar": {
              "outlinewidth": 0,
              "ticks": ""
             }
            },
            "type": "scatterpolargl"
           }
          ],
          "scatterternary": [
           {
            "marker": {
             "colorbar": {
              "outlinewidth": 0,
              "ticks": ""
             }
            },
            "type": "scatterternary"
           }
          ],
          "surface": [
           {
            "colorbar": {
             "outlinewidth": 0,
             "ticks": ""
            },
            "colorscale": [
             [
              0,
              "#0d0887"
             ],
             [
              0.1111111111111111,
              "#46039f"
             ],
             [
              0.2222222222222222,
              "#7201a8"
             ],
             [
              0.3333333333333333,
              "#9c179e"
             ],
             [
              0.4444444444444444,
              "#bd3786"
             ],
             [
              0.5555555555555556,
              "#d8576b"
             ],
             [
              0.6666666666666666,
              "#ed7953"
             ],
             [
              0.7777777777777778,
              "#fb9f3a"
             ],
             [
              0.8888888888888888,
              "#fdca26"
             ],
             [
              1,
              "#f0f921"
             ]
            ],
            "type": "surface"
           }
          ],
          "table": [
           {
            "cells": {
             "fill": {
              "color": "#EBF0F8"
             },
             "line": {
              "color": "white"
             }
            },
            "header": {
             "fill": {
              "color": "#C8D4E3"
             },
             "line": {
              "color": "white"
             }
            },
            "type": "table"
           }
          ]
         },
         "layout": {
          "annotationdefaults": {
           "arrowcolor": "#2a3f5f",
           "arrowhead": 0,
           "arrowwidth": 1
          },
          "autotypenumbers": "strict",
          "coloraxis": {
           "colorbar": {
            "outlinewidth": 0,
            "ticks": ""
           }
          },
          "colorscale": {
           "diverging": [
            [
             0,
             "#8e0152"
            ],
            [
             0.1,
             "#c51b7d"
            ],
            [
             0.2,
             "#de77ae"
            ],
            [
             0.3,
             "#f1b6da"
            ],
            [
             0.4,
             "#fde0ef"
            ],
            [
             0.5,
             "#f7f7f7"
            ],
            [
             0.6,
             "#e6f5d0"
            ],
            [
             0.7,
             "#b8e186"
            ],
            [
             0.8,
             "#7fbc41"
            ],
            [
             0.9,
             "#4d9221"
            ],
            [
             1,
             "#276419"
            ]
           ],
           "sequential": [
            [
             0,
             "#0d0887"
            ],
            [
             0.1111111111111111,
             "#46039f"
            ],
            [
             0.2222222222222222,
             "#7201a8"
            ],
            [
             0.3333333333333333,
             "#9c179e"
            ],
            [
             0.4444444444444444,
             "#bd3786"
            ],
            [
             0.5555555555555556,
             "#d8576b"
            ],
            [
             0.6666666666666666,
             "#ed7953"
            ],
            [
             0.7777777777777778,
             "#fb9f3a"
            ],
            [
             0.8888888888888888,
             "#fdca26"
            ],
            [
             1,
             "#f0f921"
            ]
           ],
           "sequentialminus": [
            [
             0,
             "#0d0887"
            ],
            [
             0.1111111111111111,
             "#46039f"
            ],
            [
             0.2222222222222222,
             "#7201a8"
            ],
            [
             0.3333333333333333,
             "#9c179e"
            ],
            [
             0.4444444444444444,
             "#bd3786"
            ],
            [
             0.5555555555555556,
             "#d8576b"
            ],
            [
             0.6666666666666666,
             "#ed7953"
            ],
            [
             0.7777777777777778,
             "#fb9f3a"
            ],
            [
             0.8888888888888888,
             "#fdca26"
            ],
            [
             1,
             "#f0f921"
            ]
           ]
          },
          "colorway": [
           "#636efa",
           "#EF553B",
           "#00cc96",
           "#ab63fa",
           "#FFA15A",
           "#19d3f3",
           "#FF6692",
           "#B6E880",
           "#FF97FF",
           "#FECB52"
          ],
          "font": {
           "color": "#2a3f5f"
          },
          "geo": {
           "bgcolor": "white",
           "lakecolor": "white",
           "landcolor": "#E5ECF6",
           "showlakes": true,
           "showland": true,
           "subunitcolor": "white"
          },
          "hoverlabel": {
           "align": "left"
          },
          "hovermode": "closest",
          "mapbox": {
           "style": "light"
          },
          "paper_bgcolor": "white",
          "plot_bgcolor": "#E5ECF6",
          "polar": {
           "angularaxis": {
            "gridcolor": "white",
            "linecolor": "white",
            "ticks": ""
           },
           "bgcolor": "#E5ECF6",
           "radialaxis": {
            "gridcolor": "white",
            "linecolor": "white",
            "ticks": ""
           }
          },
          "scene": {
           "xaxis": {
            "backgroundcolor": "#E5ECF6",
            "gridcolor": "white",
            "gridwidth": 2,
            "linecolor": "white",
            "showbackground": true,
            "ticks": "",
            "zerolinecolor": "white"
           },
           "yaxis": {
            "backgroundcolor": "#E5ECF6",
            "gridcolor": "white",
            "gridwidth": 2,
            "linecolor": "white",
            "showbackground": true,
            "ticks": "",
            "zerolinecolor": "white"
           },
           "zaxis": {
            "backgroundcolor": "#E5ECF6",
            "gridcolor": "white",
            "gridwidth": 2,
            "linecolor": "white",
            "showbackground": true,
            "ticks": "",
            "zerolinecolor": "white"
           }
          },
          "shapedefaults": {
           "line": {
            "color": "#2a3f5f"
           }
          },
          "ternary": {
           "aaxis": {
            "gridcolor": "white",
            "linecolor": "white",
            "ticks": ""
           },
           "baxis": {
            "gridcolor": "white",
            "linecolor": "white",
            "ticks": ""
           },
           "bgcolor": "#E5ECF6",
           "caxis": {
            "gridcolor": "white",
            "linecolor": "white",
            "ticks": ""
           }
          },
          "title": {
           "x": 0.05
          },
          "xaxis": {
           "automargin": true,
           "gridcolor": "white",
           "linecolor": "white",
           "ticks": "",
           "title": {
            "standoff": 15
           },
           "zerolinecolor": "white",
           "zerolinewidth": 2
          },
          "yaxis": {
           "automargin": true,
           "gridcolor": "white",
           "linecolor": "white",
           "ticks": "",
           "title": {
            "standoff": 15
           },
           "zerolinecolor": "white",
           "zerolinewidth": 2
          }
         }
        },
        "xaxis": {
         "anchor": "y",
         "domain": [
          0,
          1
         ],
         "title": {
          "text": "City"
         }
        },
        "yaxis": {
         "anchor": "x",
         "domain": [
          0,
          1
         ],
         "title": {
          "text": "value"
         }
        }
       }
      }
     },
     "metadata": {},
     "output_type": "display_data"
    }
   ],
   "source": [
    "px.scatter(df['City'].value_counts(), color=df['City'].value_counts().index)"
   ]
  },
  {
   "cell_type": "markdown",
   "metadata": {},
   "source": [
    "### The Top cities having highes number of colleges from 20 to 203."
   ]
  },
  {
   "cell_type": "code",
   "execution_count": null,
   "metadata": {},
   "outputs": [
    {
     "data": {
      "application/vnd.plotly.v1+json": {
       "config": {
        "plotlyServerURL": "https://plot.ly"
       },
       "data": [
        {
         "alignmentgroup": "True",
         "hovertemplate": "color=Lahore<br>x=%{x}<br>y=%{y}<extra></extra>",
         "legendgroup": "Lahore",
         "marker": {
          "color": "#636efa",
          "pattern": {
           "shape": ""
          }
         },
         "name": "Lahore",
         "offsetgroup": "Lahore",
         "orientation": "v",
         "showlegend": true,
         "textposition": "auto",
         "type": "bar",
         "x": [
          "Lahore"
         ],
         "xaxis": "x",
         "y": [
          203
         ],
         "yaxis": "y"
        },
        {
         "alignmentgroup": "True",
         "hovertemplate": "color=Islamabad<br>x=%{x}<br>y=%{y}<extra></extra>",
         "legendgroup": "Islamabad",
         "marker": {
          "color": "#EF553B",
          "pattern": {
           "shape": ""
          }
         },
         "name": "Islamabad",
         "offsetgroup": "Islamabad",
         "orientation": "v",
         "showlegend": true,
         "textposition": "auto",
         "type": "bar",
         "x": [
          "Islamabad"
         ],
         "xaxis": "x",
         "y": [
          115
         ],
         "yaxis": "y"
        },
        {
         "alignmentgroup": "True",
         "hovertemplate": "color=Karachi<br>x=%{x}<br>y=%{y}<extra></extra>",
         "legendgroup": "Karachi",
         "marker": {
          "color": "#00cc96",
          "pattern": {
           "shape": ""
          }
         },
         "name": "Karachi",
         "offsetgroup": "Karachi",
         "orientation": "v",
         "showlegend": true,
         "textposition": "auto",
         "type": "bar",
         "x": [
          "Karachi"
         ],
         "xaxis": "x",
         "y": [
          105
         ],
         "yaxis": "y"
        },
        {
         "alignmentgroup": "True",
         "hovertemplate": "color=Rawalpindi<br>x=%{x}<br>y=%{y}<extra></extra>",
         "legendgroup": "Rawalpindi",
         "marker": {
          "color": "#ab63fa",
          "pattern": {
           "shape": ""
          }
         },
         "name": "Rawalpindi",
         "offsetgroup": "Rawalpindi",
         "orientation": "v",
         "showlegend": true,
         "textposition": "auto",
         "type": "bar",
         "x": [
          "Rawalpindi"
         ],
         "xaxis": "x",
         "y": [
          94
         ],
         "yaxis": "y"
        },
        {
         "alignmentgroup": "True",
         "hovertemplate": "color=Faisalabad<br>x=%{x}<br>y=%{y}<extra></extra>",
         "legendgroup": "Faisalabad",
         "marker": {
          "color": "#FFA15A",
          "pattern": {
           "shape": ""
          }
         },
         "name": "Faisalabad",
         "offsetgroup": "Faisalabad",
         "orientation": "v",
         "showlegend": true,
         "textposition": "auto",
         "type": "bar",
         "x": [
          "Faisalabad"
         ],
         "xaxis": "x",
         "y": [
          86
         ],
         "yaxis": "y"
        },
        {
         "alignmentgroup": "True",
         "hovertemplate": "color=Peshawar<br>x=%{x}<br>y=%{y}<extra></extra>",
         "legendgroup": "Peshawar",
         "marker": {
          "color": "#19d3f3",
          "pattern": {
           "shape": ""
          }
         },
         "name": "Peshawar",
         "offsetgroup": "Peshawar",
         "orientation": "v",
         "showlegend": true,
         "textposition": "auto",
         "type": "bar",
         "x": [
          "Peshawar"
         ],
         "xaxis": "x",
         "y": [
          61
         ],
         "yaxis": "y"
        },
        {
         "alignmentgroup": "True",
         "hovertemplate": "color=Sargodha<br>x=%{x}<br>y=%{y}<extra></extra>",
         "legendgroup": "Sargodha",
         "marker": {
          "color": "#FF6692",
          "pattern": {
           "shape": ""
          }
         },
         "name": "Sargodha",
         "offsetgroup": "Sargodha",
         "orientation": "v",
         "showlegend": true,
         "textposition": "auto",
         "type": "bar",
         "x": [
          "Sargodha"
         ],
         "xaxis": "x",
         "y": [
          60
         ],
         "yaxis": "y"
        },
        {
         "alignmentgroup": "True",
         "hovertemplate": "color=Gujranwala<br>x=%{x}<br>y=%{y}<extra></extra>",
         "legendgroup": "Gujranwala",
         "marker": {
          "color": "#B6E880",
          "pattern": {
           "shape": ""
          }
         },
         "name": "Gujranwala",
         "offsetgroup": "Gujranwala",
         "orientation": "v",
         "showlegend": true,
         "textposition": "auto",
         "type": "bar",
         "x": [
          "Gujranwala"
         ],
         "xaxis": "x",
         "y": [
          58
         ],
         "yaxis": "y"
        },
        {
         "alignmentgroup": "True",
         "hovertemplate": "color=Multan<br>x=%{x}<br>y=%{y}<extra></extra>",
         "legendgroup": "Multan",
         "marker": {
          "color": "#FF97FF",
          "pattern": {
           "shape": ""
          }
         },
         "name": "Multan",
         "offsetgroup": "Multan",
         "orientation": "v",
         "showlegend": true,
         "textposition": "auto",
         "type": "bar",
         "x": [
          "Multan"
         ],
         "xaxis": "x",
         "y": [
          40
         ],
         "yaxis": "y"
        },
        {
         "alignmentgroup": "True",
         "hovertemplate": "color=Cantt<br>x=%{x}<br>y=%{y}<extra></extra>",
         "legendgroup": "Cantt",
         "marker": {
          "color": "#FECB52",
          "pattern": {
           "shape": ""
          }
         },
         "name": "Cantt",
         "offsetgroup": "Cantt",
         "orientation": "v",
         "showlegend": true,
         "textposition": "auto",
         "type": "bar",
         "x": [
          "Cantt"
         ],
         "xaxis": "x",
         "y": [
          39
         ],
         "yaxis": "y"
        },
        {
         "alignmentgroup": "True",
         "hovertemplate": "color=Bahawalpur<br>x=%{x}<br>y=%{y}<extra></extra>",
         "legendgroup": "Bahawalpur",
         "marker": {
          "color": "#636efa",
          "pattern": {
           "shape": ""
          }
         },
         "name": "Bahawalpur",
         "offsetgroup": "Bahawalpur",
         "orientation": "v",
         "showlegend": true,
         "textposition": "auto",
         "type": "bar",
         "x": [
          "Bahawalpur"
         ],
         "xaxis": "x",
         "y": [
          37
         ],
         "yaxis": "y"
        },
        {
         "alignmentgroup": "True",
         "hovertemplate": "color=Gujrat<br>x=%{x}<br>y=%{y}<extra></extra>",
         "legendgroup": "Gujrat",
         "marker": {
          "color": "#EF553B",
          "pattern": {
           "shape": ""
          }
         },
         "name": "Gujrat",
         "offsetgroup": "Gujrat",
         "orientation": "v",
         "showlegend": true,
         "textposition": "auto",
         "type": "bar",
         "x": [
          "Gujrat"
         ],
         "xaxis": "x",
         "y": [
          36
         ],
         "yaxis": "y"
        },
        {
         "alignmentgroup": "True",
         "hovertemplate": "color=Khan<br>x=%{x}<br>y=%{y}<extra></extra>",
         "legendgroup": "Khan",
         "marker": {
          "color": "#00cc96",
          "pattern": {
           "shape": ""
          }
         },
         "name": "Khan",
         "offsetgroup": "Khan",
         "orientation": "v",
         "showlegend": true,
         "textposition": "auto",
         "type": "bar",
         "x": [
          "Khan"
         ],
         "xaxis": "x",
         "y": [
          34
         ],
         "yaxis": "y"
        },
        {
         "alignmentgroup": "True",
         "hovertemplate": "color=College<br>x=%{x}<br>y=%{y}<extra></extra>",
         "legendgroup": "College",
         "marker": {
          "color": "#ab63fa",
          "pattern": {
           "shape": ""
          }
         },
         "name": "College",
         "offsetgroup": "College",
         "orientation": "v",
         "showlegend": true,
         "textposition": "auto",
         "type": "bar",
         "x": [
          "College"
         ],
         "xaxis": "x",
         "y": [
          30
         ],
         "yaxis": "y"
        },
        {
         "alignmentgroup": "True",
         "hovertemplate": "color=Attock<br>x=%{x}<br>y=%{y}<extra></extra>",
         "legendgroup": "Attock",
         "marker": {
          "color": "#FFA15A",
          "pattern": {
           "shape": ""
          }
         },
         "name": "Attock",
         "offsetgroup": "Attock",
         "orientation": "v",
         "showlegend": true,
         "textposition": "auto",
         "type": "bar",
         "x": [
          "Attock"
         ],
         "xaxis": "x",
         "y": [
          27
         ],
         "yaxis": "y"
        },
        {
         "alignmentgroup": "True",
         "hovertemplate": "color=Bhakkar<br>x=%{x}<br>y=%{y}<extra></extra>",
         "legendgroup": "Bhakkar",
         "marker": {
          "color": "#19d3f3",
          "pattern": {
           "shape": ""
          }
         },
         "name": "Bhakkar",
         "offsetgroup": "Bhakkar",
         "orientation": "v",
         "showlegend": true,
         "textposition": "auto",
         "type": "bar",
         "x": [
          "Bhakkar"
         ],
         "xaxis": "x",
         "y": [
          26
         ],
         "yaxis": "y"
        },
        {
         "alignmentgroup": "True",
         "hovertemplate": "color=Bahawalnagar<br>x=%{x}<br>y=%{y}<extra></extra>",
         "legendgroup": "Bahawalnagar",
         "marker": {
          "color": "#FF6692",
          "pattern": {
           "shape": ""
          }
         },
         "name": "Bahawalnagar",
         "offsetgroup": "Bahawalnagar",
         "orientation": "v",
         "showlegend": true,
         "textposition": "auto",
         "type": "bar",
         "x": [
          "Bahawalnagar"
         ],
         "xaxis": "x",
         "y": [
          23
         ],
         "yaxis": "y"
        },
        {
         "alignmentgroup": "True",
         "hovertemplate": "color=Abbottabad<br>x=%{x}<br>y=%{y}<extra></extra>",
         "legendgroup": "Abbottabad",
         "marker": {
          "color": "#B6E880",
          "pattern": {
           "shape": ""
          }
         },
         "name": "Abbottabad",
         "offsetgroup": "Abbottabad",
         "orientation": "v",
         "showlegend": true,
         "textposition": "auto",
         "type": "bar",
         "x": [
          "Abbottabad"
         ],
         "xaxis": "x",
         "y": [
          23
         ],
         "yaxis": "y"
        },
        {
         "alignmentgroup": "True",
         "hovertemplate": "color=Jhang<br>x=%{x}<br>y=%{y}<extra></extra>",
         "legendgroup": "Jhang",
         "marker": {
          "color": "#FF97FF",
          "pattern": {
           "shape": ""
          }
         },
         "name": "Jhang",
         "offsetgroup": "Jhang",
         "orientation": "v",
         "showlegend": true,
         "textposition": "auto",
         "type": "bar",
         "x": [
          "Jhang"
         ],
         "xaxis": "x",
         "y": [
          22
         ],
         "yaxis": "y"
        },
        {
         "alignmentgroup": "True",
         "hovertemplate": "color=Sialkot<br>x=%{x}<br>y=%{y}<extra></extra>",
         "legendgroup": "Sialkot",
         "marker": {
          "color": "#FECB52",
          "pattern": {
           "shape": ""
          }
         },
         "name": "Sialkot",
         "offsetgroup": "Sialkot",
         "orientation": "v",
         "showlegend": true,
         "textposition": "auto",
         "type": "bar",
         "x": [
          "Sialkot"
         ],
         "xaxis": "x",
         "y": [
          21
         ],
         "yaxis": "y"
        },
        {
         "alignmentgroup": "True",
         "hovertemplate": "color=Kohat<br>x=%{x}<br>y=%{y}<extra></extra>",
         "legendgroup": "Kohat",
         "marker": {
          "color": "#636efa",
          "pattern": {
           "shape": ""
          }
         },
         "name": "Kohat",
         "offsetgroup": "Kohat",
         "orientation": "v",
         "showlegend": true,
         "textposition": "auto",
         "type": "bar",
         "x": [
          "Kohat"
         ],
         "xaxis": "x",
         "y": [
          20
         ],
         "yaxis": "y"
        }
       ],
       "layout": {
        "barmode": "relative",
        "legend": {
         "title": {
          "text": "color"
         },
         "tracegroupgap": 0
        },
        "margin": {
         "t": 60
        },
        "template": {
         "data": {
          "bar": [
           {
            "error_x": {
             "color": "#2a3f5f"
            },
            "error_y": {
             "color": "#2a3f5f"
            },
            "marker": {
             "line": {
              "color": "#E5ECF6",
              "width": 0.5
             },
             "pattern": {
              "fillmode": "overlay",
              "size": 10,
              "solidity": 0.2
             }
            },
            "type": "bar"
           }
          ],
          "barpolar": [
           {
            "marker": {
             "line": {
              "color": "#E5ECF6",
              "width": 0.5
             },
             "pattern": {
              "fillmode": "overlay",
              "size": 10,
              "solidity": 0.2
             }
            },
            "type": "barpolar"
           }
          ],
          "carpet": [
           {
            "aaxis": {
             "endlinecolor": "#2a3f5f",
             "gridcolor": "white",
             "linecolor": "white",
             "minorgridcolor": "white",
             "startlinecolor": "#2a3f5f"
            },
            "baxis": {
             "endlinecolor": "#2a3f5f",
             "gridcolor": "white",
             "linecolor": "white",
             "minorgridcolor": "white",
             "startlinecolor": "#2a3f5f"
            },
            "type": "carpet"
           }
          ],
          "choropleth": [
           {
            "colorbar": {
             "outlinewidth": 0,
             "ticks": ""
            },
            "type": "choropleth"
           }
          ],
          "contour": [
           {
            "colorbar": {
             "outlinewidth": 0,
             "ticks": ""
            },
            "colorscale": [
             [
              0,
              "#0d0887"
             ],
             [
              0.1111111111111111,
              "#46039f"
             ],
             [
              0.2222222222222222,
              "#7201a8"
             ],
             [
              0.3333333333333333,
              "#9c179e"
             ],
             [
              0.4444444444444444,
              "#bd3786"
             ],
             [
              0.5555555555555556,
              "#d8576b"
             ],
             [
              0.6666666666666666,
              "#ed7953"
             ],
             [
              0.7777777777777778,
              "#fb9f3a"
             ],
             [
              0.8888888888888888,
              "#fdca26"
             ],
             [
              1,
              "#f0f921"
             ]
            ],
            "type": "contour"
           }
          ],
          "contourcarpet": [
           {
            "colorbar": {
             "outlinewidth": 0,
             "ticks": ""
            },
            "type": "contourcarpet"
           }
          ],
          "heatmap": [
           {
            "colorbar": {
             "outlinewidth": 0,
             "ticks": ""
            },
            "colorscale": [
             [
              0,
              "#0d0887"
             ],
             [
              0.1111111111111111,
              "#46039f"
             ],
             [
              0.2222222222222222,
              "#7201a8"
             ],
             [
              0.3333333333333333,
              "#9c179e"
             ],
             [
              0.4444444444444444,
              "#bd3786"
             ],
             [
              0.5555555555555556,
              "#d8576b"
             ],
             [
              0.6666666666666666,
              "#ed7953"
             ],
             [
              0.7777777777777778,
              "#fb9f3a"
             ],
             [
              0.8888888888888888,
              "#fdca26"
             ],
             [
              1,
              "#f0f921"
             ]
            ],
            "type": "heatmap"
           }
          ],
          "heatmapgl": [
           {
            "colorbar": {
             "outlinewidth": 0,
             "ticks": ""
            },
            "colorscale": [
             [
              0,
              "#0d0887"
             ],
             [
              0.1111111111111111,
              "#46039f"
             ],
             [
              0.2222222222222222,
              "#7201a8"
             ],
             [
              0.3333333333333333,
              "#9c179e"
             ],
             [
              0.4444444444444444,
              "#bd3786"
             ],
             [
              0.5555555555555556,
              "#d8576b"
             ],
             [
              0.6666666666666666,
              "#ed7953"
             ],
             [
              0.7777777777777778,
              "#fb9f3a"
             ],
             [
              0.8888888888888888,
              "#fdca26"
             ],
             [
              1,
              "#f0f921"
             ]
            ],
            "type": "heatmapgl"
           }
          ],
          "histogram": [
           {
            "marker": {
             "pattern": {
              "fillmode": "overlay",
              "size": 10,
              "solidity": 0.2
             }
            },
            "type": "histogram"
           }
          ],
          "histogram2d": [
           {
            "colorbar": {
             "outlinewidth": 0,
             "ticks": ""
            },
            "colorscale": [
             [
              0,
              "#0d0887"
             ],
             [
              0.1111111111111111,
              "#46039f"
             ],
             [
              0.2222222222222222,
              "#7201a8"
             ],
             [
              0.3333333333333333,
              "#9c179e"
             ],
             [
              0.4444444444444444,
              "#bd3786"
             ],
             [
              0.5555555555555556,
              "#d8576b"
             ],
             [
              0.6666666666666666,
              "#ed7953"
             ],
             [
              0.7777777777777778,
              "#fb9f3a"
             ],
             [
              0.8888888888888888,
              "#fdca26"
             ],
             [
              1,
              "#f0f921"
             ]
            ],
            "type": "histogram2d"
           }
          ],
          "histogram2dcontour": [
           {
            "colorbar": {
             "outlinewidth": 0,
             "ticks": ""
            },
            "colorscale": [
             [
              0,
              "#0d0887"
             ],
             [
              0.1111111111111111,
              "#46039f"
             ],
             [
              0.2222222222222222,
              "#7201a8"
             ],
             [
              0.3333333333333333,
              "#9c179e"
             ],
             [
              0.4444444444444444,
              "#bd3786"
             ],
             [
              0.5555555555555556,
              "#d8576b"
             ],
             [
              0.6666666666666666,
              "#ed7953"
             ],
             [
              0.7777777777777778,
              "#fb9f3a"
             ],
             [
              0.8888888888888888,
              "#fdca26"
             ],
             [
              1,
              "#f0f921"
             ]
            ],
            "type": "histogram2dcontour"
           }
          ],
          "mesh3d": [
           {
            "colorbar": {
             "outlinewidth": 0,
             "ticks": ""
            },
            "type": "mesh3d"
           }
          ],
          "parcoords": [
           {
            "line": {
             "colorbar": {
              "outlinewidth": 0,
              "ticks": ""
             }
            },
            "type": "parcoords"
           }
          ],
          "pie": [
           {
            "automargin": true,
            "type": "pie"
           }
          ],
          "scatter": [
           {
            "fillpattern": {
             "fillmode": "overlay",
             "size": 10,
             "solidity": 0.2
            },
            "type": "scatter"
           }
          ],
          "scatter3d": [
           {
            "line": {
             "colorbar": {
              "outlinewidth": 0,
              "ticks": ""
             }
            },
            "marker": {
             "colorbar": {
              "outlinewidth": 0,
              "ticks": ""
             }
            },
            "type": "scatter3d"
           }
          ],
          "scattercarpet": [
           {
            "marker": {
             "colorbar": {
              "outlinewidth": 0,
              "ticks": ""
             }
            },
            "type": "scattercarpet"
           }
          ],
          "scattergeo": [
           {
            "marker": {
             "colorbar": {
              "outlinewidth": 0,
              "ticks": ""
             }
            },
            "type": "scattergeo"
           }
          ],
          "scattergl": [
           {
            "marker": {
             "colorbar": {
              "outlinewidth": 0,
              "ticks": ""
             }
            },
            "type": "scattergl"
           }
          ],
          "scattermapbox": [
           {
            "marker": {
             "colorbar": {
              "outlinewidth": 0,
              "ticks": ""
             }
            },
            "type": "scattermapbox"
           }
          ],
          "scatterpolar": [
           {
            "marker": {
             "colorbar": {
              "outlinewidth": 0,
              "ticks": ""
             }
            },
            "type": "scatterpolar"
           }
          ],
          "scatterpolargl": [
           {
            "marker": {
             "colorbar": {
              "outlinewidth": 0,
              "ticks": ""
             }
            },
            "type": "scatterpolargl"
           }
          ],
          "scatterternary": [
           {
            "marker": {
             "colorbar": {
              "outlinewidth": 0,
              "ticks": ""
             }
            },
            "type": "scatterternary"
           }
          ],
          "surface": [
           {
            "colorbar": {
             "outlinewidth": 0,
             "ticks": ""
            },
            "colorscale": [
             [
              0,
              "#0d0887"
             ],
             [
              0.1111111111111111,
              "#46039f"
             ],
             [
              0.2222222222222222,
              "#7201a8"
             ],
             [
              0.3333333333333333,
              "#9c179e"
             ],
             [
              0.4444444444444444,
              "#bd3786"
             ],
             [
              0.5555555555555556,
              "#d8576b"
             ],
             [
              0.6666666666666666,
              "#ed7953"
             ],
             [
              0.7777777777777778,
              "#fb9f3a"
             ],
             [
              0.8888888888888888,
              "#fdca26"
             ],
             [
              1,
              "#f0f921"
             ]
            ],
            "type": "surface"
           }
          ],
          "table": [
           {
            "cells": {
             "fill": {
              "color": "#EBF0F8"
             },
             "line": {
              "color": "white"
             }
            },
            "header": {
             "fill": {
              "color": "#C8D4E3"
             },
             "line": {
              "color": "white"
             }
            },
            "type": "table"
           }
          ]
         },
         "layout": {
          "annotationdefaults": {
           "arrowcolor": "#2a3f5f",
           "arrowhead": 0,
           "arrowwidth": 1
          },
          "autotypenumbers": "strict",
          "coloraxis": {
           "colorbar": {
            "outlinewidth": 0,
            "ticks": ""
           }
          },
          "colorscale": {
           "diverging": [
            [
             0,
             "#8e0152"
            ],
            [
             0.1,
             "#c51b7d"
            ],
            [
             0.2,
             "#de77ae"
            ],
            [
             0.3,
             "#f1b6da"
            ],
            [
             0.4,
             "#fde0ef"
            ],
            [
             0.5,
             "#f7f7f7"
            ],
            [
             0.6,
             "#e6f5d0"
            ],
            [
             0.7,
             "#b8e186"
            ],
            [
             0.8,
             "#7fbc41"
            ],
            [
             0.9,
             "#4d9221"
            ],
            [
             1,
             "#276419"
            ]
           ],
           "sequential": [
            [
             0,
             "#0d0887"
            ],
            [
             0.1111111111111111,
             "#46039f"
            ],
            [
             0.2222222222222222,
             "#7201a8"
            ],
            [
             0.3333333333333333,
             "#9c179e"
            ],
            [
             0.4444444444444444,
             "#bd3786"
            ],
            [
             0.5555555555555556,
             "#d8576b"
            ],
            [
             0.6666666666666666,
             "#ed7953"
            ],
            [
             0.7777777777777778,
             "#fb9f3a"
            ],
            [
             0.8888888888888888,
             "#fdca26"
            ],
            [
             1,
             "#f0f921"
            ]
           ],
           "sequentialminus": [
            [
             0,
             "#0d0887"
            ],
            [
             0.1111111111111111,
             "#46039f"
            ],
            [
             0.2222222222222222,
             "#7201a8"
            ],
            [
             0.3333333333333333,
             "#9c179e"
            ],
            [
             0.4444444444444444,
             "#bd3786"
            ],
            [
             0.5555555555555556,
             "#d8576b"
            ],
            [
             0.6666666666666666,
             "#ed7953"
            ],
            [
             0.7777777777777778,
             "#fb9f3a"
            ],
            [
             0.8888888888888888,
             "#fdca26"
            ],
            [
             1,
             "#f0f921"
            ]
           ]
          },
          "colorway": [
           "#636efa",
           "#EF553B",
           "#00cc96",
           "#ab63fa",
           "#FFA15A",
           "#19d3f3",
           "#FF6692",
           "#B6E880",
           "#FF97FF",
           "#FECB52"
          ],
          "font": {
           "color": "#2a3f5f"
          },
          "geo": {
           "bgcolor": "white",
           "lakecolor": "white",
           "landcolor": "#E5ECF6",
           "showlakes": true,
           "showland": true,
           "subunitcolor": "white"
          },
          "hoverlabel": {
           "align": "left"
          },
          "hovermode": "closest",
          "mapbox": {
           "style": "light"
          },
          "paper_bgcolor": "white",
          "plot_bgcolor": "#E5ECF6",
          "polar": {
           "angularaxis": {
            "gridcolor": "white",
            "linecolor": "white",
            "ticks": ""
           },
           "bgcolor": "#E5ECF6",
           "radialaxis": {
            "gridcolor": "white",
            "linecolor": "white",
            "ticks": ""
           }
          },
          "scene": {
           "xaxis": {
            "backgroundcolor": "#E5ECF6",
            "gridcolor": "white",
            "gridwidth": 2,
            "linecolor": "white",
            "showbackground": true,
            "ticks": "",
            "zerolinecolor": "white"
           },
           "yaxis": {
            "backgroundcolor": "#E5ECF6",
            "gridcolor": "white",
            "gridwidth": 2,
            "linecolor": "white",
            "showbackground": true,
            "ticks": "",
            "zerolinecolor": "white"
           },
           "zaxis": {
            "backgroundcolor": "#E5ECF6",
            "gridcolor": "white",
            "gridwidth": 2,
            "linecolor": "white",
            "showbackground": true,
            "ticks": "",
            "zerolinecolor": "white"
           }
          },
          "shapedefaults": {
           "line": {
            "color": "#2a3f5f"
           }
          },
          "ternary": {
           "aaxis": {
            "gridcolor": "white",
            "linecolor": "white",
            "ticks": ""
           },
           "baxis": {
            "gridcolor": "white",
            "linecolor": "white",
            "ticks": ""
           },
           "bgcolor": "#E5ECF6",
           "caxis": {
            "gridcolor": "white",
            "linecolor": "white",
            "ticks": ""
           }
          },
          "title": {
           "x": 0.05
          },
          "xaxis": {
           "automargin": true,
           "gridcolor": "white",
           "linecolor": "white",
           "ticks": "",
           "title": {
            "standoff": 15
           },
           "zerolinecolor": "white",
           "zerolinewidth": 2
          },
          "yaxis": {
           "automargin": true,
           "gridcolor": "white",
           "linecolor": "white",
           "ticks": "",
           "title": {
            "standoff": 15
           },
           "zerolinecolor": "white",
           "zerolinewidth": 2
          }
         }
        },
        "xaxis": {
         "anchor": "y",
         "domain": [
          0,
          1
         ],
         "title": {
          "text": "x"
         }
        },
        "yaxis": {
         "anchor": "x",
         "domain": [
          0,
          1
         ],
         "title": {
          "text": "y"
         }
        }
       }
      }
     },
     "metadata": {},
     "output_type": "display_data"
    }
   ],
   "source": [
    "\n",
    "fig = px.bar(x=df['City'].value_counts().head(21).index, y=df['City'].value_counts().head(21).values, color=df['City'].value_counts().head(21).index)\n",
    "fig.show()"
   ]
  },
  {
   "cell_type": "markdown",
   "metadata": {},
   "source": [
    "### Number of Colleges in Major cities Of Pakistan"
   ]
  },
  {
   "cell_type": "code",
   "execution_count": 38,
   "metadata": {},
   "outputs": [],
   "source": [
    "top_cities = ['Lahore', 'Peshawar', 'Quetta', 'Islamabad', 'Karachi','Faisalabad','Rawalpindi']"
   ]
  },
  {
   "cell_type": "code",
   "execution_count": 40,
   "metadata": {},
   "outputs": [
    {
     "name": "stdout",
     "output_type": "stream",
     "text": [
      "Number of colleges present in Lahore are:  203\n",
      "Number of colleges present in karachi are:  105\n",
      "Number of colleges present in Peshawar are:  61\n",
      "Number of colleges present in Quetta are:  11\n",
      "Number of colleges present in Islamabad are:  115\n",
      "Number of colleges present in Faisalabad are:  86\n",
      "Number of colleges present in Rawalpindi are:  94\n"
     ]
    }
   ],
   "source": [
    "print(\"Number of colleges present in Lahore are: \", df[df[\"City\"]==\"Lahore\"].value_counts().sum())\n",
    "print(\"Number of colleges present in karachi are: \", df[df[\"City\"]==\"Karachi\"].value_counts().sum())\n",
    "print(\"Number of colleges present in Peshawar are: \", df[df[\"City\"]==\"Peshawar\"].value_counts().sum())\n",
    "print(\"Number of colleges present in Quetta are: \", df[df[\"City\"]==\"Quetta\"].value_counts().sum())\n",
    "print(\"Number of colleges present in Islamabad are: \", df[df[\"City\"]==\"Islamabad\"].value_counts().sum())\n",
    "print(\"Number of colleges present in Faisalabad are: \", df[df[\"City\"]==\"Faisalabad\"].value_counts().sum())\n",
    "print(\"Number of colleges present in Rawalpindi are: \", df[df[\"City\"]==\"Rawalpindi\"].value_counts().sum())"
   ]
  },
  {
   "cell_type": "markdown",
   "metadata": {},
   "source": [
    "### Top Colleges in Major cities of Pakistan."
   ]
  },
  {
   "cell_type": "code",
   "execution_count": 41,
   "metadata": {},
   "outputs": [
    {
     "data": {
      "text/plain": [
       "City\n",
       "Lahore        44\n",
       "Karachi       22\n",
       "Islamabad     16\n",
       "Faisalabad    16\n",
       "Rawalpindi    16\n",
       "Peshawar      14\n",
       "Quetta         5\n",
       "Name: count, dtype: int64"
      ]
     },
     "execution_count": 41,
     "metadata": {},
     "output_type": "execute_result"
    }
   ],
   "source": [
    "df[(df['City'].isin(top_cities)) & (df['Rating'] >= 4) ]['City'].value_counts()"
   ]
  },
  {
   "cell_type": "code",
   "execution_count": 42,
   "metadata": {},
   "outputs": [
    {
     "data": {
      "text/plain": [
       "<Axes: xlabel='City'>"
      ]
     },
     "execution_count": 42,
     "metadata": {},
     "output_type": "execute_result"
    },
    {
     "data": {
      "image/png": "[encoded data removed]",
      "text/plain": [
       "<Figure size 640x480 with 1 Axes>"
      ]
     },
     "metadata": {},
     "output_type": "display_data"
    }
   ],
   "source": [
    "df[(df['City'].isin(top_cities)) & (df['Rating'] >= 4) ]['City'].value_counts().plot(kind='bar')"
   ]
  },
  {
   "cell_type": "markdown",
   "metadata": {},
   "source": [
    "### Number of Top Public sectors in major cities "
   ]
  },
  {
   "cell_type": "code",
   "execution_count": 43,
   "metadata": {},
   "outputs": [
    {
     "data": {
      "text/plain": [
       "City\n",
       "Lahore        14\n",
       "Faisalabad    10\n",
       "Peshawar       6\n",
       "Islamabad      3\n",
       "Quetta         3\n",
       "Rawalpindi     2\n",
       "Karachi        1\n",
       "Name: count, dtype: int64"
      ]
     },
     "execution_count": 43,
     "metadata": {},
     "output_type": "execute_result"
    }
   ],
   "source": [
    "df[(df['City'].isin(top_cities)) & (df['Rating'] >= 4) & (df['Sector'] == \"Public\" ) ]['City'].value_counts()"
   ]
  },
  {
   "cell_type": "code",
   "execution_count": 44,
   "metadata": {},
   "outputs": [
    {
     "data": {
      "text/plain": [
       "<Axes: xlabel='City'>"
      ]
     },
     "execution_count": 44,
     "metadata": {},
     "output_type": "execute_result"
    },
    {
     "data": {
      "image/png": "[encoded data removed]",
      "text/plain": [
       "<Figure size 640x480 with 1 Axes>"
      ]
     },
     "metadata": {},
     "output_type": "display_data"
    }
   ],
   "source": [
    "df[(df['City'].isin(top_cities)) & (df['Rating'] >= 4) & (df['Sector'] == \"Public\" ) ]['City'].value_counts().plot(kind='bar')"
   ]
  },
  {
   "cell_type": "markdown",
   "metadata": {},
   "source": [
    "* Lahore and Faisalabad had the most Top colleges of Public Sector."
   ]
  },
  {
   "cell_type": "markdown",
   "metadata": {},
   "source": [
    "### Number of Top Private sector Colleges in major cities."
   ]
  },
  {
   "cell_type": "code",
   "execution_count": 45,
   "metadata": {},
   "outputs": [
    {
     "data": {
      "text/plain": [
       "City\n",
       "Lahore        12\n",
       "Rawalpindi     9\n",
       "Islamabad      7\n",
       "Faisalabad     2\n",
       "Karachi        2\n",
       "Peshawar       1\n",
       "Name: count, dtype: int64"
      ]
     },
     "execution_count": 45,
     "metadata": {},
     "output_type": "execute_result"
    }
   ],
   "source": [
    "df[(df['City'].isin(top_cities)) & (df['Rating'] >= 4) & (df['Sector'] == \"Private\" ) ]['City'].value_counts()"
   ]
  },
  {
   "cell_type": "code",
   "execution_count": 47,
   "metadata": {},
   "outputs": [
    {
     "data": {
      "text/plain": [
       "<Axes: xlabel='City'>"
      ]
     },
     "execution_count": 47,
     "metadata": {},
     "output_type": "execute_result"
    },
    {
     "data": {
      "image/png": "[encoded data removed]",
      "text/plain": [
       "<Figure size 640x480 with 1 Axes>"
      ]
     },
     "metadata": {},
     "output_type": "display_data"
    }
   ],
   "source": [
    "df[(df['City'].isin(top_cities)) & (df['Rating'] >= 4) & (df['Sector'] == \"Private\" ) ]['City'].value_counts().plot(kind='bar')"
   ]
  },
  {
   "cell_type": "markdown",
   "metadata": {},
   "source": [
    "* In sense of Rating Lahore is on top in Private Sector too. "
   ]
  },
  {
   "cell_type": "code",
   "execution_count": 48,
   "metadata": {},
   "outputs": [
    {
     "data": {
      "application/vnd.plotly.v1+json": {
       "config": {
        "plotlyServerURL": "https://plot.ly"
       },
       "data": [
        {
         "branchvalues": "total",
         "customdata": [
          [
           "Public",
           "Cantt",
           0,
           "Cantt"
          ],
          [
           "Semi",
           "Bahawalpur",
           0,
           "Bahawalpur"
          ],
          [
           "Public",
           "Jhang",
           1,
           "Jhang"
          ],
          [
           "Semi",
           "Baha-ud-Din",
           0,
           "Baha-ud-Din"
          ],
          [
           "Private",
           "Shahdara",
           0,
           "Shahdara"
          ],
          [
           "Public",
           "Jhang",
           "(?)",
           "Jhang"
          ],
          [
           "Semi",
           "Mardan",
           0,
           "Mardan"
          ],
          [
           "Private",
           "Peshawar",
           3,
           "Peshawar"
          ],
          [
           "Private",
           "Dargai",
           0,
           "Dargai"
          ],
          [
           "Private",
           "Murree",
           0,
           "Murree"
          ],
          [
           "Public",
           "Hafizabad",
           3,
           "Hafizabad"
          ],
          [
           "Semi",
           "Lahore",
           4,
           "Lahore"
          ],
          [
           "Public",
           "AIOU",
           5,
           "AIOU"
          ],
          [
           "Private",
           "Malakand",
           0,
           "Malakand"
          ],
          [
           "Semi",
           "Quetta",
           0,
           "Quetta"
          ],
          [
           "Private",
           "Chakwal",
           3,
           "Chakwal"
          ],
          [
           "Private",
           "Phalia",
           5,
           "Phalia"
          ],
          [
           "Semi",
           "Pakpattan",
           0,
           "Pakpattan"
          ],
          [
           "Semi",
           "Chakwal",
           0,
           "Chakwal"
          ],
          [
           "Public",
           "Bhera",
           0,
           "Bhera"
          ],
          [
           "Private",
           "Chatta",
           0,
           "Chatta"
          ],
          [
           "Semi",
           "Lahore",
           5,
           "Lahore"
          ],
          [
           "Private",
           "Wazirabad",
           1,
           "Wazirabad"
          ],
          [
           "Private",
           "Gujrat",
           2,
           "Gujrat"
          ],
          [
           "Semi",
           "Sialkot",
           "(?)",
           "Sialkot"
          ],
          [
           "Semi",
           "Bahawalpur",
           "(?)",
           "Bahawalpur"
          ],
          [
           "Semi",
           "Bahawalpur",
           4,
           "Bahawalpur"
          ],
          [
           "Public",
           "Bhalwal",
           5,
           "Bhalwal"
          ],
          [
           "Public",
           "Chiniot",
           2,
           "Chiniot"
          ],
          [
           "Private",
           "Kharian",
           4,
           "Kharian"
          ],
          [
           "Private",
           "Chiniot",
           "(?)",
           "Chiniot"
          ],
          [
           "Private",
           "Technology",
           4,
           "Technology"
          ],
          [
           "Semi",
           "Commerce",
           0,
           "Commerce"
          ],
          [
           "Semi",
           "Sahiwal",
           0,
           "Sahiwal"
          ],
          [
           "Private",
           "Islamabad",
           4,
           "Islamabad"
          ],
          [
           "Semi",
           "Rawalpindi",
           "(?)",
           "Rawalpindi"
          ],
          [
           "Private",
           "Mansehra",
           0,
           "Mansehra"
          ],
          [
           "Semi",
           "Abbottabad",
           "(?)",
           "Abbottabad"
          ],
          [
           "Public",
           "Gujrat",
           5,
           "Gujrat"
          ],
          [
           "Semi",
           "Khan",
           "(?)",
           "Khan"
          ],
          [
           "Public",
           "Lahore",
           4,
           "Lahore"
          ],
          [
           "Public",
           "Hyderabad",
           0,
           "Hyderabad"
          ],
          [
           "Private",
           "Chawinda",
           0,
           "Chawinda"
          ],
          [
           "Private",
           "Kamoki",
           0,
           "Kamoki"
          ],
          [
           "Public",
           "Kohat",
           2,
           "Kohat"
          ],
          [
           "Private",
           "Pakpattan",
           3,
           "Pakpattan"
          ],
          [
           "Private",
           "Bhakkar",
           4,
           "Bhakkar"
          ],
          [
           "Private",
           "Cantt",
           3,
           "Cantt"
          ],
          [
           "Private",
           "Swat",
           0,
           "Swat"
          ],
          [
           "Private",
           "Attock",
           0,
           "Attock"
          ],
          [
           "Private",
           "School",
           0,
           "School"
          ],
          [
           "Semi",
           "Jhang",
           0,
           "Jhang"
          ],
          [
           "Private",
           "Karachi",
           3,
           "Karachi"
          ],
          [
           "Private",
           "Kharian",
           2,
           "Kharian"
          ],
          [
           "Private",
           "Feroze",
           0,
           "Feroze"
          ],
          [
           "Private",
           "Bahawalpur",
           4,
           "Bahawalpur"
          ],
          [
           "Private",
           "Vehari",
           5,
           "Vehari"
          ],
          [
           "Public",
           "Women",
           0,
           "Women"
          ],
          [
           "Private",
           "Bahauddin",
           0,
           "Bahauddin"
          ],
          [
           "Private",
           "System",
           0,
           "System"
          ],
          [
           "Semi",
           "Multan",
           4,
           "Multan"
          ],
          [
           "Private",
           "Lahore",
           5,
           "Lahore"
          ],
          [
           "Private",
           "kasur",
           1,
           "kasur"
          ],
          [
           "Private",
           "Rawalpindi",
           5,
           "Rawalpindi"
          ],
          [
           "Public",
           "Arifwala",
           0,
           "Arifwala"
          ],
          [
           "Semi",
           "Cantt",
           5,
           "Cantt"
          ],
          [
           "Private",
           "Nowshera",
           "(?)",
           "Nowshera"
          ],
          [
           "Semi",
           "Marwat",
           0,
           "Marwat"
          ],
          [
           "Private",
           "Alamgir",
           4,
           "Alamgir"
          ],
          [
           "Private",
           "Sialkot",
           1,
           "Sialkot"
          ],
          [
           "Private",
           "Pakpattan",
           3,
           "Pakpattan"
          ],
          [
           "Semi",
           "School",
           0,
           "School"
          ],
          [
           "Semi",
           "Solutions",
           3,
           "Solutions"
          ],
          [
           "Semi",
           "Mardan",
           0,
           "Mardan"
          ],
          [
           "Semi",
           "Mianwali",
           4,
           "Mianwali"
          ],
          [
           "Private",
           "Chawinda",
           0,
           "Chawinda"
          ],
          [
           "Private",
           "Zafarwal",
           0,
           "Zafarwal"
          ],
          [
           "Public",
           "Faisalabad",
           "(?)",
           "Faisalabad"
          ],
          [
           "Private",
           "Campus",
           "(?)",
           "Campus"
          ],
          [
           "Semi",
           "Vehari",
           0,
           "Vehari"
          ],
          [
           "Public",
           "Bhera",
           0,
           "Bhera"
          ],
          [
           "Semi",
           "Abbottabad",
           1,
           "Abbottabad"
          ],
          [
           "Semi",
           "INN",
           5,
           "INN"
          ],
          [
           "Private",
           "Bahawalnagar",
           0,
           "Bahawalnagar"
          ],
          [
           "Semi",
           "School",
           0,
           "School"
          ],
          [
           "Private",
           "Rawalpindi",
           3,
           "Rawalpindi"
          ],
          [
           "Semi",
           "Sahiwal",
           "(?)",
           "Sahiwal"
          ],
          [
           "Private",
           "Pattoki",
           0,
           "Pattoki"
          ],
          [
           "Private",
           "Kotli",
           0,
           "Kotli"
          ],
          [
           "Semi",
           "Shiekhupura",
           0,
           "Shiekhupura"
          ],
          [
           "Private",
           "Battagram",
           4,
           "Battagram"
          ],
          [
           "Private",
           "Mardan",
           0,
           "Mardan"
          ],
          [
           "Private",
           "Sadiqabad",
           5,
           "Sadiqabad"
          ],
          [
           "Semi",
           "Lahore",
           "(?)",
           "Lahore"
          ],
          [
           "Public",
           "Sheikhupura",
           "(?)",
           "Sheikhupura"
          ],
          [
           "Semi",
           "Sukkur",
           5,
           "Sukkur"
          ],
          [
           "Private",
           "Rawalkot",
           0,
           "Rawalkot"
          ],
          [
           "Semi",
           "Jhelum",
           3,
           "Jhelum"
          ],
          [
           "Public",
           "Khan",
           "(?)",
           "Khan"
          ],
          [
           "Private",
           "Khan",
           5,
           "Khan"
          ],
          [
           "Public",
           "Swat",
           5,
           "Swat"
          ],
          [
           "Semi",
           "Jajja",
           5,
           "Jajja"
          ],
          [
           "Semi",
           "Multan",
           "(?)",
           "Multan"
          ],
          [
           "Private",
           "Khan",
           "(?)",
           "Khan"
          ],
          [
           "Public",
           "Sialkot",
           3,
           "Sialkot"
          ],
          [
           "Public",
           "Bahawalpur",
           5,
           "Bahawalpur"
          ],
          [
           "Public",
           "Bahawalpur",
           4,
           "Bahawalpur"
          ],
          [
           "Private",
           "Karachi",
           "(?)",
           "Karachi"
          ],
          [
           "Private",
           "Okara",
           0,
           "Okara"
          ],
          [
           "Public",
           "Sheikhupura",
           3,
           "Sheikhupura"
          ],
          [
           "Public",
           "Chakwal",
           5,
           "Chakwal"
          ],
          [
           "Public",
           "Peshawar",
           4,
           "Peshawar"
          ],
          [
           "Semi",
           "Daska",
           0,
           "Daska"
          ],
          [
           "Private",
           "Okara",
           "(?)",
           "Okara"
          ],
          [
           "Private",
           "Faisalabad",
           0,
           "Faisalabad"
          ],
          [
           "Private",
           "Commerce",
           "(?)",
           "Commerce"
          ],
          [
           "Semi",
           "Islamabad",
           1,
           "Islamabad"
          ],
          [
           "Private",
           "Gujranwala",
           2,
           "Gujranwala"
          ],
          [
           "Private",
           "(?)",
           "(?)",
           "(?)"
          ],
          [
           "Semi",
           "Singh",
           0,
           "Singh"
          ],
          [
           "Private",
           "Swat",
           0,
           "Swat"
          ],
          [
           "Public",
           "Sahib",
           "(?)",
           "Sahib"
          ],
          [
           "Private",
           "Dina",
           0,
           "Dina"
          ],
          [
           "Semi",
           "Sargodha",
           "(?)",
           "Sargodha"
          ],
          [
           "Semi",
           "Kashmir",
           0,
           "Kashmir"
          ],
          [
           "Private",
           "Peshawar",
           "(?)",
           "Peshawar"
          ],
          [
           "Private",
           "Jaranwala",
           0,
           "Jaranwala"
          ],
          [
           "Private",
           "Jhang",
           5,
           "Jhang"
          ],
          [
           "Semi",
           "Kohat",
           0,
           "Kohat"
          ],
          [
           "Private",
           "Sciences",
           3,
           "Sciences"
          ],
          [
           "Semi",
           "Islamabad",
           "(?)",
           "Islamabad"
          ],
          [
           "Private",
           "Abbottabad",
           0,
           "Abbottabad"
          ],
          [
           "Private",
           "Raiwind",
           3,
           "Raiwind"
          ],
          [
           "Private",
           "Kasur",
           1,
           "Kasur"
          ],
          [
           "Private",
           "Shakargarh",
           0,
           "Shakargarh"
          ],
          [
           "Public",
           "Sialkot",
           "(?)",
           "Sialkot"
          ],
          [
           "Private",
           "Rawlakot",
           0,
           "Rawlakot"
          ],
          [
           "Private",
           "Liaqatpur",
           0,
           "Liaqatpur"
          ],
          [
           "Private",
           "Jattan",
           0,
           "Jattan"
          ],
          [
           "Private",
           "Shorkot",
           0,
           "Shorkot"
          ],
          [
           "Private",
           "Mardan",
           5,
           "Mardan"
          ],
          [
           "Semi",
           "Kasur",
           "(?)",
           "Kasur"
          ],
          [
           "Public",
           "Kashmir",
           0,
           "Kashmir"
          ],
          [
           "Public",
           "Colleges",
           0,
           "Colleges"
          ],
          [
           "Private",
           "Faisalabad",
           2,
           "Faisalabad"
          ],
          [
           "Private",
           "Rawalpindi",
           0,
           "Rawalpindi"
          ],
          [
           "Private",
           "Pattoki",
           3,
           "Pattoki"
          ],
          [
           "Semi",
           "Collage",
           0,
           "Collage"
          ],
          [
           "Semi",
           "Chichawatni",
           0,
           "Chichawatni"
          ],
          [
           "Public",
           "Jhang",
           3,
           "Jhang"
          ],
          [
           "Private",
           "Layyah",
           0,
           "Layyah"
          ],
          [
           "Semi",
           "Bahawalnagar",
           0,
           "Bahawalnagar"
          ],
          [
           "Private",
           "Bhurban",
           0,
           "Bhurban"
          ],
          [
           "Semi",
           "Karachi",
           4,
           "Karachi"
          ],
          [
           "Private",
           "Khanpur",
           0,
           "Khanpur"
          ],
          [
           "Public",
           "Faisalabad",
           1,
           "Faisalabad"
          ],
          [
           "Public",
           "Burewala",
           4,
           "Burewala"
          ],
          [
           "Private",
           "Technology",
           4,
           "Technology"
          ],
          [
           "Semi",
           "Kohat",
           0,
           "Kohat"
          ],
          [
           "Private",
           "Burewala",
           4,
           "Burewala"
          ],
          [
           "Private",
           "Islamabad",
           5,
           "Islamabad"
          ],
          [
           "Private",
           "Campus)",
           0,
           "Campus)"
          ],
          [
           "Semi",
           "Gujrat",
           "(?)",
           "Gujrat"
          ],
          [
           "Public",
           "Bhakkar",
           "(?)",
           "Bhakkar"
          ],
          [
           "Private",
           "Depalpur",
           3,
           "Depalpur"
          ],
          [
           "Semi",
           "Muridke",
           0,
           "Muridke"
          ],
          [
           "Private",
           "Chiniot",
           1,
           "Chiniot"
          ],
          [
           "Private",
           "Islamabad",
           0,
           "Islamabad"
          ],
          [
           "Public",
           "Abbottabad.",
           0,
           "Abbottabad."
          ],
          [
           "Public",
           "Gujranwala",
           4,
           "Gujranwala"
          ],
          [
           "Private",
           "Sukkur",
           0,
           "Sukkur"
          ],
          [
           "Private",
           "Management",
           0,
           "Management"
          ],
          [
           "Private",
           "(LGU)",
           5,
           "(LGU)"
          ],
          [
           "Private",
           "Addu",
           4,
           "Addu"
          ],
          [
           "Private",
           "Bhakkar",
           "(?)",
           "Bhakkar"
          ],
          [
           "Private",
           "shiekhupura",
           1,
           "shiekhupura"
          ],
          [
           "Semi",
           "Hayatabad",
           0,
           "Hayatabad"
          ],
          [
           "Semi",
           "Faisal",
           3,
           "Faisal"
          ],
          [
           "Private",
           "Mailsi",
           0,
           "Mailsi"
          ],
          [
           "Private",
           "Sialkot",
           "(?)",
           "Sialkot"
          ],
          [
           "Private",
           "sargodha",
           0,
           "sargodha"
          ],
          [
           "Semi",
           "Education",
           0,
           "Education"
          ],
          [
           "Private",
           "Colleges",
           5,
           "Colleges"
          ],
          [
           "Public",
           "Commerce",
           0,
           "Commerce"
          ],
          [
           "Semi",
           "Sargodha",
           0,
           "Sargodha"
          ],
          [
           "Private",
           "Chichawatni",
           0,
           "Chichawatni"
          ],
          [
           "Public",
           "Bannu",
           "(?)",
           "Bannu"
          ],
          [
           "Public",
           "Sukkur",
           0,
           "Sukkur"
          ],
          [
           "Semi",
           "Hayatabad",
           0,
           "Hayatabad"
          ],
          [
           "Private",
           "Commerce",
           1,
           "Commerce"
          ],
          [
           "Private",
           "Cantt",
           "(?)",
           "Cantt"
          ],
          [
           "Private",
           "Shiekhupura",
           0,
           "Shiekhupura"
          ],
          [
           "Public",
           "Sukkur",
           0,
           "Sukkur"
          ],
          [
           "Semi",
           "Attock",
           5,
           "Attock"
          ],
          [
           "Semi",
           "Solutions",
           3,
           "Solutions"
          ],
          [
           "Private",
           "Murree",
           0,
           "Murree"
          ],
          [
           "Public",
           "Bhimber",
           0,
           "Bhimber"
          ],
          [
           "Public",
           "Islamabad",
           0,
           "Islamabad"
          ],
          [
           "Semi",
           "Campus",
           0,
           "Campus"
          ],
          [
           "Private",
           "Lodhran",
           0,
           "Lodhran"
          ],
          [
           "Private",
           "Mirpur",
           0,
           "Mirpur"
          ],
          [
           "Public",
           "Pattoki",
           0,
           "Pattoki"
          ],
          [
           "Private",
           "Charsadda",
           0,
           "Charsadda"
          ],
          [
           "Public",
           "Kohat",
           "(?)",
           "Kohat"
          ],
          [
           "Semi",
           "Karachi",
           0,
           "Karachi"
          ],
          [
           "Private",
           "Colleges",
           0,
           "Colleges"
          ],
          [
           "Private",
           "Road",
           0,
           "Road"
          ],
          [
           "Semi",
           "Okara",
           0,
           "Okara"
          ],
          [
           "Private",
           "Rawalpindi",
           4,
           "Rawalpindi"
          ],
          [
           "Private",
           "Pattan",
           0,
           "Pattan"
          ],
          [
           "Private",
           "Raiwind",
           3,
           "Raiwind"
          ],
          [
           "Public",
           "Kasur",
           0,
           "Kasur"
          ],
          [
           "Semi",
           "Karachi",
           5,
           "Karachi"
          ],
          [
           "Public",
           "Commerce",
           0,
           "Commerce"
          ],
          [
           "Private",
           "Muzaffargarh",
           2,
           "Muzaffargarh"
          ],
          [
           "Public",
           "Bannu",
           5,
           "Bannu"
          ],
          [
           "Public",
           "Chakwal",
           4,
           "Chakwal"
          ],
          [
           "Private",
           "Gojra",
           1,
           "Gojra"
          ],
          [
           "Semi",
           "Islamabad",
           2,
           "Islamabad"
          ],
          [
           "Private",
           "Singh",
           "(?)",
           "Singh"
          ],
          [
           "Public",
           "Bannu",
           4,
           "Bannu"
          ],
          [
           "Public",
           "Sargodha",
           3,
           "Sargodha"
          ],
          [
           "Semi",
           "Mianwali",
           "(?)",
           "Mianwali"
          ],
          [
           "Public",
           "University",
           4,
           "University"
          ],
          [
           "Private",
           "Mansehra",
           0,
           "Mansehra"
          ],
          [
           "Private",
           "Faisalabad",
           3,
           "Faisalabad"
          ],
          [
           "Private",
           "Dargai",
           0,
           "Dargai"
          ],
          [
           "Private",
           "Hyderabad",
           0,
           "Hyderabad"
          ],
          [
           "Semi",
           "System",
           "(?)",
           "System"
          ],
          [
           "Private",
           "Daska",
           "(?)",
           "Daska"
          ],
          [
           "Private",
           "Bahawalpur",
           5,
           "Bahawalpur"
          ],
          [
           "Semi",
           "Islamabad",
           5,
           "Islamabad"
          ],
          [
           "Semi",
           "Cantt",
           "(?)",
           "Cantt"
          ],
          [
           "Public",
           "Hyderabad",
           1,
           "Hyderabad"
          ],
          [
           "Public",
           "Pakpattan",
           0,
           "Pakpattan"
          ],
          [
           "Public",
           "Rawalpindi",
           1,
           "Rawalpindi"
          ],
          [
           "Private",
           "Kharian",
           "(?)",
           "Kharian"
          ],
          [
           "Private",
           "CIMS",
           4,
           "CIMS"
          ],
          [
           "Private",
           "Daska",
           3,
           "Daska"
          ],
          [
           "Semi",
           "Strategically",
           0,
           "Strategically"
          ],
          [
           "Semi",
           "Faisalabad",
           5,
           "Faisalabad"
          ],
          [
           "Private",
           "Kohat",
           0,
           "Kohat"
          ],
          [
           "Private",
           "Jauharabad",
           4,
           "Jauharabad"
          ],
          [
           "Public",
           "Sargodha",
           5,
           "Sargodha"
          ],
          [
           "Private",
           "Islamabad",
           3,
           "Islamabad"
          ],
          [
           "Semi",
           "Rawalpindi",
           3,
           "Rawalpindi"
          ],
          [
           "Private",
           "Jhelum",
           3,
           "Jhelum"
          ],
          [
           "Semi",
           "Mirpur",
           4,
           "Mirpur"
          ],
          [
           "Private",
           "College",
           2,
           "College"
          ],
          [
           "Private",
           "Sharaqpur",
           4,
           "Sharaqpur"
          ],
          [
           "Private",
           "Cantt",
           2,
           "Cantt"
          ],
          [
           "Semi",
           "Multan",
           3,
           "Multan"
          ],
          [
           "Public",
           "Attock",
           2,
           "Attock"
          ],
          [
           "Public",
           "Faisalabad",
           5,
           "Faisalabad"
          ],
          [
           "Private",
           "Baha-ud-Din",
           5,
           "Baha-ud-Din"
          ],
          [
           "Semi",
           "Attock",
           "(?)",
           "Attock"
          ],
          [
           "Semi",
           "Gujrat",
           3,
           "Gujrat"
          ],
          [
           "Private",
           "(LGU)",
           5,
           "(LGU)"
          ],
          [
           "Private",
           "Gujrat",
           3,
           "Gujrat"
          ],
          [
           "Private",
           "CIMS",
           4,
           "CIMS"
          ],
          [
           "Private",
           "Bhurban",
           0,
           "Bhurban"
          ],
          [
           "Private",
           "Abbottabad",
           3,
           "Abbottabad"
          ],
          [
           "Private",
           "Faisalabad",
           5,
           "Faisalabad"
          ],
          [
           "Public",
           "Chiniot",
           4,
           "Chiniot"
          ],
          [
           "Private",
           "Abbottabad",
           "(?)",
           "Abbottabad"
          ],
          [
           "Private",
           "Singh",
           5,
           "Singh"
          ],
          [
           "Semi",
           "Sukkur",
           5,
           "Sukkur"
          ],
          [
           "Public",
           "Jhang",
           4,
           "Jhang"
          ],
          [
           "Private",
           "Abbotabad",
           0,
           "Abbotabad"
          ],
          [
           "Private",
           "Girls",
           5,
           "Girls"
          ],
          [
           "Semi",
           "System",
           2,
           "System"
          ],
          [
           "Public",
           "Women",
           0,
           "Women"
          ],
          [
           "Semi",
           "Multan",
           0,
           "Multan"
          ],
          [
           "Private",
           "Pasrur",
           "(?)",
           "Pasrur"
          ],
          [
           "Semi",
           "Okara",
           "(?)",
           "Okara"
          ],
          [
           "Semi",
           "Pasrur",
           0,
           "Pasrur"
          ],
          [
           "Public",
           "Attock",
           1,
           "Attock"
          ],
          [
           "Semi",
           "Nowshera",
           0,
           "Nowshera"
          ],
          [
           "Public",
           "Bhakkar",
           1,
           "Bhakkar"
          ],
          [
           "Public",
           "Gujranwala",
           "(?)",
           "Gujranwala"
          ],
          [
           "Public",
           "Lahoree",
           0,
           "Lahoree"
          ],
          [
           "Public",
           "AJK",
           0,
           "AJK"
          ],
          [
           "Private",
           "Karak",
           0,
           "Karak"
          ],
          [
           "Public",
           "Hafizabad",
           "(?)",
           "Hafizabad"
          ],
          [
           "Private",
           "Bhalwal",
           0,
           "Bhalwal"
          ],
          [
           "Semi",
           "Singh",
           0,
           "Singh"
          ],
          [
           "Semi",
           "Kashmir",
           0,
           "Kashmir"
          ],
          [
           "Public",
           "Kasur",
           0,
           "Kasur"
          ],
          [
           "Private",
           "Chaklala",
           0,
           "Chaklala"
          ],
          [
           "Private",
           "Chichawatni",
           0,
           "Chichawatni"
          ],
          [
           "Public",
           "Technology",
           5,
           "Technology"
          ],
          [
           "Private",
           "Mardan",
           "(?)",
           "Mardan"
          ],
          [
           "Semi",
           "Peshawar",
           0,
           "Peshawar"
          ],
          [
           "Public",
           "Peshawar",
           1,
           "Peshawar"
          ],
          [
           "Public",
           "College",
           "(?)",
           "College"
          ],
          [
           "Private",
           "Haripur",
           0,
           "Haripur"
          ],
          [
           "Private",
           "Arifwala",
           0,
           "Arifwala"
          ],
          [
           "Public",
           "Pukhtunkhwa",
           0,
           "Pukhtunkhwa"
          ],
          [
           "Private",
           "Samundri",
           5,
           "Samundri"
          ],
          [
           "Public",
           "Lahore",
           0,
           "Lahore"
          ],
          [
           "Public",
           "Khanewal",
           0,
           "Khanewal"
          ],
          [
           "Semi",
           "Kasur",
           0,
           "Kasur"
          ],
          [
           "Private",
           "Haroonabad",
           2,
           "Haroonabad"
          ],
          [
           "Private",
           "Campus",
           0,
           "Campus"
          ],
          [
           "Semi",
           "F-10/2",
           0,
           "F-10/2"
          ],
          [
           "Semi",
           "Peshawar",
           "(?)",
           "Peshawar"
          ],
          [
           "Private",
           "Arifwala",
           0,
           "Arifwala"
          ],
          [
           "Semi",
           "Quetta",
           5,
           "Quetta"
          ],
          [
           "Public",
           "Abbottabad.",
           0,
           "Abbottabad."
          ],
          [
           "Private",
           "Bahaudin",
           5,
           "Bahaudin"
          ],
          [
           "Semi",
           "Mirpur",
           "(?)",
           "Mirpur"
          ],
          [
           "Private",
           "PAC",
           4,
           "PAC"
          ],
          [
           "Private",
           "Sahib",
           0,
           "Sahib"
          ],
          [
           "Public",
           "Chawinda",
           5,
           "Chawinda"
          ],
          [
           "Public",
           "Faisalabad",
           3,
           "Faisalabad"
          ],
          [
           "Private",
           "Colleges",
           "(?)",
           "Colleges"
          ],
          [
           "Semi",
           "Karachi",
           "(?)",
           "Karachi"
          ],
          [
           "Public",
           "Okara",
           0,
           "Okara"
          ],
          [
           "Private",
           "islamabad",
           0,
           "islamabad"
          ],
          [
           "Semi",
           "Quetta",
           "(?)",
           "Quetta"
          ],
          [
           "Public",
           "Colleges",
           0,
           "Colleges"
          ],
          [
           "Public",
           "Sargodha",
           "(?)",
           "Sargodha"
          ],
          [
           "Private",
           "Studies",
           0,
           "Studies"
          ],
          [
           "Public",
           "Gujranwala",
           0,
           "Gujranwala"
          ],
          [
           "Private",
           "islamabad",
           0,
           "islamabad"
          ],
          [
           "Private",
           "Sargodha",
           0,
           "Sargodha"
          ],
          [
           "Private",
           "Shahdara",
           0,
           "Shahdara"
          ],
          [
           "Semi",
           "Sheikhupura",
           0,
           "Sheikhupura"
          ],
          [
           "Semi",
           "Mirpur",
           0,
           "Mirpur"
          ],
          [
           "Semi",
           "Lahore",
           0,
           "Lahore"
          ],
          [
           "Public",
           "Chatha",
           0,
           "Chatha"
          ],
          [
           "Private",
           "Malaysia)",
           5,
           "Malaysia)"
          ],
          [
           "Private",
           "Lodhran",
           0,
           "Lodhran"
          ],
          [
           "Semi",
           "Abbottabad",
           4,
           "Abbottabad"
          ],
          [
           "Private",
           "Battagram",
           4,
           "Battagram"
          ],
          [
           "Private",
           "Science",
           0,
           "Science"
          ],
          [
           "Public",
           "Lahoree",
           0,
           "Lahoree"
          ],
          [
           "Public",
           "Gujranwala",
           5,
           "Gujranwala"
          ],
          [
           "Private",
           "Lahore",
           4,
           "Lahore"
          ],
          [
           "Private",
           "Bhalwal",
           4,
           "Bhalwal"
          ],
          [
           "Public",
           "Peshawar",
           "(?)",
           "Peshawar"
          ],
          [
           "Public",
           "Rawalpindi",
           "(?)",
           "Rawalpindi"
          ],
          [
           "Semi",
           "Islamabad",
           4,
           "Islamabad"
          ],
          [
           "Semi",
           "(BCKK)",
           3,
           "(BCKK)"
          ],
          [
           "Public",
           "Multan",
           4,
           "Multan"
          ],
          [
           "Public",
           "Kashmir",
           0,
           "Kashmir"
          ],
          [
           "Private",
           "Lahore",
           0,
           "Lahore"
          ],
          [
           "Private",
           "Gujranwala",
           4,
           "Gujranwala"
          ],
          [
           "Private",
           "Okara",
           4,
           "Okara"
          ],
          [
           "Public",
           "Rawalpindi",
           5,
           "Rawalpindi"
          ],
          [
           "Private",
           "Pasrur",
           4,
           "Pasrur"
          ],
          [
           "Public",
           "Abbottabad",
           "(?)",
           "Abbottabad"
          ],
          [
           "Public",
           "Khan",
           0,
           "Khan"
          ],
          [
           "Public",
           "Kohat",
           0,
           "Kohat"
          ],
          [
           "Private",
           "Sadiqabad",
           5,
           "Sadiqabad"
          ],
          [
           "Semi",
           "Vehari",
           5,
           "Vehari"
          ],
          [
           "Semi",
           "Pakpattan",
           0,
           "Pakpattan"
          ],
          [
           "Public",
           "Badin",
           0,
           "Badin"
          ],
          [
           "Private",
           "Wazirabad",
           1,
           "Wazirabad"
          ],
          [
           "Private",
           "Swabi",
           0,
           "Swabi"
          ],
          [
           "Semi",
           "Swabi",
           0,
           "Swabi"
          ],
          [
           "Public",
           "Faisalabad",
           2,
           "Faisalabad"
          ],
          [
           "Private",
           "Chakwal",
           3,
           "Chakwal"
          ],
          [
           "Private",
           "Bhimber",
           0,
           "Bhimber"
          ],
          [
           "Private",
           "khan",
           0,
           "khan"
          ],
          [
           "Private",
           "Sialkot",
           2,
           "Sialkot"
          ],
          [
           "Private",
           "Campus)",
           0,
           "Campus)"
          ],
          [
           "Semi",
           "Lahore",
           1,
           "Lahore"
          ],
          [
           "Private",
           "Rawalpindi",
           2,
           "Rawalpindi"
          ],
          [
           "Private",
           "Pasrur",
           2,
           "Pasrur"
          ],
          [
           "Semi",
           "Din",
           0,
           "Din"
          ],
          [
           "Private",
           "Channu",
           1,
           "Channu"
          ],
          [
           "Private",
           "Lahore",
           2,
           "Lahore"
          ],
          [
           "Semi",
           "Faisalabad",
           1,
           "Faisalabad"
          ],
          [
           "Private",
           "College",
           5,
           "College"
          ],
          [
           "Semi",
           "Kasur",
           1,
           "Kasur"
          ],
          [
           "Public",
           "Khan",
           1,
           "Khan"
          ],
          [
           "Semi",
           "Sialkot",
           0,
           "Sialkot"
          ],
          [
           "Private",
           "Sheikhupura",
           0,
           "Sheikhupura"
          ],
          [
           "Public",
           "Cantt",
           5,
           "Cantt"
          ],
          [
           "Private",
           "Bahauddin",
           0,
           "Bahauddin"
          ],
          [
           "Private",
           "Narowal",
           0,
           "Narowal"
          ],
          [
           "Semi",
           "Technology",
           0,
           "Technology"
          ],
          [
           "Semi",
           "Attock",
           2,
           "Attock"
          ],
          [
           "Private",
           "Jehlum",
           0,
           "Jehlum"
          ],
          [
           "Private",
           "Jhelum",
           "(?)",
           "Jhelum"
          ],
          [
           "Public",
           "Okara",
           0,
           "Okara"
          ],
          [
           "Public",
           "Balakot",
           0,
           "Balakot"
          ],
          [
           "Private",
           "shiekhupura",
           1,
           "shiekhupura"
          ],
          [
           "Public",
           "Chitral",
           0,
           "Chitral"
          ],
          [
           "Private",
           "Kamoke",
           0,
           "Kamoke"
          ],
          [
           "Public",
           "Bahaudddin",
           5,
           "Bahaudddin"
          ],
          [
           "Public",
           "Bahawalnagar",
           5,
           "Bahawalnagar"
          ],
          [
           "Public",
           "Sahib",
           0,
           "Sahib"
          ],
          [
           "Private",
           "Daska",
           2,
           "Daska"
          ],
          [
           "Public",
           "Karachi",
           "(?)",
           "Karachi"
          ],
          [
           "Private",
           "Gujranwala",
           1,
           "Gujranwala"
          ],
          [
           "Public",
           "Nagar",
           "(?)",
           "Nagar"
          ],
          [
           "Public",
           "Gujranwala",
           2,
           "Gujranwala"
          ],
          [
           "Public",
           "Attock",
           "(?)",
           "Attock"
          ],
          [
           "Public",
           "Chattha",
           0,
           "Chattha"
          ],
          [
           "Private",
           "College",
           1,
           "College"
          ],
          [
           "Semi",
           "Abbottabad",
           3,
           "Abbottabad"
          ],
          [
           "Private",
           "Chitral",
           0,
           "Chitral"
          ],
          [
           "Semi",
           "Jajja",
           5,
           "Jajja"
          ],
          [
           "Public",
           "Bhalwal",
           5,
           "Bhalwal"
          ],
          [
           "Semi",
           "Hyderabad",
           4,
           "Hyderabad"
          ],
          [
           "Private",
           "Nowshera",
           5,
           "Nowshera"
          ],
          [
           "Private",
           "Jhang",
           4,
           "Jhang"
          ],
          [
           "Private",
           "Saydan",
           0,
           "Saydan"
          ],
          [
           "Semi",
           "Gujranwala",
           "(?)",
           "Gujranwala"
          ],
          [
           "Semi",
           "Multan",
           2,
           "Multan"
          ],
          [
           "Private",
           "Bahadurabad",
           0,
           "Bahadurabad"
          ],
          [
           "Semi",
           "Multan",
           5,
           "Multan"
          ],
          [
           "Private",
           "Gujranwala",
           3,
           "Gujranwala"
          ],
          [
           "Private",
           "Bahawalpur",
           "(?)",
           "Bahawalpur"
          ],
          [
           "Private",
           "Girls",
           "(?)",
           "Girls"
          ],
          [
           "Private",
           "Karachi",
           0,
           "Karachi"
          ],
          [
           "Private",
           "Kohat",
           "(?)",
           "Kohat"
          ],
          [
           "Private",
           "Women",
           0,
           "Women"
          ],
          [
           "Private",
           "Sciences",
           0,
           "Sciences"
          ],
          [
           "Private",
           "Rawlakot",
           0,
           "Rawlakot"
          ],
          [
           "Semi",
           "Swabi",
           0,
           "Swabi"
          ],
          [
           "Public",
           "Islamabad",
           5,
           "Islamabad"
          ],
          [
           "Public",
           "University",
           4,
           "University"
          ],
          [
           "Private",
           "Swabi",
           0,
           "Swabi"
          ],
          [
           "Private",
           "Hyderabad",
           5,
           "Hyderabad"
          ],
          [
           "Public",
           "Jhang",
           5,
           "Jhang"
          ],
          [
           "Public",
           "Chiniot",
           "(?)",
           "Chiniot"
          ],
          [
           "Public",
           "Karachi",
           5,
           "Karachi"
          ],
          [
           "Private",
           "College",
           "(?)",
           "College"
          ],
          [
           "Semi",
           "Dargai",
           0,
           "Dargai"
          ],
          [
           "Private",
           "Charsadda",
           0,
           "Charsadda"
          ],
          [
           "Public",
           "Cantt",
           "(?)",
           "Cantt"
          ],
          [
           "Private",
           "Faisalabad",
           "(?)",
           "Faisalabad"
          ],
          [
           "Private",
           "Burewala",
           4,
           "Burewala"
          ],
          [
           "Public",
           "Gujrat",
           "(?)",
           "Gujrat"
          ],
          [
           "Private",
           "Hafizabad",
           "(?)",
           "Hafizabad"
          ],
          [
           "Semi",
           "Bannu",
           0,
           "Bannu"
          ],
          [
           "Private",
           "Jaranwala",
           "(?)",
           "Jaranwala"
          ],
          [
           "Public",
           "Jhelum",
           "(?)",
           "Jhelum"
          ],
          [
           "Private",
           "Bagh",
           0,
           "Bagh"
          ],
          [
           "Private",
           "Management",
           0,
           "Management"
          ],
          [
           "Private",
           "Mianwali",
           0,
           "Mianwali"
          ],
          [
           "Public",
           "Mianwali",
           0,
           "Mianwali"
          ],
          [
           "Private",
           "Mirpur",
           0,
           "Mirpur"
          ],
          [
           "Private",
           "(RAC)",
           4,
           "(RAC)"
          ],
          [
           "Private",
           "Sialkot",
           5,
           "Sialkot"
          ],
          [
           "Private",
           "Samundri",
           5,
           "Samundri"
          ],
          [
           "Public",
           "Quetta",
           5,
           "Quetta"
          ],
          [
           "Public",
           "Peshawar",
           5,
           "Peshawar"
          ],
          [
           "Public",
           "Satta",
           "(?)",
           "Satta"
          ],
          [
           "Private",
           "Malaysia)",
           5,
           "Malaysia)"
          ],
          [
           "Semi",
           "Science",
           "(?)",
           "Science"
          ],
          [
           "Private",
           "Sciences",
           "(?)",
           "Sciences"
          ],
          [
           "Semi",
           "Sciences",
           0,
           "Sciences"
          ],
          [
           "Private",
           "AJK",
           0,
           "AJK"
          ],
          [
           "Private",
           "Multan",
           4,
           "Multan"
          ],
          [
           "Semi",
           "Swat",
           2,
           "Swat"
          ],
          [
           "Public",
           "Abbottabad",
           1,
           "Abbottabad"
          ],
          [
           "Private",
           "sargodha",
           0,
           "sargodha"
          ],
          [
           "Private",
           "Dina",
           0,
           "Dina"
          ],
          [
           "Private",
           "Zafarwal",
           0,
           "Zafarwal"
          ],
          [
           "Private",
           "Women",
           0,
           "Women"
          ],
          [
           "Semi",
           "Jhang",
           0,
           "Jhang"
          ],
          [
           "Semi",
           "Science",
           3,
           "Science"
          ],
          [
           "Semi",
           "Sialkot",
           3,
           "Sialkot"
          ],
          [
           "Semi",
           "Mandra",
           0,
           "Mandra"
          ],
          [
           "Semi",
           "Technology",
           0,
           "Technology"
          ],
          [
           "Public",
           "Tailwala",
           0,
           "Tailwala"
          ],
          [
           "Private",
           "Chattha",
           0,
           "Chattha"
          ],
          [
           "Semi",
           "Mansehra",
           0,
           "Mansehra"
          ],
          [
           "Private",
           "Jehlum",
           0,
           "Jehlum"
          ],
          [
           "Private",
           "Studies",
           0,
           "Studies"
          ],
          [
           "Private",
           "Cantt",
           4,
           "Cantt"
          ],
          [
           "Public",
           "Bahawalpur",
           0,
           "Bahawalpur"
          ],
          [
           "Public",
           "Chichawatni",
           0,
           "Chichawatni"
          ],
          [
           "Private",
           "Faisalabad",
           4,
           "Faisalabad"
          ],
          [
           "Semi",
           "Education",
           0,
           "Education"
          ],
          [
           "Private",
           "Islamabad",
           2,
           "Islamabad"
          ],
          [
           "Public",
           "Faisalabad",
           4,
           "Faisalabad"
          ],
          [
           "Semi",
           "Faisalabad",
           4,
           "Faisalabad"
          ],
          [
           "Semi",
           "Gujranwala",
           4,
           "Gujranwala"
          ],
          [
           "Private",
           "Jhang",
           0,
           "Jhang"
          ],
          [
           "Public",
           "Lahore",
           3,
           "Lahore"
          ],
          [
           "Public",
           "Chakwal",
           0,
           "Chakwal"
          ],
          [
           "Public",
           "Balakot",
           0,
           "Balakot"
          ],
          [
           "Semi",
           "Karachi",
           2,
           "Karachi"
          ],
          [
           "Semi",
           "Cantt",
           2,
           "Cantt"
          ],
          [
           "Private",
           "Layyah",
           0,
           "Layyah"
          ],
          [
           "Private",
           "Kotli",
           0,
           "Kotli"
          ],
          [
           "Semi",
           "Larkana",
           2,
           "Larkana"
          ],
          [
           "Public",
           "Khushab",
           0,
           "Khushab"
          ],
          [
           "Public",
           "Lahore",
           1,
           "Lahore"
          ],
          [
           "Private",
           "Narowal",
           2,
           "Narowal"
          ],
          [
           "Public",
           "Bela",
           0,
           "Bela"
          ],
          [
           "Semi",
           "Bannu",
           0,
           "Bannu"
          ],
          [
           "Semi",
           "Sahiwal",
           2,
           "Sahiwal"
          ],
          [
           "Public",
           "Multan",
           0,
           "Multan"
          ],
          [
           "Semi",
           "(BCKK)",
           3,
           "(BCKK)"
          ],
          [
           "Private",
           "Gujrat",
           1,
           "Gujrat"
          ],
          [
           "Private",
           "Khan",
           0,
           "Khan"
          ],
          [
           "Public",
           "Gujranwala",
           1,
           "Gujranwala"
          ],
          [
           "Private",
           "College",
           3,
           "College"
          ],
          [
           "Semi",
           "Din",
           0,
           "Din"
          ],
          [
           "Private",
           "Hafizabad",
           3,
           "Hafizabad"
          ],
          [
           "Semi",
           "Islamabad",
           3,
           "Islamabad"
          ],
          [
           "Private",
           "Channu",
           1,
           "Channu"
          ],
          [
           "Public",
           "Chakwal",
           1,
           "Chakwal"
          ],
          [
           "Semi",
           "Khan",
           3,
           "Khan"
          ],
          [
           "Private",
           "Kasur",
           0,
           "Kasur"
          ],
          [
           "Private",
           "Bannu",
           0,
           "Bannu"
          ],
          [
           "Semi",
           "Gujrat",
           4,
           "Gujrat"
          ],
          [
           "Private",
           "Bahawalpur",
           0,
           "Bahawalpur"
          ],
          [
           "Private",
           "Jang",
           0,
           "Jang"
          ],
          [
           "Semi",
           "Gujrat",
           0,
           "Gujrat"
          ],
          [
           "Semi",
           "Sahiwal",
           4,
           "Sahiwal"
          ],
          [
           "Private",
           "Hafizabad",
           0,
           "Hafizabad"
          ],
          [
           "Public",
           "Sharif",
           0,
           "Sharif"
          ],
          [
           "Private",
           "Quetta",
           0,
           "Quetta"
          ],
          [
           "Public",
           "Gujrat",
           0,
           "Gujrat"
          ],
          [
           "Private",
           "Peshawar",
           0,
           "Peshawar"
          ],
          [
           "Private",
           "Attock",
           0,
           "Attock"
          ],
          [
           "Public",
           "Pattoki",
           0,
           "Pattoki"
          ],
          [
           "Private",
           "Sialkot",
           4,
           "Sialkot"
          ],
          [
           "Public",
           "Sialkot",
           4,
           "Sialkot"
          ],
          [
           "Semi",
           "Sialkot",
           4,
           "Sialkot"
          ],
          [
           "Public",
           "Attock",
           0,
           "Attock"
          ],
          [
           "Semi",
           "Pasrur",
           0,
           "Pasrur"
          ],
          [
           "Private",
           "Nowshera",
           0,
           "Nowshera"
          ],
          [
           "Public",
           "Nagar",
           0,
           "Nagar"
          ],
          [
           "Private",
           "College",
           0,
           "College"
          ],
          [
           "Semi",
           "Mianwali",
           0,
           "Mianwali"
          ],
          [
           "Semi",
           "Gujranwala",
           0,
           "Gujranwala"
          ],
          [
           "Private",
           "Muridke",
           0,
           "Muridke"
          ],
          [
           "Public",
           "Attock",
           5,
           "Attock"
          ],
          [
           "Semi",
           "Abbottabad",
           0,
           "Abbottabad"
          ],
          [
           "Public",
           "College",
           0,
           "College"
          ],
          [
           "Private",
           "Abbotabad",
           0,
           "Abbotabad"
          ],
          [
           "Private",
           "Campus",
           5,
           "Campus"
          ],
          [
           "Public",
           "Arifwala",
           0,
           "Arifwala"
          ],
          [
           "Semi",
           "Attock",
           0,
           "Attock"
          ],
          [
           "Private",
           "Haroonabad",
           2,
           "Haroonabad"
          ],
          [
           "Public",
           "Hafizabad",
           0,
           "Hafizabad"
          ],
          [
           "Private",
           "Chishtian",
           0,
           "Chishtian"
          ],
          [
           "Public",
           "(?)",
           "(?)",
           "(?)"
          ],
          [
           "Private",
           "Bahawalnagar",
           0,
           "Bahawalnagar"
          ],
          [
           "Private",
           "Narowal",
           4,
           "Narowal"
          ],
          [
           "Private",
           "Khanewal",
           4,
           "Khanewal"
          ],
          [
           "Semi",
           "College",
           0,
           "College"
          ],
          [
           "Public",
           "Badin",
           0,
           "Badin"
          ],
          [
           "Private",
           "Saydan",
           0,
           "Saydan"
          ],
          [
           "Public",
           "Sargodha",
           0,
           "Sargodha"
          ],
          [
           "Semi",
           "Science",
           0,
           "Science"
          ],
          [
           "Private",
           "Peshawar",
           4,
           "Peshawar"
          ],
          [
           "Private",
           "Sambrial",
           0,
           "Sambrial"
          ],
          [
           "Public",
           "Kohat",
           4,
           "Kohat"
          ],
          [
           "Public",
           "Faisalabad",
           0,
           "Faisalabad"
          ],
          [
           "Private",
           "Sahib",
           0,
           "Sahib"
          ],
          [
           "Private",
           "Road",
           0,
           "Road"
          ],
          [
           "Public",
           "Quetta",
           4,
           "Quetta"
          ],
          [
           "Public",
           "Chakwal",
           "(?)",
           "Chakwal"
          ],
          [
           "Public",
           "University-AIOU-Quetta",
           0,
           "University-AIOU-Quetta"
          ],
          [
           "Public",
           "Karachi",
           0,
           "Karachi"
          ],
          [
           "Private",
           "Chiniot",
           0,
           "Chiniot"
          ],
          [
           "Private",
           "Alamgir",
           4,
           "Alamgir"
          ],
          [
           "Private",
           "Quetta",
           0,
           "Quetta"
          ],
          [
           "Semi",
           "Sahiwal",
           5,
           "Sahiwal"
          ],
          [
           "Public",
           "Bela",
           0,
           "Bela"
          ],
          [
           "Private",
           "Shahkot",
           4,
           "Shahkot"
          ],
          [
           "Private",
           "Kasur",
           "(?)",
           "Kasur"
          ],
          [
           "Private",
           "Depalpur",
           3,
           "Depalpur"
          ],
          [
           "Public",
           "Bahawalpur",
           3,
           "Bahawalpur"
          ],
          [
           "Public",
           "Satta",
           1,
           "Satta"
          ],
          [
           "Private",
           "kasur",
           1,
           "kasur"
          ],
          [
           "Semi",
           "Sciences",
           0,
           "Sciences"
          ],
          [
           "Semi",
           "Collage",
           0,
           "Collage"
          ],
          [
           "Private",
           "Karachi",
           1,
           "Karachi"
          ],
          [
           "Private",
           "Jauharabad",
           4,
           "Jauharabad"
          ],
          [
           "Public",
           "City",
           0,
           "City"
          ],
          [
           "Semi",
           "Management",
           0,
           "Management"
          ],
          [
           "Semi",
           "Karachi",
           1,
           "Karachi"
          ],
          [
           "Public",
           "Mianwali",
           0,
           "Mianwali"
          ],
          [
           "Private",
           "System",
           0,
           "System"
          ],
          [
           "Semi",
           "Jhelum",
           3,
           "Jhelum"
          ],
          [
           "Private",
           "Karak",
           0,
           "Karak"
          ],
          [
           "Private",
           "Multan",
           1,
           "Multan"
          ],
          [
           "Semi",
           "Institute",
           0,
           "Institute"
          ],
          [
           "Private",
           "Cantt",
           5,
           "Cantt"
          ],
          [
           "Private",
           "Narowal",
           "(?)",
           "Narowal"
          ],
          [
           "Private",
           "Bhalwal",
           "(?)",
           "Bhalwal"
          ],
          [
           "Private",
           "Jaranwala",
           5,
           "Jaranwala"
          ],
          [
           "Semi",
           "Daska",
           0,
           "Daska"
          ],
          [
           "Semi",
           "Arifwala",
           0,
           "Arifwala"
          ],
          [
           "Private",
           "Muzaffargarh",
           2,
           "Muzaffargarh"
          ],
          [
           "Private",
           "khan",
           0,
           "khan"
          ],
          [
           "Semi",
           "Dargai",
           0,
           "Dargai"
          ],
          [
           "Private",
           "(RAC)",
           4,
           "(RAC)"
          ],
          [
           "Semi",
           "Attock",
           4,
           "Attock"
          ],
          [
           "Public",
           "Nagar",
           4,
           "Nagar"
          ],
          [
           "Public",
           "Bahawalnagar",
           0,
           "Bahawalnagar"
          ],
          [
           "Private",
           "Gujranwala",
           5,
           "Gujranwala"
          ],
          [
           "Semi",
           "Sargodha",
           4,
           "Sargodha"
          ],
          [
           "Semi",
           "Nowshera",
           0,
           "Nowshera"
          ],
          [
           "Private",
           "Singh",
           4,
           "Singh"
          ],
          [
           "Private",
           "Sheikhupura",
           4,
           "Sheikhupura"
          ],
          [
           "Private",
           "Sheikhupura",
           "(?)",
           "Sheikhupura"
          ],
          [
           "Private",
           "Gojra",
           1,
           "Gojra"
          ],
          [
           "Private",
           "Bannu",
           0,
           "Bannu"
          ],
          [
           "Semi",
           "Peshawar",
           5,
           "Peshawar"
          ],
          [
           "Public",
           "Malakand",
           "(?)",
           "Malakand"
          ],
          [
           "Private",
           "Gujranwala",
           "(?)",
           "Gujranwala"
          ],
          [
           "Semi",
           "Gujranwala",
           2,
           "Gujranwala"
          ],
          [
           "Semi",
           "Sialkot",
           1,
           "Sialkot"
          ],
          [
           "Private",
           "Khanpur",
           "(?)",
           "Khanpur"
          ],
          [
           "Public",
           "Multan",
           "(?)",
           "Multan"
          ],
          [
           "Public",
           "Chitral",
           0,
           "Chitral"
          ],
          [
           "Public",
           "Bhakkar",
           0,
           "Bhakkar"
          ],
          [
           "Private",
           "Shakargarh",
           0,
           "Shakargarh"
          ],
          [
           "Private",
           "Karachi",
           5,
           "Karachi"
          ],
          [
           "Public",
           "Rawalpindi",
           0,
           "Rawalpindi"
          ],
          [
           "Public",
           "Chiniot",
           0,
           "Chiniot"
          ],
          [
           "Semi",
           "Swat",
           5,
           "Swat"
          ],
          [
           "Private",
           "Bahaudin",
           5,
           "Bahaudin"
          ],
          [
           "Public",
           "Swat",
           5,
           "Swat"
          ],
          [
           "Private",
           "Khan",
           4,
           "Khan"
          ],
          [
           "Private",
           "Pattoki",
           "(?)",
           "Pattoki"
          ],
          [
           "Public",
           "Khushab",
           0,
           "Khushab"
          ],
          [
           "Private",
           "Bahadurabad",
           0,
           "Bahadurabad"
          ],
          [
           "Semi",
           "Sheikhupura",
           0,
           "Sheikhupura"
          ],
          [
           "Semi",
           "Kharian",
           0,
           "Kharian"
          ],
          [
           "Public",
           "Khanewal",
           "(?)",
           "Khanewal"
          ],
          [
           "Semi",
           "Hyderabad",
           0,
           "Hyderabad"
          ],
          [
           "Public",
           "Bagh",
           0,
           "Bagh"
          ],
          [
           "Private",
           "Gujrat",
           5,
           "Gujrat"
          ],
          [
           "Semi",
           "Jang",
           4,
           "Jang"
          ],
          [
           "Private",
           "Multan",
           0,
           "Multan"
          ],
          [
           "Private",
           "Gujrat",
           "(?)",
           "Gujrat"
          ],
          [
           "Semi",
           "Swat",
           "(?)",
           "Swat"
          ],
          [
           "Semi",
           "Karachi",
           3,
           "Karachi"
          ],
          [
           "Public",
           "Sahib",
           3,
           "Sahib"
          ],
          [
           "Semi",
           "Faisalabad",
           "(?)",
           "Faisalabad"
          ],
          [
           "Public",
           "Jhelum",
           1,
           "Jhelum"
          ],
          [
           "Semi",
           "Mansehra",
           0,
           "Mansehra"
          ],
          [
           "Semi",
           "Peshawar",
           1,
           "Peshawar"
          ],
          [
           "Semi",
           "Faisal",
           3,
           "Faisal"
          ],
          [
           "Private",
           "Shorkot",
           0,
           "Shorkot"
          ],
          [
           "Private",
           "Chishtian",
           "(?)",
           "Chishtian"
          ],
          [
           "Public",
           "Burewala",
           4,
           "Burewala"
          ],
          [
           "Semi",
           "Lodhran",
           0,
           "Lodhran"
          ],
          [
           "Public",
           "Chattha",
           0,
           "Chattha"
          ],
          [
           "Public",
           "College",
           4,
           "College"
          ],
          [
           "Private",
           "Mailsi",
           0,
           "Mailsi"
          ],
          [
           "Public",
           "Malakand",
           0,
           "Malakand"
          ],
          [
           "Public",
           "Bahawalnagar",
           4,
           "Bahawalnagar"
          ],
          [
           "Semi",
           "Larkana",
           "(?)",
           "Larkana"
          ],
          [
           "Semi",
           "F-10/2",
           0,
           "F-10/2"
          ],
          [
           "Public",
           "City",
           "(?)",
           "City"
          ],
          [
           "Private",
           "Khanewal",
           4,
           "Khanewal"
          ],
          [
           "Private",
           "Bhimber",
           0,
           "Bhimber"
          ],
          [
           "Private",
           "Okara",
           5,
           "Okara"
          ],
          [
           "Private",
           "Sharaqpur",
           4,
           "Sharaqpur"
          ],
          [
           "Semi",
           "Peshawar",
           4,
           "Peshawar"
          ],
          [
           "Private",
           "Jhelum",
           0,
           "Jhelum"
          ],
          [
           "Private",
           "Pakistan",
           5,
           "Pakistan"
          ],
          [
           "Semi",
           "Jang",
           4,
           "Jang"
          ],
          [
           "Public",
           "Quetta",
           "(?)",
           "Quetta"
          ],
          [
           "Private",
           "Commerce",
           0,
           "Commerce"
          ],
          [
           "Semi",
           "Marwat",
           0,
           "Marwat"
          ],
          [
           "Private",
           "Malakand",
           0,
           "Malakand"
          ],
          [
           "Semi",
           "Faisalabad",
           0,
           "Faisalabad"
          ],
          [
           "Private",
           "Rawalkot",
           0,
           "Rawalkot"
          ],
          [
           "Private",
           "Kamoki",
           0,
           "Kamoki"
          ],
          [
           "Public",
           "Jhang",
           0,
           "Jhang"
          ],
          [
           "Public",
           "Pukhtunkhwa",
           0,
           "Pukhtunkhwa"
          ],
          [
           "Semi",
           "Mandra",
           0,
           "Mandra"
          ],
          [
           "Semi",
           "Kharian",
           0,
           "Kharian"
          ],
          [
           "Semi",
           "Commerce",
           0,
           "Commerce"
          ],
          [
           "Semi",
           "Khan",
           0,
           "Khan"
          ],
          [
           "Private",
           "Sargodha",
           "(?)",
           "Sargodha"
          ],
          [
           "Semi",
           "Institute",
           0,
           "Institute"
          ],
          [
           "Private",
           "Multan",
           "(?)",
           "Multan"
          ],
          [
           "Private",
           "Cantt",
           0,
           "Cantt"
          ],
          [
           "Semi",
           "Muridke",
           0,
           "Muridke"
          ],
          [
           "Public",
           "Bahawalpur",
           "(?)",
           "Bahawalpur"
          ],
          [
           "Public",
           "Lahore",
           "(?)",
           "Lahore"
          ],
          [
           "Private",
           "Lahore",
           3,
           "Lahore"
          ],
          [
           "Public",
           "Bahaudddin",
           5,
           "Bahaudddin"
          ],
          [
           "Public",
           "Rawalpindi",
           3,
           "Rawalpindi"
          ],
          [
           "Semi",
           "Baha-ud-Din",
           0,
           "Baha-ud-Din"
          ],
          [
           "Private",
           "Sambrial",
           3,
           "Sambrial"
          ],
          [
           "Semi",
           "Arifwala",
           0,
           "Arifwala"
          ],
          [
           "Public",
           "Bhakkar",
           4,
           "Bhakkar"
          ],
          [
           "Semi",
           "Academy",
           "(?)",
           "Academy"
          ],
          [
           "Private",
           "AJK",
           0,
           "AJK"
          ],
          [
           "Public",
           "Technology",
           5,
           "Technology"
          ],
          [
           "Semi",
           "Okara",
           4,
           "Okara"
          ],
          [
           "Private",
           "PAC",
           4,
           "PAC"
          ],
          [
           "Semi",
           "Vehari",
           "(?)",
           "Vehari"
          ],
          [
           "Public",
           "Rawalpindi",
           4,
           "Rawalpindi"
          ],
          [
           "Public",
           "Lahore",
           5,
           "Lahore"
          ],
          [
           "Private",
           "Sargodha",
           4,
           "Sargodha"
          ],
          [
           "Public",
           "Khanewal",
           5,
           "Khanewal"
          ],
          [
           "Private",
           "Shahkot",
           4,
           "Shahkot"
          ],
          [
           "Public",
           "AIOU",
           5,
           "AIOU"
          ],
          [
           "Semi",
           "Gujranwala",
           5,
           "Gujranwala"
          ],
          [
           "Semi",
           "Academy",
           0,
           "Academy"
          ],
          [
           "Public",
           "Gujranwala",
           3,
           "Gujranwala"
          ],
          [
           "Public",
           "City",
           3,
           "City"
          ],
          [
           "Private",
           "Girls",
           0,
           "Girls"
          ],
          [
           "Public",
           "Bannu",
           0,
           "Bannu"
          ],
          [
           "Private",
           "Jhang",
           "(?)",
           "Jhang"
          ],
          [
           "Private",
           "Jang",
           0,
           "Jang"
          ],
          [
           "Private",
           "Islamabad",
           "(?)",
           "Islamabad"
          ],
          [
           "Private",
           "Hyderabad",
           "(?)",
           "Hyderabad"
          ],
          [
           "Private",
           "Shiekhupura",
           0,
           "Shiekhupura"
          ],
          [
           "Semi",
           "System",
           0,
           "System"
          ],
          [
           "Public",
           "University-AIOU-Quetta",
           0,
           "University-AIOU-Quetta"
          ],
          [
           "Semi",
           "Gujrat",
           1,
           "Gujrat"
          ],
          [
           "Semi",
           "Cantt",
           0,
           "Cantt"
          ],
          [
           "Private",
           "Lahore",
           1,
           "Lahore"
          ],
          [
           "Public",
           "Chakwal",
           3,
           "Chakwal"
          ],
          [
           "Semi",
           "Chichawatni",
           0,
           "Chichawatni"
          ],
          [
           "Private",
           "Feroze",
           0,
           "Feroze"
          ],
          [
           "Private",
           "Chattha",
           0,
           "Chattha"
          ],
          [
           "Public",
           "Malakand",
           2,
           "Malakand"
          ],
          [
           "Private",
           "Chatta",
           0,
           "Chatta"
          ],
          [
           "Public",
           "Lahore",
           2,
           "Lahore"
          ],
          [
           "Private",
           "Sukkur",
           0,
           "Sukkur"
          ],
          [
           "Private",
           "Bhakkar",
           0,
           "Bhakkar"
          ],
          [
           "Semi",
           "Chakwal",
           0,
           "Chakwal"
          ],
          [
           "Public",
           "Bagh",
           0,
           "Bagh"
          ],
          [
           "Semi",
           "Attock",
           3,
           "Attock"
          ],
          [
           "Public",
           "Abbottabad",
           3,
           "Abbottabad"
          ],
          [
           "Public",
           "Sargodha",
           4,
           "Sargodha"
          ],
          [
           "Semi",
           "Shiekhupura",
           0,
           "Shiekhupura"
          ],
          [
           "Public",
           "AJK",
           0,
           "AJK"
          ],
          [
           "Semi",
           "Larkana",
           0,
           "Larkana"
          ],
          [
           "Public",
           "Tailwala",
           0,
           "Tailwala"
          ],
          [
           "Private",
           "Sahiwal",
           "(?)",
           "Sahiwal"
          ],
          [
           "Private",
           "Khanpur",
           5,
           "Khanpur"
          ],
          [
           "Semi",
           "Bahawalnagar",
           0,
           "Bahawalnagar"
          ],
          [
           "Private",
           "Addu",
           4,
           "Addu"
          ],
          [
           "Semi",
           "(?)",
           "(?)",
           "(?)"
          ],
          [
           "Private",
           "Rawalpindi",
           "(?)",
           "Rawalpindi"
          ],
          [
           "Public",
           "Abbottabad",
           5,
           "Abbottabad"
          ],
          [
           "Public",
           "Sheikhupura",
           4,
           "Sheikhupura"
          ],
          [
           "Private",
           "Sahiwal",
           4,
           "Sahiwal"
          ],
          [
           "Public",
           "Multan",
           5,
           "Multan"
          ],
          [
           "Public",
           "Bhimber",
           0,
           "Bhimber"
          ],
          [
           "Semi",
           "Lahore",
           2,
           "Lahore"
          ],
          [
           "Public",
           "Chatha",
           0,
           "Chatha"
          ],
          [
           "Semi",
           "College",
           0,
           "College"
          ],
          [
           "Private",
           "Gujranwala",
           0,
           "Gujranwala"
          ],
          [
           "Semi",
           "Strategically",
           0,
           "Strategically"
          ],
          [
           "Semi",
           "Hyderabad",
           "(?)",
           "Hyderabad"
          ],
          [
           "Private",
           "Science",
           0,
           "Science"
          ],
          [
           "Semi",
           "Rawalpindi",
           0,
           "Rawalpindi"
          ],
          [
           "Public",
           "Pakpattan",
           0,
           "Pakpattan"
          ],
          [
           "Private",
           "Khan",
           1,
           "Khan"
          ],
          [
           "Private",
           "Lahore",
           "(?)",
           "Lahore"
          ],
          [
           "Private",
           "Kamoke",
           0,
           "Kamoke"
          ],
          [
           "Private",
           "Chitral",
           0,
           "Chitral"
          ],
          [
           "Private",
           "Baha-ud-Din",
           5,
           "Baha-ud-Din"
          ],
          [
           "Semi",
           "Sialkot",
           5,
           "Sialkot"
          ],
          [
           "Semi",
           "INN",
           5,
           "INN"
          ],
          [
           "Private",
           "Chaklala",
           0,
           "Chaklala"
          ],
          [
           "Semi",
           "Quetta",
           4,
           "Quetta"
          ],
          [
           "Private",
           "Sheikhupura",
           5,
           "Sheikhupura"
          ],
          [
           "Semi",
           "Management",
           0,
           "Management"
          ],
          [
           "Semi",
           "Academy",
           1,
           "Academy"
          ],
          [
           "Public",
           "Chawinda",
           5,
           "Chawinda"
          ],
          [
           "Private",
           "Sialkot",
           0,
           "Sialkot"
          ],
          [
           "Private",
           "School",
           0,
           "School"
          ],
          [
           "Private",
           "Vehari",
           5,
           "Vehari"
          ],
          [
           "Semi",
           "Lahore",
           3,
           "Lahore"
          ],
          [
           "Private",
           "Kohat",
           3,
           "Kohat"
          ],
          [
           "Semi",
           "Murree",
           0,
           "Murree"
          ],
          [
           "Private",
           "Jattan",
           0,
           "Jattan"
          ],
          [
           "Semi",
           "Islamabad",
           0,
           "Islamabad"
          ],
          [
           "Semi",
           "Hyderabad",
           5,
           "Hyderabad"
          ],
          [
           "Private",
           "Haripur",
           0,
           "Haripur"
          ],
          [
           "Private",
           "Chishtian",
           4,
           "Chishtian"
          ],
          [
           "Semi",
           "Campus",
           0,
           "Campus"
          ],
          [
           "Private",
           "Sambrial",
           "(?)",
           "Sambrial"
          ],
          [
           "Public",
           "Chichawatni",
           0,
           "Chichawatni"
          ],
          [
           "Semi",
           "Murree",
           0,
           "Murree"
          ],
          [
           "Private",
           "Mianwali",
           0,
           "Mianwali"
          ],
          [
           "Semi",
           "Lodhran",
           0,
           "Lodhran"
          ],
          [
           "Private",
           "Liaqatpur",
           0,
           "Liaqatpur"
          ],
          [
           "Public",
           "Islamabad",
           "(?)",
           "Islamabad"
          ],
          [
           "Public",
           "Satta",
           0,
           "Satta"
          ],
          [
           "Public",
           "Sharif",
           0,
           "Sharif"
          ],
          [
           "Private",
           "Phalia",
           5,
           "Phalia"
          ],
          [
           "Semi",
           "Rawalpindi",
           5,
           "Rawalpindi"
          ],
          [
           "Private",
           "Sargodha",
           5,
           "Sargodha"
          ],
          [
           "Private",
           "Sahiwal",
           0,
           "Sahiwal"
          ],
          [
           "Public",
           "Bahawalnagar",
           "(?)",
           "Bahawalnagar"
          ],
          [
           "Public",
           "Quetta",
           0,
           "Quetta"
          ],
          [
           "Private",
           "Pattan",
           0,
           "Pattan"
          ],
          [
           "Semi",
           "Vehari",
           4,
           "Vehari"
          ],
          [
           "Public",
           "Rawalpindi",
           2,
           "Rawalpindi"
          ],
          [
           "Public",
           "Peshawar",
           0,
           "Peshawar"
          ],
          [
           "Private",
           "Bhakkar",
           1,
           "Bhakkar"
          ],
          [
           "Semi",
           "Rawalpindi",
           4,
           "Rawalpindi"
          ],
          [
           "Private",
           "Bagh",
           0,
           "Bagh"
          ],
          [
           "Public",
           "Jhelum",
           0,
           "Jhelum"
          ],
          [
           "Public",
           "Hyderabad",
           "(?)",
           "Hyderabad"
          ],
          [
           "Private",
           "Bhakkar",
           5,
           "Bhakkar"
          ],
          [
           "Private",
           "Pakistan",
           5,
           "Pakistan"
          ],
          [
           "Private",
           "Muridke",
           0,
           "Muridke"
          ]
         ],
         "domain": {
          "x": [
           0,
           1
          ],
          "y": [
           0,
           1
          ]
         },
         "hovertemplate": "labels=%{label}<br>count=%{value}<br>parent=%{parent}<br>id=%{id}<br>Sector=%{customdata[0]}<br>City=%{customdata[3]}<br>Rating=%{customdata[2]}<extra></extra>",
         "ids": [
          "Public/Cantt/0",
          "Semi/Bahawalpur/0",
          "Public/Jhang/1",
          "Semi/Baha-ud-Din/0",
          "Private/Shahdara",
          "Public/Jhang",
          "Semi/Mardan/0",
          "Private/Peshawar/3",
          "Private/Dargai/0",
          "Private/Murree/0",
          "Public/Hafizabad/3",
          "Semi/Lahore/4",
          "Public/AIOU",
          "Private/Malakand/0",
          "Semi/Quetta/0",
          "Private/Chakwal",
          "Private/Phalia",
          "Semi/Pakpattan",
          "Semi/Chakwal/0",
          "Public/Bhera/0",
          "Private/Chatta/0",
          "Semi/Lahore/5",
          "Private/Wazirabad/1",
          "Private/Gujrat/2",
          "Semi/Sialkot",
          "Semi/Bahawalpur",
          "Semi/Bahawalpur/4",
          "Public/Bhalwal",
          "Public/Chiniot/2",
          "Private/Kharian/4",
          "Private/Chiniot",
          "Private/Technology",
          "Semi/Commerce",
          "Semi/Sahiwal/0",
          "Private/Islamabad/4",
          "Semi/Rawalpindi",
          "Private/Mansehra",
          "Semi/Abbottabad",
          "Public/Gujrat/5",
          "Semi/Khan",
          "Public/Lahore/4",
          "Public/Hyderabad/0",
          "Private/Chawinda",
          "Private/Kamoki",
          "Public/Kohat/2",
          "Private/Pakpattan",
          "Private/Bhakkar/4",
          "Private/Cantt/3",
          "Private/Swat/0",
          "Private/Attock",
          "Private/School/0",
          "Semi/Jhang",
          "Private/Karachi/3",
          "Private/Kharian/2",
          "Private/Feroze",
          "Private/Bahawalpur/4",
          "Private/Vehari",
          "Public/Women",
          "Private/Bahauddin/0",
          "Private/System",
          "Semi/Multan/4",
          "Private/Lahore/5",
          "Private/kasur",
          "Private/Rawalpindi/5",
          "Public/Arifwala",
          "Semi/Cantt/5",
          "Private/Nowshera",
          "Semi/Marwat",
          "Private/Alamgir",
          "Private/Sialkot/1",
          "Private/Pakpattan/3",
          "Semi/School/0",
          "Semi/Solutions/3",
          "Semi/Mardan",
          "Semi/Mianwali/4",
          "Private/Chawinda/0",
          "Private/Zafarwal",
          "Public/Faisalabad",
          "Private/Campus",
          "Semi/Vehari/0",
          "Public/Bhera",
          "Semi/Abbottabad/1",
          "Semi/INN",
          "Private/Bahawalnagar",
          "Semi/School",
          "Private/Rawalpindi/3",
          "Semi/Sahiwal",
          "Private/Pattoki/0",
          "Private/Kotli",
          "Semi/Shiekhupura",
          "Private/Battagram",
          "Private/Mardan/0",
          "Private/Sadiqabad",
          "Semi/Lahore",
          "Public/Sheikhupura",
          "Semi/Sukkur",
          "Private/Rawalkot/0",
          "Semi/Jhelum/3",
          "Public/Khan",
          "Private/Khan/5",
          "Public/Swat",
          "Semi/Jajja/5",
          "Semi/Multan",
          "Private/Khan",
          "Public/Sialkot/3",
          "Public/Bahawalpur/5",
          "Public/Bahawalpur/4",
          "Private/Karachi",
          "Private/Okara/0",
          "Public/Sheikhupura/3",
          "Public/Chakwal/5",
          "Public/Peshawar/4",
          "Semi/Daska",
          "Private/Okara",
          "Private/Faisalabad/0",
          "Private/Commerce",
          "Semi/Islamabad/1",
          "Private/Gujranwala/2",
          "Private",
          "Semi/Singh",
          "Private/Swat",
          "Public/Sahib",
          "Private/Dina",
          "Semi/Sargodha",
          "Semi/Kashmir",
          "Private/Peshawar",
          "Private/Jaranwala/0",
          "Private/Jhang/5",
          "Semi/Kohat",
          "Private/Sciences/3",
          "Semi/Islamabad",
          "Private/Abbottabad/0",
          "Private/Raiwind",
          "Private/Kasur/1",
          "Private/Shakargarh/0",
          "Public/Sialkot",
          "Private/Rawlakot",
          "Private/Liaqatpur",
          "Private/Jattan",
          "Private/Shorkot/0",
          "Private/Mardan/5",
          "Semi/Kasur",
          "Public/Kashmir",
          "Public/Colleges/0",
          "Private/Faisalabad/2",
          "Private/Rawalpindi/0",
          "Private/Pattoki/3",
          "Semi/Collage/0",
          "Semi/Chichawatni/0",
          "Public/Jhang/3",
          "Private/Layyah",
          "Semi/Bahawalnagar/0",
          "Private/Bhurban/0",
          "Semi/Karachi/4",
          "Private/Khanpur/0",
          "Public/Faisalabad/1",
          "Public/Burewala",
          "Private/Technology/4",
          "Semi/Kohat/0",
          "Private/Burewala/4",
          "Private/Islamabad/5",
          "Private/Campus)/0",
          "Semi/Gujrat",
          "Public/Bhakkar",
          "Private/Depalpur",
          "Semi/Muridke",
          "Private/Chiniot/1",
          "Private/Islamabad/0",
          "Public/Abbottabad./0",
          "Public/Gujranwala/4",
          "Private/Sukkur/0",
          "Private/Management/0",
          "Private/(LGU)/5",
          "Private/Addu/4",
          "Private/Bhakkar",
          "Private/shiekhupura",
          "Semi/Hayatabad/0",
          "Semi/Faisal/3",
          "Private/Mailsi",
          "Private/Sialkot",
          "Private/sargodha",
          "Semi/Education",
          "Private/Colleges/5",
          "Public/Commerce",
          "Semi/Sargodha/0",
          "Private/Chichawatni",
          "Public/Bannu",
          "Public/Sukkur/0",
          "Semi/Hayatabad",
          "Private/Commerce/1",
          "Private/Cantt",
          "Private/Shiekhupura",
          "Public/Sukkur",
          "Semi/Attock/5",
          "Semi/Solutions",
          "Private/Murree",
          "Public/Bhimber/0",
          "Public/Islamabad/0",
          "Semi/Campus/0",
          "Private/Lodhran",
          "Private/Mirpur/0",
          "Public/Pattoki",
          "Private/Charsadda/0",
          "Public/Kohat",
          "Semi/Karachi/0",
          "Private/Colleges/0",
          "Private/Road",
          "Semi/Okara/0",
          "Private/Rawalpindi/4",
          "Private/Pattan/0",
          "Private/Raiwind/3",
          "Public/Kasur",
          "Semi/Karachi/5",
          "Public/Commerce/0",
          "Private/Muzaffargarh",
          "Public/Bannu/5",
          "Public/Chakwal/4",
          "Private/Gojra/1",
          "Semi/Islamabad/2",
          "Private/Singh",
          "Public/Bannu/4",
          "Public/Sargodha/3",
          "Semi/Mianwali",
          "Public/University/4",
          "Private/Mansehra/0",
          "Private/Faisalabad/3",
          "Private/Dargai",
          "Private/Hyderabad/0",
          "Semi/System",
          "Private/Daska",
          "Private/Bahawalpur/5",
          "Semi/Islamabad/5",
          "Semi/Cantt",
          "Public/Hyderabad/1",
          "Public/Pakpattan",
          "Public/Rawalpindi/1",
          "Private/Kharian",
          "Private/CIMS",
          "Private/Daska/3",
          "Semi/Strategically",
          "Semi/Faisalabad/5",
          "Private/Kohat/0",
          "Private/Jauharabad/4",
          "Public/Sargodha/5",
          "Private/Islamabad/3",
          "Semi/Rawalpindi/3",
          "Private/Jhelum/3",
          "Semi/Mirpur/4",
          "Private/College/2",
          "Private/Sharaqpur/4",
          "Private/Cantt/2",
          "Semi/Multan/3",
          "Public/Attock/2",
          "Public/Faisalabad/5",
          "Private/Baha-ud-Din",
          "Semi/Attock",
          "Semi/Gujrat/3",
          "Private/(LGU)",
          "Private/Gujrat/3",
          "Private/CIMS/4",
          "Private/Bhurban",
          "Private/Abbottabad/3",
          "Private/Faisalabad/5",
          "Public/Chiniot/4",
          "Private/Abbottabad",
          "Private/Singh/5",
          "Semi/Sukkur/5",
          "Public/Jhang/4",
          "Private/Abbotabad",
          "Private/Girls/5",
          "Semi/System/2",
          "Public/Women/0",
          "Semi/Multan/0",
          "Private/Pasrur",
          "Semi/Okara",
          "Semi/Pasrur",
          "Public/Attock/1",
          "Semi/Nowshera",
          "Public/Bhakkar/1",
          "Public/Gujranwala",
          "Public/Lahoree",
          "Public/AJK/0",
          "Private/Karak/0",
          "Public/Hafizabad",
          "Private/Bhalwal/0",
          "Semi/Singh/0",
          "Semi/Kashmir/0",
          "Public/Kasur/0",
          "Private/Chaklala/0",
          "Private/Chichawatni/0",
          "Public/Technology",
          "Private/Mardan",
          "Semi/Peshawar/0",
          "Public/Peshawar/1",
          "Public/College",
          "Private/Haripur",
          "Private/Arifwala/0",
          "Public/Pukhtunkhwa/0",
          "Private/Samundri",
          "Public/Lahore/0",
          "Public/Khanewal/0",
          "Semi/Kasur/0",
          "Private/Haroonabad",
          "Private/Campus/0",
          "Semi/F-10/2",
          "Semi/Peshawar",
          "Private/Arifwala",
          "Semi/Quetta/5",
          "Public/Abbottabad.",
          "Private/Bahaudin",
          "Semi/Mirpur",
          "Private/PAC",
          "Private/Sahib",
          "Public/Chawinda",
          "Public/Faisalabad/3",
          "Private/Colleges",
          "Semi/Karachi",
          "Public/Okara",
          "Private/islamabad",
          "Semi/Quetta",
          "Public/Colleges",
          "Public/Sargodha",
          "Private/Studies",
          "Public/Gujranwala/0",
          "Private/islamabad/0",
          "Private/Sargodha/0",
          "Private/Shahdara/0",
          "Semi/Sheikhupura",
          "Semi/Mirpur/0",
          "Semi/Lahore/0",
          "Public/Chatha/0",
          "Private/Malaysia)",
          "Private/Lodhran/0",
          "Semi/Abbottabad/4",
          "Private/Battagram/4",
          "Private/Science",
          "Public/Lahoree/0",
          "Public/Gujranwala/5",
          "Private/Lahore/4",
          "Private/Bhalwal/4",
          "Public/Peshawar",
          "Public/Rawalpindi",
          "Semi/Islamabad/4",
          "Semi/(BCKK)",
          "Public/Multan/4",
          "Public/Kashmir/0",
          "Private/Lahore/0",
          "Private/Gujranwala/4",
          "Private/Okara/4",
          "Public/Rawalpindi/5",
          "Private/Pasrur/4",
          "Public/Abbottabad",
          "Public/Khan/0",
          "Public/Kohat/0",
          "Private/Sadiqabad/5",
          "Semi/Vehari/5",
          "Semi/Pakpattan/0",
          "Public/Badin",
          "Private/Wazirabad",
          "Private/Swabi/0",
          "Semi/Swabi/0",
          "Public/Faisalabad/2",
          "Private/Chakwal/3",
          "Private/Bhimber",
          "Private/khan/0",
          "Private/Sialkot/2",
          "Private/Campus)",
          "Semi/Lahore/1",
          "Private/Rawalpindi/2",
          "Private/Pasrur/2",
          "Semi/Din",
          "Private/Channu",
          "Private/Lahore/2",
          "Semi/Faisalabad/1",
          "Private/College/5",
          "Semi/Kasur/1",
          "Public/Khan/1",
          "Semi/Sialkot/0",
          "Private/Sheikhupura/0",
          "Public/Cantt/5",
          "Private/Bahauddin",
          "Private/Narowal/0",
          "Semi/Technology",
          "Semi/Attock/2",
          "Private/Jehlum",
          "Private/Jhelum",
          "Public/Okara/0",
          "Public/Balakot",
          "Private/shiekhupura/1",
          "Public/Chitral",
          "Private/Kamoke",
          "Public/Bahaudddin/5",
          "Public/Bahawalnagar/5",
          "Public/Sahib/0",
          "Private/Daska/2",
          "Public/Karachi",
          "Private/Gujranwala/1",
          "Public/Nagar",
          "Public/Gujranwala/2",
          "Public/Attock",
          "Public/Chattha",
          "Private/College/1",
          "Semi/Abbottabad/3",
          "Private/Chitral",
          "Semi/Jajja",
          "Public/Bhalwal/5",
          "Semi/Hyderabad/4",
          "Private/Nowshera/5",
          "Private/Jhang/4",
          "Private/Saydan",
          "Semi/Gujranwala",
          "Semi/Multan/2",
          "Private/Bahadurabad",
          "Semi/Multan/5",
          "Private/Gujranwala/3",
          "Private/Bahawalpur",
          "Private/Girls",
          "Private/Karachi/0",
          "Private/Kohat",
          "Private/Women",
          "Private/Sciences/0",
          "Private/Rawlakot/0",
          "Semi/Swabi",
          "Public/Islamabad/5",
          "Public/University",
          "Private/Swabi",
          "Private/Hyderabad/5",
          "Public/Jhang/5",
          "Public/Chiniot",
          "Public/Karachi/5",
          "Private/College",
          "Semi/Dargai",
          "Private/Charsadda",
          "Public/Cantt",
          "Private/Faisalabad",
          "Private/Burewala",
          "Public/Gujrat",
          "Private/Hafizabad",
          "Semi/Bannu",
          "Private/Jaranwala",
          "Public/Jhelum",
          "Private/Bagh",
          "Private/Management",
          "Private/Mianwali",
          "Public/Mianwali",
          "Private/Mirpur",
          "Private/(RAC)",
          "Private/Sialkot/5",
          "Private/Samundri/5",
          "Public/Quetta/5",
          "Public/Peshawar/5",
          "Public/Satta",
          "Private/Malaysia)/5",
          "Semi/Science",
          "Private/Sciences",
          "Semi/Sciences",
          "Private/AJK/0",
          "Private/Multan/4",
          "Semi/Swat/2",
          "Public/Abbottabad/1",
          "Private/sargodha/0",
          "Private/Dina/0",
          "Private/Zafarwal/0",
          "Private/Women/0",
          "Semi/Jhang/0",
          "Semi/Science/3",
          "Semi/Sialkot/3",
          "Semi/Mandra/0",
          "Semi/Technology/0",
          "Public/Tailwala/0",
          "Private/Chattha/0",
          "Semi/Mansehra/0",
          "Private/Jehlum/0",
          "Private/Studies/0",
          "Private/Cantt/4",
          "Public/Bahawalpur/0",
          "Public/Chichawatni/0",
          "Private/Faisalabad/4",
          "Semi/Education/0",
          "Private/Islamabad/2",
          "Public/Faisalabad/4",
          "Semi/Faisalabad/4",
          "Semi/Gujranwala/4",
          "Private/Jhang/0",
          "Public/Lahore/3",
          "Public/Chakwal/0",
          "Public/Balakot/0",
          "Semi/Karachi/2",
          "Semi/Cantt/2",
          "Private/Layyah/0",
          "Private/Kotli/0",
          "Semi/Larkana/2",
          "Public/Khushab/0",
          "Public/Lahore/1",
          "Private/Narowal/2",
          "Public/Bela/0",
          "Semi/Bannu/0",
          "Semi/Sahiwal/2",
          "Public/Multan/0",
          "Semi/(BCKK)/3",
          "Private/Gujrat/1",
          "Private/Khan/0",
          "Public/Gujranwala/1",
          "Private/College/3",
          "Semi/Din/0",
          "Private/Hafizabad/3",
          "Semi/Islamabad/3",
          "Private/Channu/1",
          "Public/Chakwal/1",
          "Semi/Khan/3",
          "Private/Kasur/0",
          "Private/Bannu/0",
          "Semi/Gujrat/4",
          "Private/Bahawalpur/0",
          "Private/Jang/0",
          "Semi/Gujrat/0",
          "Semi/Sahiwal/4",
          "Private/Hafizabad/0",
          "Public/Sharif/0",
          "Private/Quetta/0",
          "Public/Gujrat/0",
          "Private/Peshawar/0",
          "Private/Attock/0",
          "Public/Pattoki/0",
          "Private/Sialkot/4",
          "Public/Sialkot/4",
          "Semi/Sialkot/4",
          "Public/Attock/0",
          "Semi/Pasrur/0",
          "Private/Nowshera/0",
          "Public/Nagar/0",
          "Private/College/0",
          "Semi/Mianwali/0",
          "Semi/Gujranwala/0",
          "Private/Muridke/0",
          "Public/Attock/5",
          "Semi/Abbottabad/0",
          "Public/College/0",
          "Private/Abbotabad/0",
          "Private/Campus/5",
          "Public/Arifwala/0",
          "Semi/Attock/0",
          "Private/Haroonabad/2",
          "Public/Hafizabad/0",
          "Private/Chishtian/0",
          "Public",
          "Private/Bahawalnagar/0",
          "Private/Narowal/4",
          "Private/Khanewal/4",
          "Semi/College/0",
          "Public/Badin/0",
          "Private/Saydan/0",
          "Public/Sargodha/0",
          "Semi/Science/0",
          "Private/Peshawar/4",
          "Private/Sambrial/0",
          "Public/Kohat/4",
          "Public/Faisalabad/0",
          "Private/Sahib/0",
          "Private/Road/0",
          "Public/Quetta/4",
          "Public/Chakwal",
          "Public/University-AIOU-Quetta",
          "Public/Karachi/0",
          "Private/Chiniot/0",
          "Private/Alamgir/4",
          "Private/Quetta",
          "Semi/Sahiwal/5",
          "Public/Bela",
          "Private/Shahkot",
          "Private/Kasur",
          "Private/Depalpur/3",
          "Public/Bahawalpur/3",
          "Public/Satta/1",
          "Private/kasur/1",
          "Semi/Sciences/0",
          "Semi/Collage",
          "Private/Karachi/1",
          "Private/Jauharabad",
          "Public/City/0",
          "Semi/Management/0",
          "Semi/Karachi/1",
          "Public/Mianwali/0",
          "Private/System/0",
          "Semi/Jhelum",
          "Private/Karak",
          "Private/Multan/1",
          "Semi/Institute",
          "Private/Cantt/5",
          "Private/Narowal",
          "Private/Bhalwal",
          "Private/Jaranwala/5",
          "Semi/Daska/0",
          "Semi/Arifwala/0",
          "Private/Muzaffargarh/2",
          "Private/khan",
          "Semi/Dargai/0",
          "Private/(RAC)/4",
          "Semi/Attock/4",
          "Public/Nagar/4",
          "Public/Bahawalnagar/0",
          "Private/Gujranwala/5",
          "Semi/Sargodha/4",
          "Semi/Nowshera/0",
          "Private/Singh/4",
          "Private/Sheikhupura/4",
          "Private/Sheikhupura",
          "Private/Gojra",
          "Private/Bannu",
          "Semi/Peshawar/5",
          "Public/Malakand",
          "Private/Gujranwala",
          "Semi/Gujranwala/2",
          "Semi/Sialkot/1",
          "Private/Khanpur",
          "Public/Multan",
          "Public/Chitral/0",
          "Public/Bhakkar/0",
          "Private/Shakargarh",
          "Private/Karachi/5",
          "Public/Rawalpindi/0",
          "Public/Chiniot/0",
          "Semi/Swat/5",
          "Private/Bahaudin/5",
          "Public/Swat/5",
          "Private/Khan/4",
          "Private/Pattoki",
          "Public/Khushab",
          "Private/Bahadurabad/0",
          "Semi/Sheikhupura/0",
          "Semi/Kharian",
          "Public/Khanewal",
          "Semi/Hyderabad/0",
          "Public/Bagh/0",
          "Private/Gujrat/5",
          "Semi/Jang/4",
          "Private/Multan/0",
          "Private/Gujrat",
          "Semi/Swat",
          "Semi/Karachi/3",
          "Public/Sahib/3",
          "Semi/Faisalabad",
          "Public/Jhelum/1",
          "Semi/Mansehra",
          "Semi/Peshawar/1",
          "Semi/Faisal",
          "Private/Shorkot",
          "Private/Chishtian",
          "Public/Burewala/4",
          "Semi/Lodhran/0",
          "Public/Chattha/0",
          "Public/College/4",
          "Private/Mailsi/0",
          "Public/Malakand/0",
          "Public/Bahawalnagar/4",
          "Semi/Larkana",
          "Semi/F-10/2/0",
          "Public/City",
          "Private/Khanewal",
          "Private/Bhimber/0",
          "Private/Okara/5",
          "Private/Sharaqpur",
          "Semi/Peshawar/4",
          "Private/Jhelum/0",
          "Private/Pakistan",
          "Semi/Jang",
          "Public/Quetta",
          "Private/Commerce/0",
          "Semi/Marwat/0",
          "Private/Malakand",
          "Semi/Faisalabad/0",
          "Private/Rawalkot",
          "Private/Kamoki/0",
          "Public/Jhang/0",
          "Public/Pukhtunkhwa",
          "Semi/Mandra",
          "Semi/Kharian/0",
          "Semi/Commerce/0",
          "Semi/Khan/0",
          "Private/Sargodha",
          "Semi/Institute/0",
          "Private/Multan",
          "Private/Cantt/0",
          "Semi/Muridke/0",
          "Public/Bahawalpur",
          "Public/Lahore",
          "Private/Lahore/3",
          "Public/Bahaudddin",
          "Public/Rawalpindi/3",
          "Semi/Baha-ud-Din",
          "Private/Sambrial/3",
          "Semi/Arifwala",
          "Public/Bhakkar/4",
          "Semi/Academy",
          "Private/AJK",
          "Public/Technology/5",
          "Semi/Okara/4",
          "Private/PAC/4",
          "Semi/Vehari",
          "Public/Rawalpindi/4",
          "Public/Lahore/5",
          "Private/Sargodha/4",
          "Public/Khanewal/5",
          "Private/Shahkot/4",
          "Public/AIOU/5",
          "Semi/Gujranwala/5",
          "Semi/Academy/0",
          "Public/Gujranwala/3",
          "Public/City/3",
          "Private/Girls/0",
          "Public/Bannu/0",
          "Private/Jhang",
          "Private/Jang",
          "Private/Islamabad",
          "Private/Hyderabad",
          "Private/Shiekhupura/0",
          "Semi/System/0",
          "Public/University-AIOU-Quetta/0",
          "Semi/Gujrat/1",
          "Semi/Cantt/0",
          "Private/Lahore/1",
          "Public/Chakwal/3",
          "Semi/Chichawatni",
          "Private/Feroze/0",
          "Private/Chattha",
          "Public/Malakand/2",
          "Private/Chatta",
          "Public/Lahore/2",
          "Private/Sukkur",
          "Private/Bhakkar/0",
          "Semi/Chakwal",
          "Public/Bagh",
          "Semi/Attock/3",
          "Public/Abbottabad/3",
          "Public/Sargodha/4",
          "Semi/Shiekhupura/0",
          "Public/AJK",
          "Semi/Larkana/0",
          "Public/Tailwala",
          "Private/Sahiwal",
          "Private/Khanpur/5",
          "Semi/Bahawalnagar",
          "Private/Addu",
          "Semi",
          "Private/Rawalpindi",
          "Public/Abbottabad/5",
          "Public/Sheikhupura/4",
          "Private/Sahiwal/4",
          "Public/Multan/5",
          "Public/Bhimber",
          "Semi/Lahore/2",
          "Public/Chatha",
          "Semi/College",
          "Private/Gujranwala/0",
          "Semi/Strategically/0",
          "Semi/Hyderabad",
          "Private/Science/0",
          "Semi/Rawalpindi/0",
          "Public/Pakpattan/0",
          "Private/Khan/1",
          "Private/Lahore",
          "Private/Kamoke/0",
          "Private/Chitral/0",
          "Private/Baha-ud-Din/5",
          "Semi/Sialkot/5",
          "Semi/INN/5",
          "Private/Chaklala",
          "Semi/Quetta/4",
          "Private/Sheikhupura/5",
          "Semi/Management",
          "Semi/Academy/1",
          "Public/Chawinda/5",
          "Private/Sialkot/0",
          "Private/School",
          "Private/Vehari/5",
          "Semi/Lahore/3",
          "Private/Kohat/3",
          "Semi/Murree/0",
          "Private/Jattan/0",
          "Semi/Islamabad/0",
          "Semi/Hyderabad/5",
          "Private/Haripur/0",
          "Private/Chishtian/4",
          "Semi/Campus",
          "Private/Sambrial",
          "Public/Chichawatni",
          "Semi/Murree",
          "Private/Mianwali/0",
          "Semi/Lodhran",
          "Private/Liaqatpur/0",
          "Public/Islamabad",
          "Public/Satta/0",
          "Public/Sharif",
          "Private/Phalia/5",
          "Semi/Rawalpindi/5",
          "Private/Sargodha/5",
          "Private/Sahiwal/0",
          "Public/Bahawalnagar",
          "Public/Quetta/0",
          "Private/Pattan",
          "Semi/Vehari/4",
          "Public/Rawalpindi/2",
          "Public/Peshawar/0",
          "Private/Bhakkar/1",
          "Semi/Rawalpindi/4",
          "Private/Bagh/0",
          "Public/Jhelum/0",
          "Public/Hyderabad",
          "Private/Bhakkar/5",
          "Private/Pakistan/5",
          "Private/Muridke"
         ],
         "labels": [
          "0",
          "0",
          "1",
          "0",
          "Shahdara",
          "Jhang",
          "0",
          "3",
          "0",
          "0",
          "3",
          "4",
          "AIOU",
          "0",
          "0",
          "Chakwal",
          "Phalia",
          "Pakpattan",
          "0",
          "0",
          "0",
          "5",
          "1",
          "2",
          "Sialkot",
          "Bahawalpur",
          "4",
          "Bhalwal",
          "2",
          "4",
          "Chiniot",
          "Technology",
          "Commerce",
          "0",
          "4",
          "Rawalpindi",
          "Mansehra",
          "Abbottabad",
          "5",
          "Khan",
          "4",
          "0",
          "Chawinda",
          "Kamoki",
          "2",
          "Pakpattan",
          "4",
          "3",
          "0",
          "Attock",
          "0",
          "Jhang",
          "3",
          "2",
          "Feroze",
          "4",
          "Vehari",
          "Women",
          "0",
          "System",
          "4",
          "5",
          "kasur",
          "5",
          "Arifwala",
          "5",
          "Nowshera",
          "Marwat",
          "Alamgir",
          "1",
          "3",
          "0",
          "3",
          "Mardan",
          "4",
          "0",
          "Zafarwal",
          "Faisalabad",
          "Campus",
          "0",
          "Bhera",
          "1",
          "INN",
          "Bahawalnagar",
          "School",
          "3",
          "Sahiwal",
          "0",
          "Kotli",
          "Shiekhupura",
          "Battagram",
          "0",
          "Sadiqabad",
          "Lahore",
          "Sheikhupura",
          "Sukkur",
          "0",
          "3",
          "Khan",
          "5",
          "Swat",
          "5",
          "Multan",
          "Khan",
          "3",
          "5",
          "4",
          "Karachi",
          "0",
          "3",
          "5",
          "4",
          "Daska",
          "Okara",
          "0",
          "Commerce",
          "1",
          "2",
          "Private",
          "Singh",
          "Swat",
          "Sahib",
          "Dina",
          "Sargodha",
          "Kashmir",
          "Peshawar",
          "0",
          "5",
          "Kohat",
          "3",
          "Islamabad",
          "0",
          "Raiwind",
          "1",
          "0",
          "Sialkot",
          "Rawlakot",
          "Liaqatpur",
          "Jattan",
          "0",
          "5",
          "Kasur",
          "Kashmir",
          "0",
          "2",
          "0",
          "3",
          "0",
          "0",
          "3",
          "Layyah",
          "0",
          "0",
          "4",
          "0",
          "1",
          "Burewala",
          "4",
          "0",
          "4",
          "5",
          "0",
          "Gujrat",
          "Bhakkar",
          "Depalpur",
          "Muridke",
          "1",
          "0",
          "0",
          "4",
          "0",
          "0",
          "5",
          "4",
          "Bhakkar",
          "shiekhupura",
          "0",
          "3",
          "Mailsi",
          "Sialkot",
          "sargodha",
          "Education",
          "5",
          "Commerce",
          "0",
          "Chichawatni",
          "Bannu",
          "0",
          "Hayatabad",
          "1",
          "Cantt",
          "Shiekhupura",
          "Sukkur",
          "5",
          "Solutions",
          "Murree",
          "0",
          "0",
          "0",
          "Lodhran",
          "0",
          "Pattoki",
          "0",
          "Kohat",
          "0",
          "0",
          "Road",
          "0",
          "4",
          "0",
          "3",
          "Kasur",
          "5",
          "0",
          "Muzaffargarh",
          "5",
          "4",
          "1",
          "2",
          "Singh",
          "4",
          "3",
          "Mianwali",
          "4",
          "0",
          "3",
          "Dargai",
          "0",
          "System",
          "Daska",
          "5",
          "5",
          "Cantt",
          "1",
          "Pakpattan",
          "1",
          "Kharian",
          "CIMS",
          "3",
          "Strategically",
          "5",
          "0",
          "4",
          "5",
          "3",
          "3",
          "3",
          "4",
          "2",
          "4",
          "2",
          "3",
          "2",
          "5",
          "Baha-ud-Din",
          "Attock",
          "3",
          "(LGU)",
          "3",
          "4",
          "Bhurban",
          "3",
          "5",
          "4",
          "Abbottabad",
          "5",
          "5",
          "4",
          "Abbotabad",
          "5",
          "2",
          "0",
          "0",
          "Pasrur",
          "Okara",
          "Pasrur",
          "1",
          "Nowshera",
          "1",
          "Gujranwala",
          "Lahoree",
          "0",
          "0",
          "Hafizabad",
          "0",
          "0",
          "0",
          "0",
          "0",
          "0",
          "Technology",
          "Mardan",
          "0",
          "1",
          "College",
          "Haripur",
          "0",
          "0",
          "Samundri",
          "0",
          "0",
          "0",
          "Haroonabad",
          "0",
          "F-10/2",
          "Peshawar",
          "Arifwala",
          "5",
          "Abbottabad.",
          "Bahaudin",
          "Mirpur",
          "PAC",
          "Sahib",
          "Chawinda",
          "3",
          "Colleges",
          "Karachi",
          "Okara",
          "islamabad",
          "Quetta",
          "Colleges",
          "Sargodha",
          "Studies",
          "0",
          "0",
          "0",
          "0",
          "Sheikhupura",
          "0",
          "0",
          "0",
          "Malaysia)",
          "0",
          "4",
          "4",
          "Science",
          "0",
          "5",
          "4",
          "4",
          "Peshawar",
          "Rawalpindi",
          "4",
          "(BCKK)",
          "4",
          "0",
          "0",
          "4",
          "4",
          "5",
          "4",
          "Abbottabad",
          "0",
          "0",
          "5",
          "5",
          "0",
          "Badin",
          "Wazirabad",
          "0",
          "0",
          "2",
          "3",
          "Bhimber",
          "0",
          "2",
          "Campus)",
          "1",
          "2",
          "2",
          "Din",
          "Channu",
          "2",
          "1",
          "5",
          "1",
          "1",
          "0",
          "0",
          "5",
          "Bahauddin",
          "0",
          "Technology",
          "2",
          "Jehlum",
          "Jhelum",
          "0",
          "Balakot",
          "1",
          "Chitral",
          "Kamoke",
          "5",
          "5",
          "0",
          "2",
          "Karachi",
          "1",
          "Nagar",
          "2",
          "Attock",
          "Chattha",
          "1",
          "3",
          "Chitral",
          "Jajja",
          "5",
          "4",
          "5",
          "4",
          "Saydan",
          "Gujranwala",
          "2",
          "Bahadurabad",
          "5",
          "3",
          "Bahawalpur",
          "Girls",
          "0",
          "Kohat",
          "Women",
          "0",
          "0",
          "Swabi",
          "5",
          "University",
          "Swabi",
          "5",
          "5",
          "Chiniot",
          "5",
          "College",
          "Dargai",
          "Charsadda",
          "Cantt",
          "Faisalabad",
          "Burewala",
          "Gujrat",
          "Hafizabad",
          "Bannu",
          "Jaranwala",
          "Jhelum",
          "Bagh",
          "Management",
          "Mianwali",
          "Mianwali",
          "Mirpur",
          "(RAC)",
          "5",
          "5",
          "5",
          "5",
          "Satta",
          "5",
          "Science",
          "Sciences",
          "Sciences",
          "0",
          "4",
          "2",
          "1",
          "0",
          "0",
          "0",
          "0",
          "0",
          "3",
          "3",
          "0",
          "0",
          "0",
          "0",
          "0",
          "0",
          "0",
          "4",
          "0",
          "0",
          "4",
          "0",
          "2",
          "4",
          "4",
          "4",
          "0",
          "3",
          "0",
          "0",
          "2",
          "2",
          "0",
          "0",
          "2",
          "0",
          "1",
          "2",
          "0",
          "0",
          "2",
          "0",
          "3",
          "1",
          "0",
          "1",
          "3",
          "0",
          "3",
          "3",
          "1",
          "1",
          "3",
          "0",
          "0",
          "4",
          "0",
          "0",
          "0",
          "4",
          "0",
          "0",
          "0",
          "0",
          "0",
          "0",
          "0",
          "4",
          "4",
          "4",
          "0",
          "0",
          "0",
          "0",
          "0",
          "0",
          "0",
          "0",
          "5",
          "0",
          "0",
          "0",
          "5",
          "0",
          "0",
          "2",
          "0",
          "0",
          "Public",
          "0",
          "4",
          "4",
          "0",
          "0",
          "0",
          "0",
          "0",
          "4",
          "0",
          "4",
          "0",
          "0",
          "0",
          "4",
          "Chakwal",
          "University-AIOU-Quetta",
          "0",
          "0",
          "4",
          "Quetta",
          "5",
          "Bela",
          "Shahkot",
          "Kasur",
          "3",
          "3",
          "1",
          "1",
          "0",
          "Collage",
          "1",
          "Jauharabad",
          "0",
          "0",
          "1",
          "0",
          "0",
          "Jhelum",
          "Karak",
          "1",
          "Institute",
          "5",
          "Narowal",
          "Bhalwal",
          "5",
          "0",
          "0",
          "2",
          "khan",
          "0",
          "4",
          "4",
          "4",
          "0",
          "5",
          "4",
          "0",
          "4",
          "4",
          "Sheikhupura",
          "Gojra",
          "Bannu",
          "5",
          "Malakand",
          "Gujranwala",
          "2",
          "1",
          "Khanpur",
          "Multan",
          "0",
          "0",
          "Shakargarh",
          "5",
          "0",
          "0",
          "5",
          "5",
          "5",
          "4",
          "Pattoki",
          "Khushab",
          "0",
          "0",
          "Kharian",
          "Khanewal",
          "0",
          "0",
          "5",
          "4",
          "0",
          "Gujrat",
          "Swat",
          "3",
          "3",
          "Faisalabad",
          "1",
          "Mansehra",
          "1",
          "Faisal",
          "Shorkot",
          "Chishtian",
          "4",
          "0",
          "0",
          "4",
          "0",
          "0",
          "4",
          "Larkana",
          "0",
          "City",
          "Khanewal",
          "0",
          "5",
          "Sharaqpur",
          "4",
          "0",
          "Pakistan",
          "Jang",
          "Quetta",
          "0",
          "0",
          "Malakand",
          "0",
          "Rawalkot",
          "0",
          "0",
          "Pukhtunkhwa",
          "Mandra",
          "0",
          "0",
          "0",
          "Sargodha",
          "0",
          "Multan",
          "0",
          "0",
          "Bahawalpur",
          "Lahore",
          "3",
          "Bahaudddin",
          "3",
          "Baha-ud-Din",
          "3",
          "Arifwala",
          "4",
          "Academy",
          "AJK",
          "5",
          "4",
          "4",
          "Vehari",
          "4",
          "5",
          "4",
          "5",
          "4",
          "5",
          "5",
          "0",
          "3",
          "3",
          "0",
          "0",
          "Jhang",
          "Jang",
          "Islamabad",
          "Hyderabad",
          "0",
          "0",
          "0",
          "1",
          "0",
          "1",
          "3",
          "Chichawatni",
          "0",
          "Chattha",
          "2",
          "Chatta",
          "2",
          "Sukkur",
          "0",
          "Chakwal",
          "Bagh",
          "3",
          "3",
          "4",
          "0",
          "AJK",
          "0",
          "Tailwala",
          "Sahiwal",
          "5",
          "Bahawalnagar",
          "Addu",
          "Semi",
          "Rawalpindi",
          "5",
          "4",
          "4",
          "5",
          "Bhimber",
          "2",
          "Chatha",
          "College",
          "0",
          "0",
          "Hyderabad",
          "0",
          "0",
          "0",
          "1",
          "Lahore",
          "0",
          "0",
          "5",
          "5",
          "5",
          "Chaklala",
          "4",
          "5",
          "Management",
          "1",
          "5",
          "0",
          "School",
          "5",
          "3",
          "3",
          "0",
          "0",
          "0",
          "5",
          "0",
          "4",
          "Campus",
          "Sambrial",
          "Chichawatni",
          "Murree",
          "0",
          "Lodhran",
          "0",
          "Islamabad",
          "0",
          "Sharif",
          "5",
          "5",
          "5",
          "0",
          "Bahawalnagar",
          "0",
          "Pattan",
          "4",
          "2",
          "0",
          "1",
          "4",
          "0",
          "0",
          "Hyderabad",
          "5",
          "5",
          "Muridke"
         ],
         "marker": {
          "colors": [
           "#636efa",
           "#EF553B",
           "#00cc96",
           "#ab63fa",
           "#FFA15A",
           "#00cc96",
           "#19d3f3",
           "#FF6692",
           "#B6E880",
           "#FF97FF",
           "#FECB52",
           "#636efa",
           "#EF553B",
           "#00cc96",
           "#ab63fa",
           "#FFA15A",
           "#19d3f3",
           "#FF6692",
           "#FFA15A",
           "#B6E880",
           "#FF97FF",
           "#636efa",
           "#FECB52",
           "#636efa",
           "#EF553B",
           "#EF553B",
           "#EF553B",
           "#00cc96",
           "#ab63fa",
           "#FFA15A",
           "#ab63fa",
           "#19d3f3",
           "#FF6692",
           "#B6E880",
           "#FF97FF",
           "#FECB52",
           "#636efa",
           "#EF553B",
           "#636efa",
           "#00cc96",
           "#636efa",
           "#ab63fa",
           "#FFA15A",
           "#19d3f3",
           "#FF6692",
           "#FF6692",
           "#B6E880",
           "#636efa",
           "#FF97FF",
           "#FECB52",
           "#636efa",
           "#00cc96",
           "#EF553B",
           "#FFA15A",
           "#00cc96",
           "#EF553B",
           "#ab63fa",
           "#FFA15A",
           "#19d3f3",
           "#FF6692",
           "#B6E880",
           "#636efa",
           "#FF97FF",
           "#FECB52",
           "#FECB52",
           "#636efa",
           "#636efa",
           "#EF553B",
           "#00cc96",
           "#EF553B",
           "#FF6692",
           "#636efa",
           "#ab63fa",
           "#19d3f3",
           "#FFA15A",
           "#FFA15A",
           "#19d3f3",
           "#FF6692",
           "#B6E880",
           "#ab63fa",
           "#B6E880",
           "#EF553B",
           "#FF97FF",
           "#FECB52",
           "#636efa",
           "#FECB52",
           "#B6E880",
           "#636efa",
           "#EF553B",
           "#00cc96",
           "#ab63fa",
           "#19d3f3",
           "#FFA15A",
           "#636efa",
           "#19d3f3",
           "#FF6692",
           "#B6E880",
           "#FF97FF",
           "#00cc96",
           "#00cc96",
           "#FF97FF",
           "#FECB52",
           "#B6E880",
           "#00cc96",
           "#EF553B",
           "#EF553B",
           "#EF553B",
           "#EF553B",
           "#636efa",
           "#19d3f3",
           "#FFA15A",
           "#FF6692",
           "#EF553B",
           "#636efa",
           "#FF6692",
           "#FF6692",
           "#FF97FF",
           "#00cc96",
           "#ab63fa",
           "#FFA15A",
           "#FF97FF",
           "#19d3f3",
           "#FF6692",
           "#B6E880",
           "#FF97FF",
           "#FF6692",
           "#FECB52",
           "#00cc96",
           "#FF6692",
           "#636efa",
           "#FF97FF",
           "#EF553B",
           "#EF553B",
           "#00cc96",
           "#ab63fa",
           "#EF553B",
           "#FFA15A",
           "#19d3f3",
           "#FF6692",
           "#B6E880",
           "#19d3f3",
           "#00cc96",
           "#FF97FF",
           "#FF97FF",
           "#FF6692",
           "#FECB52",
           "#636efa",
           "#FECB52",
           "#636efa",
           "#00cc96",
           "#EF553B",
           "#FECB52",
           "#00cc96",
           "#EF553B",
           "#ab63fa",
           "#FF6692",
           "#FFA15A",
           "#19d3f3",
           "#FF6692",
           "#FFA15A",
           "#FF97FF",
           "#19d3f3",
           "#636efa",
           "#B6E880",
           "#FF6692",
           "#B6E880",
           "#ab63fa",
           "#FF97FF",
           "#FF97FF",
           "#00cc96",
           "#FF6692",
           "#FECB52",
           "#636efa",
           "#EF553B",
           "#B6E880",
           "#00cc96",
           "#ab63fa",
           "#FFA15A",
           "#19d3f3",
           "#EF553B",
           "#FF6692",
           "#B6E880",
           "#FF97FF",
           "#FF6692",
           "#B6E880",
           "#636efa",
           "#FF97FF",
           "#FF6692",
           "#ab63fa",
           "#FF6692",
           "#636efa",
           "#00cc96",
           "#FF6692",
           "#FECB52",
           "#ab63fa",
           "#FF97FF",
           "#FECB52",
           "#FF97FF",
           "#B6E880",
           "#636efa",
           "#EF553B",
           "#636efa",
           "#00cc96",
           "#FF6692",
           "#EF553B",
           "#FF97FF",
           "#ab63fa",
           "#636efa",
           "#FECB52",
           "#FFA15A",
           "#EF553B",
           "#00cc96",
           "#EF553B",
           "#FF6692",
           "#19d3f3",
           "#FF97FF",
           "#FFA15A",
           "#FF6692",
           "#FF97FF",
           "#FFA15A",
           "#FF97FF",
           "#B6E880",
           "#FFA15A",
           "#B6E880",
           "#636efa",
           "#FF6692",
           "#B6E880",
           "#ab63fa",
           "#FF6692",
           "#EF553B",
           "#EF553B",
           "#FF97FF",
           "#636efa",
           "#ab63fa",
           "#FF6692",
           "#FECB52",
           "#FFA15A",
           "#FF97FF",
           "#EF553B",
           "#FECB52",
           "#FF6692",
           "#FF6692",
           "#636efa",
           "#B6E880",
           "#FF97FF",
           "#FECB52",
           "#FF97FF",
           "#EF553B",
           "#EF553B",
           "#00cc96",
           "#636efa",
           "#B6E880",
           "#FECB52",
           "#FF6692",
           "#ab63fa",
           "#FECB52",
           "#636efa",
           "#636efa",
           "#636efa",
           "#FF97FF",
           "#00cc96",
           "#EF553B",
           "#FF6692",
           "#ab63fa",
           "#EF553B",
           "#FFA15A",
           "#FF6692",
           "#00cc96",
           "#ab63fa",
           "#FFA15A",
           "#FF6692",
           "#FFA15A",
           "#B6E880",
           "#19d3f3",
           "#636efa",
           "#19d3f3",
           "#FECB52",
           "#636efa",
           "#B6E880",
           "#00cc96",
           "#FF6692",
           "#B6E880",
           "#FF97FF",
           "#FECB52",
           "#00cc96",
           "#FFA15A",
           "#FF97FF",
           "#00cc96",
           "#FECB52",
           "#636efa",
           "#19d3f3",
           "#19d3f3",
           "#FF6692",
           "#FF6692",
           "#EF553B",
           "#636efa",
           "#FECB52",
           "#EF553B",
           "#00cc96",
           "#636efa",
           "#ab63fa",
           "#00cc96",
           "#FFA15A",
           "#B6E880",
           "#19d3f3",
           "#FF6692",
           "#FECB52",
           "#ab63fa",
           "#FF97FF",
           "#FF6692",
           "#EF553B",
           "#B6E880",
           "#19d3f3",
           "#FFA15A",
           "#FF6692",
           "#FF97FF",
           "#EF553B",
           "#636efa",
           "#FF97FF",
           "#ab63fa",
           "#FF97FF",
           "#B6E880",
           "#FECB52",
           "#00cc96",
           "#FF97FF",
           "#B6E880",
           "#FFA15A",
           "#19d3f3",
           "#EF553B",
           "#636efa",
           "#636efa",
           "#EF553B",
           "#636efa",
           "#EF553B",
           "#ab63fa",
           "#00cc96",
           "#FF6692",
           "#00cc96",
           "#636efa",
           "#00cc96",
           "#FF6692",
           "#FECB52",
           "#FF97FF",
           "#ab63fa",
           "#B6E880",
           "#FF97FF",
           "#636efa",
           "#00cc96",
           "#636efa",
           "#FECB52",
           "#19d3f3",
           "#EF553B",
           "#00cc96",
           "#FF6692",
           "#FFA15A",
           "#ab63fa",
           "#FF6692",
           "#FFA15A",
           "#FECB52",
           "#19d3f3",
           "#19d3f3",
           "#FF6692",
           "#FFA15A",
           "#FECB52",
           "#FF6692",
           "#EF553B",
           "#19d3f3",
           "#636efa",
           "#FECB52",
           "#19d3f3",
           "#B6E880",
           "#FF97FF",
           "#636efa",
           "#FF6692",
           "#EF553B",
           "#00cc96",
           "#00cc96",
           "#EF553B",
           "#19d3f3",
           "#636efa",
           "#19d3f3",
           "#FECB52",
           "#19d3f3",
           "#FECB52",
           "#636efa",
           "#FF97FF",
           "#636efa",
           "#EF553B",
           "#00cc96",
           "#00cc96",
           "#ab63fa",
           "#FFA15A",
           "#FECB52",
           "#19d3f3",
           "#EF553B",
           "#EF553B",
           "#00cc96",
           "#19d3f3",
           "#00cc96",
           "#FECB52",
           "#FF6692",
           "#EF553B",
           "#EF553B",
           "#00cc96",
           "#FECB52",
           "#00cc96",
           "#ab63fa",
           "#636efa",
           "#00cc96",
           "#B6E880",
           "#00cc96",
           "#B6E880",
           "#FF97FF",
           "#B6E880",
           "#00cc96",
           "#EF553B",
           "#FFA15A",
           "#EF553B",
           "#FF6692",
           "#FFA15A",
           "#636efa",
           "#FFA15A",
           "#19d3f3",
           "#FF97FF",
           "#B6E880",
           "#19d3f3",
           "#ab63fa",
           "#00cc96",
           "#ab63fa",
           "#EF553B",
           "#EF553B",
           "#B6E880",
           "#00cc96",
           "#636efa",
           "#FF6692",
           "#FFA15A",
           "#636efa",
           "#FECB52",
           "#FF97FF",
           "#FECB52",
           "#FF97FF",
           "#FECB52",
           "#FECB52",
           "#FFA15A",
           "#FFA15A",
           "#EF553B",
           "#636efa",
           "#EF553B",
           "#00cc96",
           "#ab63fa",
           "#FF6692",
           "#EF553B",
           "#EF553B",
           "#00cc96",
           "#636efa",
           "#636efa",
           "#B6E880",
           "#B6E880",
           "#FF97FF",
           "#EF553B",
           "#FF6692",
           "#FF6692",
           "#19d3f3",
           "#FFA15A",
           "#00cc96",
           "#00cc96",
           "#EF553B",
           "#00cc96",
           "#19d3f3",
           "#ab63fa",
           "#FF6692",
           "#636efa",
           "#636efa",
           "#FECB52",
           "#636efa",
           "#EF553B",
           "#636efa",
           "#FF6692",
           "#B6E880",
           "#FF97FF",
           "#FF6692",
           "#FF6692",
           "#00cc96",
           "#00cc96",
           "#636efa",
           "#FFA15A",
           "#EF553B",
           "#EF553B",
           "#636efa",
           "#EF553B",
           "#EF553B",
           "#FFA15A",
           "#19d3f3",
           "#636efa",
           "#FECB52",
           "#FF6692",
           "#FF97FF",
           "#B6E880",
           "#B6E880",
           "#ab63fa",
           "#636efa",
           "#00cc96",
           "#00cc96",
           "#EF553B",
           "#B6E880",
           "#FECB52",
           "#FF97FF",
           "#FF97FF",
           "#FFA15A",
           "#00cc96",
           "#00cc96",
           "#FF97FF",
           "#636efa",
           "#EF553B",
           "#B6E880",
           "#636efa",
           "#B6E880",
           "#FECB52",
           "#FF97FF",
           "#ab63fa",
           "#636efa",
           "#FF6692",
           "#FECB52",
           "#636efa",
           "#EF553B",
           "#EF553B",
           "#EF553B",
           "#FECB52",
           "#19d3f3",
           "#636efa",
           "#19d3f3",
           "#EF553B",
           "#FFA15A",
           "#00cc96",
           "#B6E880",
           "#FECB52",
           "#EF553B",
           "#EF553B",
           "#ab63fa",
           "#B6E880",
           "#FECB52",
           "#FECB52",
           "#FFA15A",
           "#FECB52",
           "#FECB52",
           "#ab63fa",
           "#FECB52",
           "#FECB52",
           "#ab63fa",
           "#EF553B",
           "#FFA15A",
           "#B6E880",
           "#B6E880",
           "#00cc96",
           "#FF6692",
           "#636efa",
           "#FF6692",
           "#FF6692",
           "#19d3f3",
           "#ab63fa",
           "#ab63fa",
           "#FFA15A",
           "#EF553B",
           "#EF553B",
           "#ab63fa",
           "#00cc96",
           "#ab63fa",
           "#B6E880",
           "#FF6692",
           "#00cc96",
           "#00cc96",
           "#FF6692",
           "#EF553B",
           "#EF553B",
           "#FF97FF",
           "#636efa",
           "#FECB52",
           "#EF553B",
           "#636efa",
           "#ab63fa",
           "#FECB52",
           "#EF553B",
           "#FFA15A",
           "#FF6692",
           "#FF97FF",
           "#FF97FF",
           "#B6E880",
           "#FFA15A",
           "#636efa",
           "#FECB52",
           "#00cc96",
           "#FECB52",
           "#EF553B",
           "#FECB52",
           "#19d3f3",
           "#FF6692",
           "#B6E880",
           "#636efa",
           "#FECB52",
           "#19d3f3",
           "#FECB52",
           "#00cc96",
           "#B6E880",
           "#636efa",
           "#FFA15A",
           "#19d3f3",
           "#19d3f3",
           "#FF6692",
           "#FF97FF",
           "#FF6692",
           "#00cc96",
           "#00cc96",
           "#00cc96",
           "#EF553B",
           "#ab63fa",
           "#B6E880",
           "#00cc96",
           "#B6E880",
           "#ab63fa",
           "#EF553B",
           "#FECB52",
           "#ab63fa",
           "#FF97FF",
           "#FF6692",
           "#FF97FF",
           "#00cc96",
           "#636efa",
           "#19d3f3",
           "#FF97FF",
           "#19d3f3",
           "#FFA15A",
           "#ab63fa",
           "#ab63fa",
           "#FECB52",
           "#636efa",
           "#B6E880",
           "#B6E880",
           "#636efa",
           "#FF97FF",
           "#EF553B",
           "#19d3f3",
           "#FF6692",
           "#FF97FF",
           "#636efa",
           "#FF6692",
           "#FFA15A",
           "#B6E880",
           "#FECB52",
           "#FFA15A",
           "#636efa",
           "#FF6692",
           "#EF553B",
           "#19d3f3",
           "#00cc96",
           "#FECB52",
           "#FFA15A",
           "#19d3f3",
           "#ab63fa",
           "#ab63fa",
           "#FECB52",
           "#636efa",
           "#00cc96",
           "#FF6692",
           "#FF97FF",
           "#19d3f3",
           "#B6E880",
           "#ab63fa",
           "#FF6692",
           "#EF553B",
           "#00cc96",
           "#FF6692",
           "#B6E880",
           "#19d3f3",
           "#00cc96",
           "#EF553B",
           "#00cc96",
           "#FFA15A",
           "#FF6692",
           "#00cc96",
           "#B6E880",
           "#FFA15A",
           "#B6E880",
           "#636efa",
           "#B6E880",
           "#EF553B",
           "#636efa",
           "#636efa",
           "#FFA15A",
           "#FECB52",
           "#ab63fa",
           "#636efa",
           "#FECB52",
           "#B6E880",
           "#FF6692",
           "#B6E880",
           "#19d3f3",
           "#636efa",
           "#B6E880",
           "#ab63fa",
           "#FECB52",
           "#636efa",
           "#B6E880",
           "#ab63fa",
           "#00cc96",
           "#EF553B",
           "#00cc96",
           "#FF6692",
           "#00cc96",
           "#ab63fa",
           "#FFA15A",
           "#FF97FF",
           "#00cc96",
           "#B6E880",
           "#FF97FF",
           "#ab63fa",
           "#00cc96",
           "#FF6692",
           "#EF553B",
           "#636efa",
           "#636efa",
           "#636efa",
           "#FFA15A",
           "#636efa",
           "#00cc96",
           "#FF6692",
           "#00cc96",
           "#FF97FF",
           "#636efa",
           "#FF6692",
           "#B6E880",
           "#FFA15A",
           "#FECB52",
           "#FECB52",
           "#EF553B",
           "#B6E880",
           "#00cc96",
           "#B6E880",
           "#FFA15A",
           "#ab63fa",
           "#B6E880",
           "#ab63fa",
           "#FECB52",
           "#EF553B",
           "#ab63fa",
           "#FECB52",
           "#EF553B",
           "#19d3f3",
           "#B6E880",
           "#B6E880",
           "#FECB52",
           "#636efa",
           "#636efa",
           "#EF553B",
           "#00cc96",
           "#FECB52",
           "#ab63fa",
           "#00cc96",
           "#FECB52",
           "#FF6692",
           "#00cc96",
           "#636efa",
           "#ab63fa",
           "#00cc96",
           "#ab63fa",
           "#EF553B",
           "#FF97FF",
           "#FECB52",
           "#ab63fa",
           "#19d3f3",
           "#FECB52",
           "#FF6692",
           "#FFA15A",
           "#EF553B",
           "#636efa",
           "#ab63fa",
           "#636efa",
           "#FF6692",
           "#FF97FF",
           "#FF6692",
           "#FF97FF",
           "#ab63fa",
           "#636efa",
           "#FECB52",
           "#B6E880",
           "#636efa",
           "#636efa",
           "#FF97FF",
           "#FFA15A",
           "#636efa",
           "#19d3f3",
           "#FF97FF",
           "#EF553B",
           "#FF97FF",
           "#19d3f3",
           "#FECB52",
           "#B6E880",
           "#B6E880",
           "#FECB52",
           "#ab63fa",
           "#FFA15A",
           "#ab63fa",
           "#FECB52",
           "#FF6692",
           "#B6E880",
           "#FECB52",
           "#FECB52",
           "#FF97FF",
           "#ab63fa",
           "#B6E880",
           "#19d3f3",
           "#B6E880"
          ]
         },
         "maxdepth": 3,
         "name": "",
         "parents": [
          "Public/Cantt",
          "Semi/Bahawalpur",
          "Public/Jhang",
          "Semi/Baha-ud-Din",
          "Private",
          "Public",
          "Semi/Mardan",
          "Private/Peshawar",
          "Private/Dargai",
          "Private/Murree",
          "Public/Hafizabad",
          "Semi/Lahore",
          "Public",
          "Private/Malakand",
          "Semi/Quetta",
          "Private",
          "Private",
          "Semi",
          "Semi/Chakwal",
          "Public/Bhera",
          "Private/Chatta",
          "Semi/Lahore",
          "Private/Wazirabad",
          "Private/Gujrat",
          "Semi",
          "Semi",
          "Semi/Bahawalpur",
          "Public",
          "Public/Chiniot",
          "Private/Kharian",
          "Private",
          "Private",
          "Semi",
          "Semi/Sahiwal",
          "Private/Islamabad",
          "Semi",
          "Private",
          "Semi",
          "Public/Gujrat",
          "Semi",
          "Public/Lahore",
          "Public/Hyderabad",
          "Private",
          "Private",
          "Public/Kohat",
          "Private",
          "Private/Bhakkar",
          "Private/Cantt",
          "Private/Swat",
          "Private",
          "Private/School",
          "Semi",
          "Private/Karachi",
          "Private/Kharian",
          "Private",
          "Private/Bahawalpur",
          "Private",
          "Public",
          "Private/Bahauddin",
          "Private",
          "Semi/Multan",
          "Private/Lahore",
          "Private",
          "Private/Rawalpindi",
          "Public",
          "Semi/Cantt",
          "Private",
          "Semi",
          "Private",
          "Private/Sialkot",
          "Private/Pakpattan",
          "Semi/School",
          "Semi/Solutions",
          "Semi",
          "Semi/Mianwali",
          "Private/Chawinda",
          "Private",
          "Public",
          "Private",
          "Semi/Vehari",
          "Public",
          "Semi/Abbottabad",
          "Semi",
          "Private",
          "Semi",
          "Private/Rawalpindi",
          "Semi",
          "Private/Pattoki",
          "Private",
          "Semi",
          "Private",
          "Private/Mardan",
          "Private",
          "Semi",
          "Public",
          "Semi",
          "Private/Rawalkot",
          "Semi/Jhelum",
          "Public",
          "Private/Khan",
          "Public",
          "Semi/Jajja",
          "Semi",
          "Private",
          "Public/Sialkot",
          "Public/Bahawalpur",
          "Public/Bahawalpur",
          "Private",
          "Private/Okara",
          "Public/Sheikhupura",
          "Public/Chakwal",
          "Public/Peshawar",
          "Semi",
          "Private",
          "Private/Faisalabad",
          "Private",
          "Semi/Islamabad",
          "Private/Gujranwala",
          "",
          "Semi",
          "Private",
          "Public",
          "Private",
          "Semi",
          "Semi",
          "Private",
          "Private/Jaranwala",
          "Private/Jhang",
          "Semi",
          "Private/Sciences",
          "Semi",
          "Private/Abbottabad",
          "Private",
          "Private/Kasur",
          "Private/Shakargarh",
          "Public",
          "Private",
          "Private",
          "Private",
          "Private/Shorkot",
          "Private/Mardan",
          "Semi",
          "Public",
          "Public/Colleges",
          "Private/Faisalabad",
          "Private/Rawalpindi",
          "Private/Pattoki",
          "Semi/Collage",
          "Semi/Chichawatni",
          "Public/Jhang",
          "Private",
          "Semi/Bahawalnagar",
          "Private/Bhurban",
          "Semi/Karachi",
          "Private/Khanpur",
          "Public/Faisalabad",
          "Public",
          "Private/Technology",
          "Semi/Kohat",
          "Private/Burewala",
          "Private/Islamabad",
          "Private/Campus)",
          "Semi",
          "Public",
          "Private",
          "Semi",
          "Private/Chiniot",
          "Private/Islamabad",
          "Public/Abbottabad.",
          "Public/Gujranwala",
          "Private/Sukkur",
          "Private/Management",
          "Private/(LGU)",
          "Private/Addu",
          "Private",
          "Private",
          "Semi/Hayatabad",
          "Semi/Faisal",
          "Private",
          "Private",
          "Private",
          "Semi",
          "Private/Colleges",
          "Public",
          "Semi/Sargodha",
          "Private",
          "Public",
          "Public/Sukkur",
          "Semi",
          "Private/Commerce",
          "Private",
          "Private",
          "Public",
          "Semi/Attock",
          "Semi",
          "Private",
          "Public/Bhimber",
          "Public/Islamabad",
          "Semi/Campus",
          "Private",
          "Private/Mirpur",
          "Public",
          "Private/Charsadda",
          "Public",
          "Semi/Karachi",
          "Private/Colleges",
          "Private",
          "Semi/Okara",
          "Private/Rawalpindi",
          "Private/Pattan",
          "Private/Raiwind",
          "Public",
          "Semi/Karachi",
          "Public/Commerce",
          "Private",
          "Public/Bannu",
          "Public/Chakwal",
          "Private/Gojra",
          "Semi/Islamabad",
          "Private",
          "Public/Bannu",
          "Public/Sargodha",
          "Semi",
          "Public/University",
          "Private/Mansehra",
          "Private/Faisalabad",
          "Private",
          "Private/Hyderabad",
          "Semi",
          "Private",
          "Private/Bahawalpur",
          "Semi/Islamabad",
          "Semi",
          "Public/Hyderabad",
          "Public",
          "Public/Rawalpindi",
          "Private",
          "Private",
          "Private/Daska",
          "Semi",
          "Semi/Faisalabad",
          "Private/Kohat",
          "Private/Jauharabad",
          "Public/Sargodha",
          "Private/Islamabad",
          "Semi/Rawalpindi",
          "Private/Jhelum",
          "Semi/Mirpur",
          "Private/College",
          "Private/Sharaqpur",
          "Private/Cantt",
          "Semi/Multan",
          "Public/Attock",
          "Public/Faisalabad",
          "Private",
          "Semi",
          "Semi/Gujrat",
          "Private",
          "Private/Gujrat",
          "Private/CIMS",
          "Private",
          "Private/Abbottabad",
          "Private/Faisalabad",
          "Public/Chiniot",
          "Private",
          "Private/Singh",
          "Semi/Sukkur",
          "Public/Jhang",
          "Private",
          "Private/Girls",
          "Semi/System",
          "Public/Women",
          "Semi/Multan",
          "Private",
          "Semi",
          "Semi",
          "Public/Attock",
          "Semi",
          "Public/Bhakkar",
          "Public",
          "Public",
          "Public/AJK",
          "Private/Karak",
          "Public",
          "Private/Bhalwal",
          "Semi/Singh",
          "Semi/Kashmir",
          "Public/Kasur",
          "Private/Chaklala",
          "Private/Chichawatni",
          "Public",
          "Private",
          "Semi/Peshawar",
          "Public/Peshawar",
          "Public",
          "Private",
          "Private/Arifwala",
          "Public/Pukhtunkhwa",
          "Private",
          "Public/Lahore",
          "Public/Khanewal",
          "Semi/Kasur",
          "Private",
          "Private/Campus",
          "Semi",
          "Semi",
          "Private",
          "Semi/Quetta",
          "Public",
          "Private",
          "Semi",
          "Private",
          "Private",
          "Public",
          "Public/Faisalabad",
          "Private",
          "Semi",
          "Public",
          "Private",
          "Semi",
          "Public",
          "Public",
          "Private",
          "Public/Gujranwala",
          "Private/islamabad",
          "Private/Sargodha",
          "Private/Shahdara",
          "Semi",
          "Semi/Mirpur",
          "Semi/Lahore",
          "Public/Chatha",
          "Private",
          "Private/Lodhran",
          "Semi/Abbottabad",
          "Private/Battagram",
          "Private",
          "Public/Lahoree",
          "Public/Gujranwala",
          "Private/Lahore",
          "Private/Bhalwal",
          "Public",
          "Public",
          "Semi/Islamabad",
          "Semi",
          "Public/Multan",
          "Public/Kashmir",
          "Private/Lahore",
          "Private/Gujranwala",
          "Private/Okara",
          "Public/Rawalpindi",
          "Private/Pasrur",
          "Public",
          "Public/Khan",
          "Public/Kohat",
          "Private/Sadiqabad",
          "Semi/Vehari",
          "Semi/Pakpattan",
          "Public",
          "Private",
          "Private/Swabi",
          "Semi/Swabi",
          "Public/Faisalabad",
          "Private/Chakwal",
          "Private",
          "Private/khan",
          "Private/Sialkot",
          "Private",
          "Semi/Lahore",
          "Private/Rawalpindi",
          "Private/Pasrur",
          "Semi",
          "Private",
          "Private/Lahore",
          "Semi/Faisalabad",
          "Private/College",
          "Semi/Kasur",
          "Public/Khan",
          "Semi/Sialkot",
          "Private/Sheikhupura",
          "Public/Cantt",
          "Private",
          "Private/Narowal",
          "Semi",
          "Semi/Attock",
          "Private",
          "Private",
          "Public/Okara",
          "Public",
          "Private/shiekhupura",
          "Public",
          "Private",
          "Public/Bahaudddin",
          "Public/Bahawalnagar",
          "Public/Sahib",
          "Private/Daska",
          "Public",
          "Private/Gujranwala",
          "Public",
          "Public/Gujranwala",
          "Public",
          "Public",
          "Private/College",
          "Semi/Abbottabad",
          "Private",
          "Semi",
          "Public/Bhalwal",
          "Semi/Hyderabad",
          "Private/Nowshera",
          "Private/Jhang",
          "Private",
          "Semi",
          "Semi/Multan",
          "Private",
          "Semi/Multan",
          "Private/Gujranwala",
          "Private",
          "Private",
          "Private/Karachi",
          "Private",
          "Private",
          "Private/Sciences",
          "Private/Rawlakot",
          "Semi",
          "Public/Islamabad",
          "Public",
          "Private",
          "Private/Hyderabad",
          "Public/Jhang",
          "Public",
          "Public/Karachi",
          "Private",
          "Semi",
          "Private",
          "Public",
          "Private",
          "Private",
          "Public",
          "Private",
          "Semi",
          "Private",
          "Public",
          "Private",
          "Private",
          "Private",
          "Public",
          "Private",
          "Private",
          "Private/Sialkot",
          "Private/Samundri",
          "Public/Quetta",
          "Public/Peshawar",
          "Public",
          "Private/Malaysia)",
          "Semi",
          "Private",
          "Semi",
          "Private/AJK",
          "Private/Multan",
          "Semi/Swat",
          "Public/Abbottabad",
          "Private/sargodha",
          "Private/Dina",
          "Private/Zafarwal",
          "Private/Women",
          "Semi/Jhang",
          "Semi/Science",
          "Semi/Sialkot",
          "Semi/Mandra",
          "Semi/Technology",
          "Public/Tailwala",
          "Private/Chattha",
          "Semi/Mansehra",
          "Private/Jehlum",
          "Private/Studies",
          "Private/Cantt",
          "Public/Bahawalpur",
          "Public/Chichawatni",
          "Private/Faisalabad",
          "Semi/Education",
          "Private/Islamabad",
          "Public/Faisalabad",
          "Semi/Faisalabad",
          "Semi/Gujranwala",
          "Private/Jhang",
          "Public/Lahore",
          "Public/Chakwal",
          "Public/Balakot",
          "Semi/Karachi",
          "Semi/Cantt",
          "Private/Layyah",
          "Private/Kotli",
          "Semi/Larkana",
          "Public/Khushab",
          "Public/Lahore",
          "Private/Narowal",
          "Public/Bela",
          "Semi/Bannu",
          "Semi/Sahiwal",
          "Public/Multan",
          "Semi/(BCKK)",
          "Private/Gujrat",
          "Private/Khan",
          "Public/Gujranwala",
          "Private/College",
          "Semi/Din",
          "Private/Hafizabad",
          "Semi/Islamabad",
          "Private/Channu",
          "Public/Chakwal",
          "Semi/Khan",
          "Private/Kasur",
          "Private/Bannu",
          "Semi/Gujrat",
          "Private/Bahawalpur",
          "Private/Jang",
          "Semi/Gujrat",
          "Semi/Sahiwal",
          "Private/Hafizabad",
          "Public/Sharif",
          "Private/Quetta",
          "Public/Gujrat",
          "Private/Peshawar",
          "Private/Attock",
          "Public/Pattoki",
          "Private/Sialkot",
          "Public/Sialkot",
          "Semi/Sialkot",
          "Public/Attock",
          "Semi/Pasrur",
          "Private/Nowshera",
          "Public/Nagar",
          "Private/College",
          "Semi/Mianwali",
          "Semi/Gujranwala",
          "Private/Muridke",
          "Public/Attock",
          "Semi/Abbottabad",
          "Public/College",
          "Private/Abbotabad",
          "Private/Campus",
          "Public/Arifwala",
          "Semi/Attock",
          "Private/Haroonabad",
          "Public/Hafizabad",
          "Private/Chishtian",
          "",
          "Private/Bahawalnagar",
          "Private/Narowal",
          "Private/Khanewal",
          "Semi/College",
          "Public/Badin",
          "Private/Saydan",
          "Public/Sargodha",
          "Semi/Science",
          "Private/Peshawar",
          "Private/Sambrial",
          "Public/Kohat",
          "Public/Faisalabad",
          "Private/Sahib",
          "Private/Road",
          "Public/Quetta",
          "Public",
          "Public",
          "Public/Karachi",
          "Private/Chiniot",
          "Private/Alamgir",
          "Private",
          "Semi/Sahiwal",
          "Public",
          "Private",
          "Private",
          "Private/Depalpur",
          "Public/Bahawalpur",
          "Public/Satta",
          "Private/kasur",
          "Semi/Sciences",
          "Semi",
          "Private/Karachi",
          "Private",
          "Public/City",
          "Semi/Management",
          "Semi/Karachi",
          "Public/Mianwali",
          "Private/System",
          "Semi",
          "Private",
          "Private/Multan",
          "Semi",
          "Private/Cantt",
          "Private",
          "Private",
          "Private/Jaranwala",
          "Semi/Daska",
          "Semi/Arifwala",
          "Private/Muzaffargarh",
          "Private",
          "Semi/Dargai",
          "Private/(RAC)",
          "Semi/Attock",
          "Public/Nagar",
          "Public/Bahawalnagar",
          "Private/Gujranwala",
          "Semi/Sargodha",
          "Semi/Nowshera",
          "Private/Singh",
          "Private/Sheikhupura",
          "Private",
          "Private",
          "Private",
          "Semi/Peshawar",
          "Public",
          "Private",
          "Semi/Gujranwala",
          "Semi/Sialkot",
          "Private",
          "Public",
          "Public/Chitral",
          "Public/Bhakkar",
          "Private",
          "Private/Karachi",
          "Public/Rawalpindi",
          "Public/Chiniot",
          "Semi/Swat",
          "Private/Bahaudin",
          "Public/Swat",
          "Private/Khan",
          "Private",
          "Public",
          "Private/Bahadurabad",
          "Semi/Sheikhupura",
          "Semi",
          "Public",
          "Semi/Hyderabad",
          "Public/Bagh",
          "Private/Gujrat",
          "Semi/Jang",
          "Private/Multan",
          "Private",
          "Semi",
          "Semi/Karachi",
          "Public/Sahib",
          "Semi",
          "Public/Jhelum",
          "Semi",
          "Semi/Peshawar",
          "Semi",
          "Private",
          "Private",
          "Public/Burewala",
          "Semi/Lodhran",
          "Public/Chattha",
          "Public/College",
          "Private/Mailsi",
          "Public/Malakand",
          "Public/Bahawalnagar",
          "Semi",
          "Semi/F-10/2",
          "Public",
          "Private",
          "Private/Bhimber",
          "Private/Okara",
          "Private",
          "Semi/Peshawar",
          "Private/Jhelum",
          "Private",
          "Semi",
          "Public",
          "Private/Commerce",
          "Semi/Marwat",
          "Private",
          "Semi/Faisalabad",
          "Private",
          "Private/Kamoki",
          "Public/Jhang",
          "Public",
          "Semi",
          "Semi/Kharian",
          "Semi/Commerce",
          "Semi/Khan",
          "Private",
          "Semi/Institute",
          "Private",
          "Private/Cantt",
          "Semi/Muridke",
          "Public",
          "Public",
          "Private/Lahore",
          "Public",
          "Public/Rawalpindi",
          "Semi",
          "Private/Sambrial",
          "Semi",
          "Public/Bhakkar",
          "Semi",
          "Private",
          "Public/Technology",
          "Semi/Okara",
          "Private/PAC",
          "Semi",
          "Public/Rawalpindi",
          "Public/Lahore",
          "Private/Sargodha",
          "Public/Khanewal",
          "Private/Shahkot",
          "Public/AIOU",
          "Semi/Gujranwala",
          "Semi/Academy",
          "Public/Gujranwala",
          "Public/City",
          "Private/Girls",
          "Public/Bannu",
          "Private",
          "Private",
          "Private",
          "Private",
          "Private/Shiekhupura",
          "Semi/System",
          "Public/University-AIOU-Quetta",
          "Semi/Gujrat",
          "Semi/Cantt",
          "Private/Lahore",
          "Public/Chakwal",
          "Semi",
          "Private/Feroze",
          "Private",
          "Public/Malakand",
          "Private",
          "Public/Lahore",
          "Private",
          "Private/Bhakkar",
          "Semi",
          "Public",
          "Semi/Attock",
          "Public/Abbottabad",
          "Public/Sargodha",
          "Semi/Shiekhupura",
          "Public",
          "Semi/Larkana",
          "Public",
          "Private",
          "Private/Khanpur",
          "Semi",
          "Private",
          "",
          "Private",
          "Public/Abbottabad",
          "Public/Sheikhupura",
          "Private/Sahiwal",
          "Public/Multan",
          "Public",
          "Semi/Lahore",
          "Public",
          "Semi",
          "Private/Gujranwala",
          "Semi/Strategically",
          "Semi",
          "Private/Science",
          "Semi/Rawalpindi",
          "Public/Pakpattan",
          "Private/Khan",
          "Private",
          "Private/Kamoke",
          "Private/Chitral",
          "Private/Baha-ud-Din",
          "Semi/Sialkot",
          "Semi/INN",
          "Private",
          "Semi/Quetta",
          "Private/Sheikhupura",
          "Semi",
          "Semi/Academy",
          "Public/Chawinda",
          "Private/Sialkot",
          "Private",
          "Private/Vehari",
          "Semi/Lahore",
          "Private/Kohat",
          "Semi/Murree",
          "Private/Jattan",
          "Semi/Islamabad",
          "Semi/Hyderabad",
          "Private/Haripur",
          "Private/Chishtian",
          "Semi",
          "Private",
          "Public",
          "Semi",
          "Private/Mianwali",
          "Semi",
          "Private/Liaqatpur",
          "Public",
          "Public/Satta",
          "Public",
          "Private/Phalia",
          "Semi/Rawalpindi",
          "Private/Sargodha",
          "Private/Sahiwal",
          "Public",
          "Public/Quetta",
          "Private",
          "Semi/Vehari",
          "Public/Rawalpindi",
          "Public/Peshawar",
          "Private/Bhakkar",
          "Semi/Rawalpindi",
          "Private/Bagh",
          "Public/Jhelum",
          "Public",
          "Private/Bhakkar",
          "Private/Pakistan",
          "Private"
         ],
         "type": "sunburst",
         "values": [
          4,
          7,
          1,
          1,
          1,
          15,
          2,
          1,
          1,
          1,
          1,
          10,
          1,
          1,
          4,
          1,
          1,
          1,
          3,
          2,
          1,
          8,
          1,
          1,
          10,
          8,
          1,
          1,
          1,
          1,
          2,
          1,
          3,
          4,
          1,
          39,
          2,
          14,
          3,
          3,
          5,
          2,
          1,
          1,
          1,
          1,
          1,
          1,
          2,
          2,
          1,
          2,
          1,
          1,
          1,
          1,
          1,
          1,
          2,
          1,
          2,
          6,
          1,
          4,
          1,
          2,
          3,
          1,
          1,
          1,
          1,
          1,
          1,
          2,
          1,
          1,
          1,
          57,
          2,
          1,
          2,
          2,
          1,
          3,
          1,
          3,
          8,
          1,
          1,
          1,
          1,
          4,
          1,
          98,
          2,
          1,
          1,
          1,
          16,
          1,
          1,
          1,
          19,
          15,
          1,
          7,
          1,
          6,
          5,
          1,
          1,
          3,
          1,
          7,
          9,
          3,
          1,
          1,
          561,
          3,
          2,
          3,
          1,
          11,
          2,
          11,
          1,
          1,
          1,
          1,
          34,
          5,
          1,
          1,
          1,
          3,
          1,
          1,
          1,
          1,
          1,
          3,
          2,
          1,
          1,
          32,
          2,
          1,
          1,
          1,
          2,
          1,
          1,
          8,
          1,
          3,
          1,
          1,
          1,
          1,
          6,
          1,
          9,
          20,
          2,
          1,
          1,
          64,
          1,
          1,
          1,
          1,
          1,
          1,
          6,
          1,
          1,
          1,
          1,
          8,
          1,
          1,
          1,
          1,
          10,
          1,
          8,
          1,
          1,
          1,
          29,
          1,
          1,
          1,
          1,
          1,
          4,
          3,
          2,
          2,
          2,
          1,
          1,
          9,
          67,
          7,
          1,
          1,
          5,
          1,
          1,
          13,
          11,
          1,
          1,
          1,
          2,
          1,
          1,
          2,
          1,
          1,
          3,
          1,
          2,
          1,
          1,
          1,
          4,
          2,
          1,
          3,
          5,
          1,
          1,
          1,
          2,
          1,
          1,
          1,
          2,
          8,
          1,
          1,
          3,
          3,
          1,
          1,
          1,
          2,
          1,
          2,
          2,
          4,
          1,
          5,
          3,
          1,
          1,
          1,
          1,
          1,
          1,
          1,
          6,
          1,
          1,
          1,
          1,
          1,
          1,
          1,
          11,
          2,
          2,
          1,
          1,
          1,
          2,
          32,
          1,
          3,
          1,
          7,
          2,
          3,
          2,
          13,
          1,
          1,
          1,
          5,
          25,
          1,
          2,
          2,
          3,
          1,
          1,
          30,
          14,
          2,
          1,
          1,
          1,
          33,
          3,
          1,
          1,
          1,
          4,
          1,
          1,
          1,
          3,
          8,
          96,
          1,
          1,
          6,
          1,
          33,
          1,
          27,
          1,
          10,
          1,
          3,
          3,
          60,
          1,
          1,
          2,
          1,
          1,
          1,
          1,
          1,
          6,
          1,
          17,
          10,
          3,
          1,
          2,
          2,
          24,
          3,
          1,
          1,
          1,
          3,
          13,
          7,
          1,
          1,
          1,
          4,
          1,
          2,
          1,
          2,
          1,
          7,
          1,
          1,
          1,
          6,
          1,
          1,
          1,
          1,
          4,
          1,
          5,
          1,
          3,
          4,
          4,
          1,
          2,
          1,
          1,
          1,
          1,
          2,
          1,
          1,
          1,
          1,
          1,
          1,
          1,
          2,
          1,
          3,
          1,
          2,
          1,
          20,
          2,
          1,
          1,
          1,
          1,
          1,
          1,
          2,
          2,
          1,
          10,
          2,
          1,
          2,
          4,
          8,
          3,
          2,
          10,
          1,
          1,
          1,
          1,
          3,
          1,
          2,
          1,
          3,
          9,
          1,
          24,
          1,
          1,
          5,
          13,
          1,
          23,
          4,
          1,
          2,
          12,
          1,
          1,
          2,
          1,
          2,
          1,
          1,
          1,
          2,
          3,
          2,
          1,
          2,
          2,
          7,
          2,
          3,
          1,
          1,
          1,
          1,
          1,
          1,
          2,
          1,
          1,
          1,
          1,
          1,
          1,
          1,
          1,
          1,
          1,
          12,
          1,
          1,
          1,
          1,
          6,
          2,
          3,
          2,
          5,
          9,
          1,
          5,
          1,
          2,
          1,
          1,
          14,
          7,
          1,
          1,
          1,
          1,
          2,
          1,
          1,
          11,
          1,
          1,
          1,
          1,
          1,
          1,
          1,
          1,
          1,
          2,
          1,
          6,
          1,
          4,
          1,
          3,
          1,
          1,
          20,
          9,
          2,
          1,
          2,
          2,
          2,
          15,
          1,
          1,
          1,
          16,
          2,
          4,
          1,
          2,
          10,
          1,
          1,
          1,
          1,
          1,
          1,
          6,
          1,
          539,
          3,
          1,
          1,
          4,
          4,
          1,
          30,
          1,
          1,
          1,
          1,
          39,
          1,
          1,
          1,
          14,
          1,
          2,
          1,
          1,
          1,
          2,
          1,
          1,
          2,
          2,
          1,
          1,
          1,
          7,
          1,
          1,
          1,
          1,
          1,
          1,
          1,
          1,
          1,
          1,
          1,
          1,
          7,
          3,
          3,
          1,
          1,
          1,
          1,
          1,
          1,
          1,
          1,
          1,
          17,
          2,
          1,
          1,
          1,
          2,
          7,
          1,
          2,
          1,
          2,
          16,
          1,
          1,
          2,
          5,
          1,
          16,
          1,
          2,
          4,
          7,
          1,
          1,
          1,
          2,
          3,
          14,
          1,
          3,
          1,
          15,
          2,
          4,
          1,
          1,
          12,
          4,
          2,
          4,
          1,
          16,
          2,
          1,
          1,
          1,
          1,
          2,
          1,
          1,
          2,
          1,
          1,
          1,
          1,
          2,
          1,
          2,
          1,
          7,
          1,
          2,
          6,
          1,
          1,
          1,
          4,
          2,
          1,
          1,
          11,
          1,
          1,
          9,
          1,
          1,
          1,
          3,
          2,
          16,
          1,
          16,
          19,
          1,
          21,
          59,
          4,
          1,
          1,
          1,
          1,
          1,
          2,
          2,
          2,
          1,
          1,
          1,
          3,
          1,
          9,
          2,
          1,
          1,
          1,
          2,
          1,
          1,
          1,
          2,
          6,
          5,
          1,
          75,
          2,
          1,
          3,
          1,
          1,
          2,
          2,
          1,
          1,
          1,
          1,
          1,
          1,
          3,
          1,
          3,
          3,
          4,
          1,
          1,
          1,
          1,
          3,
          1,
          1,
          5,
          1,
          1,
          1,
          526,
          45,
          1,
          1,
          1,
          1,
          4,
          4,
          1,
          4,
          5,
          1,
          5,
          1,
          31,
          1,
          1,
          46,
          1,
          1,
          1,
          2,
          1,
          1,
          1,
          1,
          1,
          1,
          1,
          3,
          1,
          1,
          10,
          2,
          2,
          1,
          25,
          2,
          2,
          1,
          2,
          2,
          1,
          2,
          2,
          1,
          1,
          6,
          1,
          1,
          1,
          4,
          4,
          4,
          19,
          1,
          1,
          1,
          2,
          10,
          1,
          1,
          1,
          10,
          3,
          1,
          1,
          1
         ]
        }
       ],
       "layout": {
        "height": 1000,
        "legend": {
         "tracegroupgap": 0
        },
        "margin": {
         "t": 60
        },
        "template": {
         "data": {
          "bar": [
           {
            "error_x": {
             "color": "#2a3f5f"
            },
            "error_y": {
             "color": "#2a3f5f"
            },
            "marker": {
             "line": {
              "color": "#E5ECF6",
              "width": 0.5
             },
             "pattern": {
              "fillmode": "overlay",
              "size": 10,
              "solidity": 0.2
             }
            },
            "type": "bar"
           }
          ],
          "barpolar": [
           {
            "marker": {
             "line": {
              "color": "#E5ECF6",
              "width": 0.5
             },
             "pattern": {
              "fillmode": "overlay",
              "size": 10,
              "solidity": 0.2
             }
            },
            "type": "barpolar"
           }
          ],
          "carpet": [
           {
            "aaxis": {
             "endlinecolor": "#2a3f5f",
             "gridcolor": "white",
             "linecolor": "white",
             "minorgridcolor": "white",
             "startlinecolor": "#2a3f5f"
            },
            "baxis": {
             "endlinecolor": "#2a3f5f",
             "gridcolor": "white",
             "linecolor": "white",
             "minorgridcolor": "white",
             "startlinecolor": "#2a3f5f"
            },
            "type": "carpet"
           }
          ],
          "choropleth": [
           {
            "colorbar": {
             "outlinewidth": 0,
             "ticks": ""
            },
            "type": "choropleth"
           }
          ],
          "contour": [
           {
            "colorbar": {
             "outlinewidth": 0,
             "ticks": ""
            },
            "colorscale": [
             [
              0,
              "#0d0887"
             ],
             [
              0.1111111111111111,
              "#46039f"
             ],
             [
              0.2222222222222222,
              "#7201a8"
             ],
             [
              0.3333333333333333,
              "#9c179e"
             ],
             [
              0.4444444444444444,
              "#bd3786"
             ],
             [
              0.5555555555555556,
              "#d8576b"
             ],
             [
              0.6666666666666666,
              "#ed7953"
             ],
             [
              0.7777777777777778,
              "#fb9f3a"
             ],
             [
              0.8888888888888888,
              "#fdca26"
             ],
             [
              1,
              "#f0f921"
             ]
            ],
            "type": "contour"
           }
          ],
          "contourcarpet": [
           {
            "colorbar": {
             "outlinewidth": 0,
             "ticks": ""
            },
            "type": "contourcarpet"
           }
          ],
          "heatmap": [
           {
            "colorbar": {
             "outlinewidth": 0,
             "ticks": ""
            },
            "colorscale": [
             [
              0,
              "#0d0887"
             ],
             [
              0.1111111111111111,
              "#46039f"
             ],
             [
              0.2222222222222222,
              "#7201a8"
             ],
             [
              0.3333333333333333,
              "#9c179e"
             ],
             [
              0.4444444444444444,
              "#bd3786"
             ],
             [
              0.5555555555555556,
              "#d8576b"
             ],
             [
              0.6666666666666666,
              "#ed7953"
             ],
             [
              0.7777777777777778,
              "#fb9f3a"
             ],
             [
              0.8888888888888888,
              "#fdca26"
             ],
             [
              1,
              "#f0f921"
             ]
            ],
            "type": "heatmap"
           }
          ],
          "heatmapgl": [
           {
            "colorbar": {
             "outlinewidth": 0,
             "ticks": ""
            },
            "colorscale": [
             [
              0,
              "#0d0887"
             ],
             [
              0.1111111111111111,
              "#46039f"
             ],
             [
              0.2222222222222222,
              "#7201a8"
             ],
             [
              0.3333333333333333,
              "#9c179e"
             ],
             [
              0.4444444444444444,
              "#bd3786"
             ],
             [
              0.5555555555555556,
              "#d8576b"
             ],
             [
              0.6666666666666666,
              "#ed7953"
             ],
             [
              0.7777777777777778,
              "#fb9f3a"
             ],
             [
              0.8888888888888888,
              "#fdca26"
             ],
             [
              1,
              "#f0f921"
             ]
            ],
            "type": "heatmapgl"
           }
          ],
          "histogram": [
           {
            "marker": {
             "pattern": {
              "fillmode": "overlay",
              "size": 10,
              "solidity": 0.2
             }
            },
            "type": "histogram"
           }
          ],
          "histogram2d": [
           {
            "colorbar": {
             "outlinewidth": 0,
             "ticks": ""
            },
            "colorscale": [
             [
              0,
              "#0d0887"
             ],
             [
              0.1111111111111111,
              "#46039f"
             ],
             [
              0.2222222222222222,
              "#7201a8"
             ],
             [
              0.3333333333333333,
              "#9c179e"
             ],
             [
              0.4444444444444444,
              "#bd3786"
             ],
             [
              0.5555555555555556,
              "#d8576b"
             ],
             [
              0.6666666666666666,
              "#ed7953"
             ],
             [
              0.7777777777777778,
              "#fb9f3a"
             ],
             [
              0.8888888888888888,
              "#fdca26"
             ],
             [
              1,
              "#f0f921"
             ]
            ],
            "type": "histogram2d"
           }
          ],
          "histogram2dcontour": [
           {
            "colorbar": {
             "outlinewidth": 0,
             "ticks": ""
            },
            "colorscale": [
             [
              0,
              "#0d0887"
             ],
             [
              0.1111111111111111,
              "#46039f"
             ],
             [
              0.2222222222222222,
              "#7201a8"
             ],
             [
              0.3333333333333333,
              "#9c179e"
             ],
             [
              0.4444444444444444,
              "#bd3786"
             ],
             [
              0.5555555555555556,
              "#d8576b"
             ],
             [
              0.6666666666666666,
              "#ed7953"
             ],
             [
              0.7777777777777778,
              "#fb9f3a"
             ],
             [
              0.8888888888888888,
              "#fdca26"
             ],
             [
              1,
              "#f0f921"
             ]
            ],
            "type": "histogram2dcontour"
           }
          ],
          "mesh3d": [
           {
            "colorbar": {
             "outlinewidth": 0,
             "ticks": ""
            },
            "type": "mesh3d"
           }
          ],
          "parcoords": [
           {
            "line": {
             "colorbar": {
              "outlinewidth": 0,
              "ticks": ""
             }
            },
            "type": "parcoords"
           }
          ],
          "pie": [
           {
            "automargin": true,
            "type": "pie"
           }
          ],
          "scatter": [
           {
            "fillpattern": {
             "fillmode": "overlay",
             "size": 10,
             "solidity": 0.2
            },
            "type": "scatter"
           }
          ],
          "scatter3d": [
           {
            "line": {
             "colorbar": {
              "outlinewidth": 0,
              "ticks": ""
             }
            },
            "marker": {
             "colorbar": {
              "outlinewidth": 0,
              "ticks": ""
             }
            },
            "type": "scatter3d"
           }
          ],
          "scattercarpet": [
           {
            "marker": {
             "colorbar": {
              "outlinewidth": 0,
              "ticks": ""
             }
            },
            "type": "scattercarpet"
           }
          ],
          "scattergeo": [
           {
            "marker": {
             "colorbar": {
              "outlinewidth": 0,
              "ticks": ""
             }
            },
            "type": "scattergeo"
           }
          ],
          "scattergl": [
           {
            "marker": {
             "colorbar": {
              "outlinewidth": 0,
              "ticks": ""
             }
            },
            "type": "scattergl"
           }
          ],
          "scattermapbox": [
           {
            "marker": {
             "colorbar": {
              "outlinewidth": 0,
              "ticks": ""
             }
            },
            "type": "scattermapbox"
           }
          ],
          "scatterpolar": [
           {
            "marker": {
             "colorbar": {
              "outlinewidth": 0,
              "ticks": ""
             }
            },
            "type": "scatterpolar"
           }
          ],
          "scatterpolargl": [
           {
            "marker": {
             "colorbar": {
              "outlinewidth": 0,
              "ticks": ""
             }
            },
            "type": "scatterpolargl"
           }
          ],
          "scatterternary": [
           {
            "marker": {
             "colorbar": {
              "outlinewidth": 0,
              "ticks": ""
             }
            },
            "type": "scatterternary"
           }
          ],
          "surface": [
           {
            "colorbar": {
             "outlinewidth": 0,
             "ticks": ""
            },
            "colorscale": [
             [
              0,
              "#0d0887"
             ],
             [
              0.1111111111111111,
              "#46039f"
             ],
             [
              0.2222222222222222,
              "#7201a8"
             ],
             [
              0.3333333333333333,
              "#9c179e"
             ],
             [
              0.4444444444444444,
              "#bd3786"
             ],
             [
              0.5555555555555556,
              "#d8576b"
             ],
             [
              0.6666666666666666,
              "#ed7953"
             ],
             [
              0.7777777777777778,
              "#fb9f3a"
             ],
             [
              0.8888888888888888,
              "#fdca26"
             ],
             [
              1,
              "#f0f921"
             ]
            ],
            "type": "surface"
           }
          ],
          "table": [
           {
            "cells": {
             "fill": {
              "color": "#EBF0F8"
             },
             "line": {
              "color": "white"
             }
            },
            "header": {
             "fill": {
              "color": "#C8D4E3"
             },
             "line": {
              "color": "white"
             }
            },
            "type": "table"
           }
          ]
         },
         "layout": {
          "annotationdefaults": {
           "arrowcolor": "#2a3f5f",
           "arrowhead": 0,
           "arrowwidth": 1
          },
          "autotypenumbers": "strict",
          "coloraxis": {
           "colorbar": {
            "outlinewidth": 0,
            "ticks": ""
           }
          },
          "colorscale": {
           "diverging": [
            [
             0,
             "#8e0152"
            ],
            [
             0.1,
             "#c51b7d"
            ],
            [
             0.2,
             "#de77ae"
            ],
            [
             0.3,
             "#f1b6da"
            ],
            [
             0.4,
             "#fde0ef"
            ],
            [
             0.5,
             "#f7f7f7"
            ],
            [
             0.6,
             "#e6f5d0"
            ],
            [
             0.7,
             "#b8e186"
            ],
            [
             0.8,
             "#7fbc41"
            ],
            [
             0.9,
             "#4d9221"
            ],
            [
             1,
             "#276419"
            ]
           ],
           "sequential": [
            [
             0,
             "#0d0887"
            ],
            [
             0.1111111111111111,
             "#46039f"
            ],
            [
             0.2222222222222222,
             "#7201a8"
            ],
            [
             0.3333333333333333,
             "#9c179e"
            ],
            [
             0.4444444444444444,
             "#bd3786"
            ],
            [
             0.5555555555555556,
             "#d8576b"
            ],
            [
             0.6666666666666666,
             "#ed7953"
            ],
            [
             0.7777777777777778,
             "#fb9f3a"
            ],
            [
             0.8888888888888888,
             "#fdca26"
            ],
            [
             1,
             "#f0f921"
            ]
           ],
           "sequentialminus": [
            [
             0,
             "#0d0887"
            ],
            [
             0.1111111111111111,
             "#46039f"
            ],
            [
             0.2222222222222222,
             "#7201a8"
            ],
            [
             0.3333333333333333,
             "#9c179e"
            ],
            [
             0.4444444444444444,
             "#bd3786"
            ],
            [
             0.5555555555555556,
             "#d8576b"
            ],
            [
             0.6666666666666666,
             "#ed7953"
            ],
            [
             0.7777777777777778,
             "#fb9f3a"
            ],
            [
             0.8888888888888888,
             "#fdca26"
            ],
            [
             1,
             "#f0f921"
            ]
           ]
          },
          "colorway": [
           "#636efa",
           "#EF553B",
           "#00cc96",
           "#ab63fa",
           "#FFA15A",
           "#19d3f3",
           "#FF6692",
           "#B6E880",
           "#FF97FF",
           "#FECB52"
          ],
          "font": {
           "color": "#2a3f5f"
          },
          "geo": {
           "bgcolor": "white",
           "lakecolor": "white",
           "landcolor": "#E5ECF6",
           "showlakes": true,
           "showland": true,
           "subunitcolor": "white"
          },
          "hoverlabel": {
           "align": "left"
          },
          "hovermode": "closest",
          "mapbox": {
           "style": "light"
          },
          "paper_bgcolor": "white",
          "plot_bgcolor": "#E5ECF6",
          "polar": {
           "angularaxis": {
            "gridcolor": "white",
            "linecolor": "white",
            "ticks": ""
           },
           "bgcolor": "#E5ECF6",
           "radialaxis": {
            "gridcolor": "white",
            "linecolor": "white",
            "ticks": ""
           }
          },
          "scene": {
           "xaxis": {
            "backgroundcolor": "#E5ECF6",
            "gridcolor": "white",
            "gridwidth": 2,
            "linecolor": "white",
            "showbackground": true,
            "ticks": "",
            "zerolinecolor": "white"
           },
           "yaxis": {
            "backgroundcolor": "#E5ECF6",
            "gridcolor": "white",
            "gridwidth": 2,
            "linecolor": "white",
            "showbackground": true,
            "ticks": "",
            "zerolinecolor": "white"
           },
           "zaxis": {
            "backgroundcolor": "#E5ECF6",
            "gridcolor": "white",
            "gridwidth": 2,
            "linecolor": "white",
            "showbackground": true,
            "ticks": "",
            "zerolinecolor": "white"
           }
          },
          "shapedefaults": {
           "line": {
            "color": "#2a3f5f"
           }
          },
          "ternary": {
           "aaxis": {
            "gridcolor": "white",
            "linecolor": "white",
            "ticks": ""
           },
           "baxis": {
            "gridcolor": "white",
            "linecolor": "white",
            "ticks": ""
           },
           "bgcolor": "#E5ECF6",
           "caxis": {
            "gridcolor": "white",
            "linecolor": "white",
            "ticks": ""
           }
          },
          "title": {
           "x": 0.05
          },
          "xaxis": {
           "automargin": true,
           "gridcolor": "white",
           "linecolor": "white",
           "ticks": "",
           "title": {
            "standoff": 15
           },
           "zerolinecolor": "white",
           "zerolinewidth": 2
          },
          "yaxis": {
           "automargin": true,
           "gridcolor": "white",
           "linecolor": "white",
           "ticks": "",
           "title": {
            "standoff": 15
           },
           "zerolinecolor": "white",
           "zerolinewidth": 2
          }
         }
        },
        "width": 1200
       }
      }
     },
     "metadata": {},
     "output_type": "display_data"
    }
   ],
   "source": [
    "fig = px.sunburst(data_frame=df, \n",
    "                  path=[\"Sector\", \"City\", \"Rating\"], \n",
    "                  width=1200, \n",
    "                  height=1000, \n",
    "                  color=\"City\",\n",
    "                  maxdepth=3,\n",
    "                  hover_data=[\"Sector\", \"City\", \"Rating\"])\n",
    "\n",
    "fig.show()"
   ]
  },
  {
   "cell_type": "markdown",
   "metadata": {},
   "source": [
    "### Overview of Private Sector in Pakistan.\n",
    "* In Pakistan number of Private Sectors are greater then Public Sector colleges.\n",
    "* In Quality Education Private Sector has overall good performance especially in major cities like Islamabad, Lahore and Quetta.\n",
    "### Overview of Public Sector in Pakistan.\n",
    "* Public sectors have good rating only in major cities only.\n",
    "* In rural areas Public sector still need development.\n",
    "  \n",
    "### Overall.\n",
    "* Overall the best educational institutes both Public and Private are in Lahore with top Ratings.\n",
    "  "
   ]
  }
 ],
 "metadata": {
  "kernelspec": {
   "display_name": "python_ML",
   "language": "python",
   "name": "python3"
  },
  "language_info": {
   "codemirror_mode": {
    "name": "ipython",
    "version": 3
   },
   "file_extension": ".py",
   "mimetype": "text/x-python",
   "name": "python",
   "nbconvert_exporter": "python",
   "pygments_lexer": "ipython3",
   "version": "3.12.3"
  }
 },
 "nbformat": 4,
 "nbformat_minor": 2
}
